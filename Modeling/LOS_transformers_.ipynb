{
  "nbformat": 4,
  "nbformat_minor": 0,
  "metadata": {
    "colab": {
      "provenance": [],
      "machine_shape": "hm"
    },
    "kernelspec": {
      "name": "python3",
      "display_name": "Python 3"
    },
    "language_info": {
      "name": "python"
    }
  },
  "cells": [
    {
      "cell_type": "markdown",
      "source": [
        "# 초기모델"
      ],
      "metadata": {
        "id": "II6BThQ6ZRsJ"
      }
    },
    {
      "cell_type": "markdown",
      "source": [
        "## 심장병\n"
      ],
      "metadata": {
        "id": "B8dIii24Y9QO"
      }
    },
    {
      "cell_type": "markdown",
      "source": [
        "### 6h_hpt"
      ],
      "metadata": {
        "id": "1EuOu_U_5Twv"
      }
    },
    {
      "cell_type": "code",
      "source": [
        "# 데이터 준비 과정과 모델링 부분 설명\n",
        "# 주어진 코드는 ICU의 입원 기간(LoS, Length of Stay)을 예측하기 위해 트랜스포머 기반 모델을 사용하여 실험하는 것입니다.\n",
        "\n",
        "import numpy as np\n",
        "import pandas as pd\n",
        "from sklearn.preprocessing import StandardScaler\n",
        "from sklearn.model_selection import KFold\n",
        "from sklearn.metrics import mean_absolute_error, mean_squared_error, r2_score\n",
        "import matplotlib.pyplot as plt\n",
        "import tensorflow as tf\n",
        "from tensorflow.keras.models import Model\n",
        "from tensorflow.keras.layers import Input, Dense, MultiHeadAttention, LayerNormalization, Dropout, GlobalAveragePooling1D\n",
        "from tqdm import tqdm\n",
        "\n",
        "# 데이터 준비\n",
        "# 새로운 데이터셋 불러오기\n",
        "df_circ_target = pd.read_csv('/content/drive/MyDrive/DA_dataset/circulatory_diseases/circulatory_target_in_6hour.csv')\n",
        "df_circ_dataset = pd.read_csv('/content/drive/MyDrive/DA_dataset/circulatory_diseases/circulatory_dataset_6hours.csv')\n",
        "\n",
        "# Feature와 Target 결합\n",
        "merged_dataset = pd.merge(df_circ_dataset, df_circ_target, on='stay_id')\n",
        "\n",
        "# Feature와 Target 분리\n",
        "X = merged_dataset.drop(columns=[\"stay_id\", \"los\"])\n",
        "y = merged_dataset[\"los\"]\n",
        "\n",
        "# 데이터 스케일링\n",
        "scaler = StandardScaler()\n",
        "X_scaled = scaler.fit_transform(X)\n",
        "X_scaled_df = pd.DataFrame(X_scaled, columns=X.columns)\n",
        "\n",
        "# stay_id 및 los 컬럼 다시 추가\n",
        "X_scaled_df['stay_id'] = merged_dataset['stay_id']\n",
        "X_scaled_df['los'] = y\n",
        "\n",
        "# 텐서 생성 함수\n",
        "def create_tensor_by_stay_id(data, sequence_length):\n",
        "    grouped = data.groupby('stay_id')\n",
        "    X_list, y_list, stay_ids = [], [], []\n",
        "    for stay_id, group in grouped:\n",
        "        values = group.drop(columns=['stay_id']).values\n",
        "        features = values[:, :-1]  # 피처\n",
        "        los_values = values[:, -1]  # 타겟 값\n",
        "\n",
        "        for i in range(len(features) - sequence_length + 1):\n",
        "            X_list.append(features[i:i+sequence_length])\n",
        "            y_list.append(los_values[i+sequence_length-1])\n",
        "            stay_ids.append(stay_id)\n",
        "    return np.array(X_list), np.array(y_list), stay_ids\n",
        "\n",
        "# 시퀀스 길이\n",
        "sequence_length = 6\n",
        "X_tensor, y_tensor, stay_ids = create_tensor_by_stay_id(X_scaled_df, sequence_length)\n",
        "\n",
        "# 하이퍼파라미터 튜닝 및 K-Fold 교차 검증 설정\n",
        "kf = KFold(n_splits=5, shuffle=True, random_state=42)\n",
        "evaluation_results = []\n",
        "\n",
        "# 하이퍼파라미터 설정\n",
        "epochs = [10, 20]  # Epoch 수 변경 가능\n",
        "batch_sizes = [16, 32, 64]  # Batch size 변경 가능\n",
        "\n",
        "# K-Fold 교차 검증 수행\n",
        "for train_index, test_index in tqdm(kf.split(X_tensor), total=kf.get_n_splits(), desc='K-Fold Cross Validation'):\n",
        "    X_train, X_test = X_tensor[train_index], X_tensor[test_index]\n",
        "    y_train, y_test = y_tensor[train_index], y_tensor[test_index]\n",
        "\n",
        "    for epoch in epochs:\n",
        "        for batch_size in batch_sizes:\n",
        "            # 트랜스포머 모델 정의\n",
        "            sequence_length = X_train.shape[1]\n",
        "            feature_dim = X_train.shape[2]\n",
        "            inputs = Input(shape=(sequence_length, feature_dim))\n",
        "\n",
        "            # 트랜스포머 레이어 생성 및 모델 구성\n",
        "            attention_output = MultiHeadAttention(num_heads=4, key_dim=feature_dim)(inputs, inputs)\n",
        "            attention_output = LayerNormalization(epsilon=1e-6)(attention_output + inputs)\n",
        "            attention_output = Dropout(0.1)(attention_output)\n",
        "\n",
        "            # 출력 레이어 정의\n",
        "            pooled_output = GlobalAveragePooling1D()(attention_output)\n",
        "            output = Dense(1)(pooled_output)\n",
        "            transformer_model = Model(inputs=inputs, outputs=output)\n",
        "\n",
        "            # 모델 컴파일\n",
        "            transformer_model.compile(optimizer='adam', loss='mse', metrics=['mae'])\n",
        "\n",
        "            # 모델 학습\n",
        "            history = transformer_model.fit(\n",
        "                X_train, y_train,\n",
        "                epochs=epoch,\n",
        "                batch_size=batch_size,\n",
        "                validation_data=(X_test, y_test),\n",
        "                verbose=0\n",
        "            )\n",
        "\n",
        "            # 모델 평가\n",
        "            def evaluate_model(model, X_test, y_test):\n",
        "                predictions = model.predict(X_test).flatten()\n",
        "                y_test = y_test.flatten()\n",
        "                mae = mean_absolute_error(y_test, predictions)\n",
        "                mse = mean_squared_error(y_test, predictions)\n",
        "                rmse = np.sqrt(mse)\n",
        "                r2 = r2_score(y_test, predictions)\n",
        "                return mae, mse, rmse, r2\n",
        "\n",
        "            mae, mse, rmse, r2 = evaluate_model(transformer_model, X_test, y_test)\n",
        "            evaluation_results.append({\n",
        "                'Epochs': epoch,\n",
        "                'Batch Size': batch_size,\n",
        "                'MAE': mae,\n",
        "                'MSE': mse,\n",
        "                'RMSE': rmse,\n",
        "                'R2': r2\n",
        "            })\n",
        "\n",
        "# 평가 결과 출력\n",
        "evaluation_df = pd.DataFrame(evaluation_results)\n",
        "print(\"\\nEvaluation Results:\")\n",
        "print(evaluation_df)\n",
        "\n",
        "# 학습 결과 시각화\n",
        "plt.figure(figsize=(10, 5))\n",
        "plt.plot(history.history['val_loss'], label='Validation Loss')\n",
        "plt.plot(history.history['loss'], label='Training Loss')\n",
        "plt.xlabel('Epochs')\n",
        "plt.ylabel('Loss')\n",
        "plt.legend()\n",
        "plt.show()\n"
      ],
      "metadata": {
        "colab": {
          "base_uri": "https://localhost:8080/",
          "height": 1000
        },
        "id": "w5pCpv39qpwG",
        "outputId": "56df99c2-cf95-4848-dde3-49015b82e2e6"
      },
      "execution_count": null,
      "outputs": [
        {
          "output_type": "stream",
          "name": "stderr",
          "text": [
            "\rK-Fold Cross Validation:   0%|          | 0/5 [00:00<?, ?it/s]"
          ]
        },
        {
          "output_type": "stream",
          "name": "stdout",
          "text": [
            "\u001b[1m38/38\u001b[0m \u001b[32m━━━━━━━━━━━━━━━━━━━━\u001b[0m\u001b[37m\u001b[0m \u001b[1m0s\u001b[0m 5ms/step\n",
            "\u001b[1m38/38\u001b[0m \u001b[32m━━━━━━━━━━━━━━━━━━━━\u001b[0m\u001b[37m\u001b[0m \u001b[1m1s\u001b[0m 9ms/step\n",
            "\u001b[1m38/38\u001b[0m \u001b[32m━━━━━━━━━━━━━━━━━━━━\u001b[0m\u001b[37m\u001b[0m \u001b[1m0s\u001b[0m 6ms/step\n",
            "\u001b[1m38/38\u001b[0m \u001b[32m━━━━━━━━━━━━━━━━━━━━\u001b[0m\u001b[37m\u001b[0m \u001b[1m0s\u001b[0m 6ms/step\n",
            "\u001b[1m38/38\u001b[0m \u001b[32m━━━━━━━━━━━━━━━━━━━━\u001b[0m\u001b[37m\u001b[0m \u001b[1m0s\u001b[0m 6ms/step\n",
            "\u001b[1m38/38\u001b[0m \u001b[32m━━━━━━━━━━━━━━━━━━━━\u001b[0m\u001b[37m\u001b[0m \u001b[1m0s\u001b[0m 8ms/step\n"
          ]
        },
        {
          "output_type": "stream",
          "name": "stderr",
          "text": [
            "\rK-Fold Cross Validation:  20%|██        | 1/5 [02:22<09:28, 142.05s/it]"
          ]
        },
        {
          "output_type": "stream",
          "name": "stdout",
          "text": [
            "\u001b[1m38/38\u001b[0m \u001b[32m━━━━━━━━━━━━━━━━━━━━\u001b[0m\u001b[37m\u001b[0m \u001b[1m1s\u001b[0m 11ms/step\n",
            "\u001b[1m38/38\u001b[0m \u001b[32m━━━━━━━━━━━━━━━━━━━━\u001b[0m\u001b[37m\u001b[0m \u001b[1m0s\u001b[0m 5ms/step\n",
            "\u001b[1m38/38\u001b[0m \u001b[32m━━━━━━━━━━━━━━━━━━━━\u001b[0m\u001b[37m\u001b[0m \u001b[1m0s\u001b[0m 8ms/step\n",
            "\u001b[1m38/38\u001b[0m \u001b[32m━━━━━━━━━━━━━━━━━━━━\u001b[0m\u001b[37m\u001b[0m \u001b[1m0s\u001b[0m 6ms/step\n",
            "\u001b[1m38/38\u001b[0m \u001b[32m━━━━━━━━━━━━━━━━━━━━\u001b[0m\u001b[37m\u001b[0m \u001b[1m0s\u001b[0m 7ms/step\n",
            "\u001b[1m38/38\u001b[0m \u001b[32m━━━━━━━━━━━━━━━━━━━━\u001b[0m\u001b[37m\u001b[0m \u001b[1m0s\u001b[0m 7ms/step\n"
          ]
        },
        {
          "output_type": "stream",
          "name": "stderr",
          "text": [
            "\rK-Fold Cross Validation:  40%|████      | 2/5 [04:43<07:04, 141.60s/it]"
          ]
        },
        {
          "output_type": "stream",
          "name": "stdout",
          "text": [
            "\u001b[1m38/38\u001b[0m \u001b[32m━━━━━━━━━━━━━━━━━━━━\u001b[0m\u001b[37m\u001b[0m \u001b[1m0s\u001b[0m 6ms/step\n",
            "\u001b[1m38/38\u001b[0m \u001b[32m━━━━━━━━━━━━━━━━━━━━\u001b[0m\u001b[37m\u001b[0m \u001b[1m0s\u001b[0m 6ms/step\n",
            "\u001b[1m38/38\u001b[0m \u001b[32m━━━━━━━━━━━━━━━━━━━━\u001b[0m\u001b[37m\u001b[0m \u001b[1m1s\u001b[0m 9ms/step\n",
            "\u001b[1m38/38\u001b[0m \u001b[32m━━━━━━━━━━━━━━━━━━━━\u001b[0m\u001b[37m\u001b[0m \u001b[1m0s\u001b[0m 8ms/step\n",
            "\u001b[1m38/38\u001b[0m \u001b[32m━━━━━━━━━━━━━━━━━━━━\u001b[0m\u001b[37m\u001b[0m \u001b[1m0s\u001b[0m 6ms/step\n",
            "\u001b[1m38/38\u001b[0m \u001b[32m━━━━━━━━━━━━━━━━━━━━\u001b[0m\u001b[37m\u001b[0m \u001b[1m1s\u001b[0m 9ms/step\n"
          ]
        },
        {
          "output_type": "stream",
          "name": "stderr",
          "text": [
            "\rK-Fold Cross Validation:  60%|██████    | 3/5 [07:12<04:49, 144.97s/it]"
          ]
        },
        {
          "output_type": "stream",
          "name": "stdout",
          "text": [
            "\u001b[1m38/38\u001b[0m \u001b[32m━━━━━━━━━━━━━━━━━━━━\u001b[0m\u001b[37m\u001b[0m \u001b[1m0s\u001b[0m 5ms/step\n",
            "\u001b[1m38/38\u001b[0m \u001b[32m━━━━━━━━━━━━━━━━━━━━\u001b[0m\u001b[37m\u001b[0m \u001b[1m0s\u001b[0m 7ms/step\n",
            "\u001b[1m38/38\u001b[0m \u001b[32m━━━━━━━━━━━━━━━━━━━━\u001b[0m\u001b[37m\u001b[0m \u001b[1m0s\u001b[0m 7ms/step\n",
            "\u001b[1m38/38\u001b[0m \u001b[32m━━━━━━━━━━━━━━━━━━━━\u001b[0m\u001b[37m\u001b[0m \u001b[1m0s\u001b[0m 6ms/step\n",
            "\u001b[1m38/38\u001b[0m \u001b[32m━━━━━━━━━━━━━━━━━━━━\u001b[0m\u001b[37m\u001b[0m \u001b[1m0s\u001b[0m 6ms/step\n",
            "\u001b[1m38/38\u001b[0m \u001b[32m━━━━━━━━━━━━━━━━━━━━\u001b[0m\u001b[37m\u001b[0m \u001b[1m0s\u001b[0m 6ms/step\n"
          ]
        },
        {
          "output_type": "stream",
          "name": "stderr",
          "text": [
            "\rK-Fold Cross Validation:  80%|████████  | 4/5 [09:52<02:31, 151.01s/it]"
          ]
        },
        {
          "output_type": "stream",
          "name": "stdout",
          "text": [
            "\u001b[1m38/38\u001b[0m \u001b[32m━━━━━━━━━━━━━━━━━━━━\u001b[0m\u001b[37m\u001b[0m \u001b[1m0s\u001b[0m 5ms/step\n",
            "\u001b[1m38/38\u001b[0m \u001b[32m━━━━━━━━━━━━━━━━━━━━\u001b[0m\u001b[37m\u001b[0m \u001b[1m0s\u001b[0m 5ms/step\n",
            "\u001b[1m38/38\u001b[0m \u001b[32m━━━━━━━━━━━━━━━━━━━━\u001b[0m\u001b[37m\u001b[0m \u001b[1m0s\u001b[0m 6ms/step\n",
            "\u001b[1m38/38\u001b[0m \u001b[32m━━━━━━━━━━━━━━━━━━━━\u001b[0m\u001b[37m\u001b[0m \u001b[1m1s\u001b[0m 9ms/step\n",
            "\u001b[1m38/38\u001b[0m \u001b[32m━━━━━━━━━━━━━━━━━━━━\u001b[0m\u001b[37m\u001b[0m \u001b[1m1s\u001b[0m 9ms/step\n",
            "\u001b[1m38/38\u001b[0m \u001b[32m━━━━━━━━━━━━━━━━━━━━\u001b[0m\u001b[37m\u001b[0m \u001b[1m0s\u001b[0m 6ms/step\n"
          ]
        },
        {
          "output_type": "stream",
          "name": "stderr",
          "text": [
            "K-Fold Cross Validation: 100%|██████████| 5/5 [12:10<00:00, 146.11s/it]"
          ]
        },
        {
          "output_type": "stream",
          "name": "stdout",
          "text": [
            "\n",
            "Evaluation Results:\n",
            "    Epochs  Batch Size       MAE        MSE      RMSE        R2\n",
            "0       10          16  2.195169   9.938259  3.152500  0.257122\n",
            "1       10          32  2.282451  10.593168  3.254715  0.208168\n",
            "2       10          64  2.359843  10.835719  3.291765  0.190038\n",
            "3       20          16  2.111041   8.741338  2.956575  0.346591\n",
            "4       20          32  2.230072   9.741984  3.121215  0.271793\n",
            "5       20          64  2.177101   9.682930  3.111741  0.276208\n",
            "6       10          16  2.142343   9.161924  3.026867  0.257972\n",
            "7       10          32  2.110764   9.367558  3.060647  0.241318\n",
            "8       10          64  2.177395   9.888289  3.144565  0.199144\n",
            "9       20          16  1.970575   8.233407  2.869391  0.333173\n",
            "10      20          32  2.066342   8.628255  2.937389  0.301194\n",
            "11      20          64  2.102365   8.888489  2.981357  0.280118\n",
            "12      10          16  2.181489   8.649687  2.941035  0.263614\n",
            "13      10          32  2.087130   8.724060  2.953652  0.257282\n",
            "14      10          64  2.190529   9.123798  3.020563  0.223251\n",
            "15      20          16  1.986593   7.785629  2.790274  0.337175\n",
            "16      20          32  1.965210   7.775415  2.788443  0.338045\n",
            "17      20          64  2.028661   8.260062  2.874032  0.296785\n",
            "18      10          16  2.084038   9.497083  3.081734  0.279612\n",
            "19      10          32  2.123512   9.758456  3.123853  0.259785\n",
            "20      10          64  2.190273  10.256162  3.202524  0.222033\n",
            "21      20          16  2.007252   8.314314  2.883455  0.369329\n",
            "22      20          32  2.064580   8.623908  2.936649  0.345845\n",
            "23      20          64  2.082118   9.100513  3.016706  0.309693\n",
            "24      10          16  2.138871   9.423044  3.069698  0.237008\n",
            "25      10          32  2.203295   9.764523  3.124824  0.209358\n",
            "26      10          64  2.208772  10.234325  3.199113  0.171317\n",
            "27      20          16  2.105886   8.613614  2.934896  0.302548\n",
            "28      20          32  2.103078   8.972935  2.995486  0.273453\n",
            "29      20          64  2.214804   9.348580  3.057545  0.243037\n"
          ]
        },
        {
          "output_type": "stream",
          "name": "stderr",
          "text": [
            "\n"
          ]
        },
        {
          "output_type": "display_data",
          "data": {
            "text/plain": [
              "<Figure size 1000x500 with 1 Axes>"
            ],
            "image/png": "[encoded data removed]"
          },
          "metadata": {}
        }
      ]
    },
    {
      "cell_type": "markdown",
      "source": [
        "### 12h_hpt"
      ],
      "metadata": {
        "id": "44ezSWLW5oIi"
      }
    },
    {
      "cell_type": "code",
      "source": [
        "# 데이터 준비 과정과 모델링 부분 설명\n",
        "# 주어진 코드는 ICU의 입원 기간(LoS, Length of Stay)을 예측하기 위해 트랜스포머 기반 모델을 사용하여 실험하는 것입니다.\n",
        "\n",
        "import numpy as np\n",
        "import pandas as pd\n",
        "from sklearn.preprocessing import StandardScaler\n",
        "from sklearn.model_selection import KFold\n",
        "from sklearn.metrics import mean_absolute_error, mean_squared_error, r2_score\n",
        "import matplotlib.pyplot as plt\n",
        "import tensorflow as tf\n",
        "from tensorflow.keras.models import Model\n",
        "from tensorflow.keras.layers import Input, Dense, MultiHeadAttention, LayerNormalization, Dropout, GlobalAveragePooling1D\n",
        "from tqdm import tqdm\n",
        "\n",
        "# 데이터 준비\n",
        "# 새로운 데이터셋 불러오기\n",
        "df_circ_target = pd.read_csv('/content/drive/MyDrive/DA_dataset/circulatory_diseases/circulatory_target_in_12hour.csv')\n",
        "df_circ_dataset = pd.read_csv('/content/drive/MyDrive/DA_dataset/circulatory_diseases/circulatory_dataset_12hours.csv')\n",
        "\n",
        "# Feature와 Target 결합\n",
        "merged_dataset = pd.merge(df_circ_dataset, df_circ_target, on='stay_id')\n",
        "\n",
        "# Feature와 Target 분리\n",
        "X = merged_dataset.drop(columns=[\"stay_id\", \"los\"])\n",
        "y = merged_dataset[\"los\"]\n",
        "\n",
        "# 데이터 스케일링\n",
        "scaler = StandardScaler()\n",
        "X_scaled = scaler.fit_transform(X)\n",
        "X_scaled_df = pd.DataFrame(X_scaled, columns=X.columns)\n",
        "\n",
        "# stay_id 및 los 컬럼 다시 추가\n",
        "X_scaled_df['stay_id'] = merged_dataset['stay_id']\n",
        "X_scaled_df['los'] = y\n",
        "\n",
        "# 텐서 생성 함수\n",
        "def create_tensor_by_stay_id(data, sequence_length):\n",
        "    grouped = data.groupby('stay_id')\n",
        "    X_list, y_list, stay_ids = [], [], []\n",
        "    for stay_id, group in grouped:\n",
        "        values = group.drop(columns=['stay_id']).values\n",
        "        features = values[:, :-1]  # 피처\n",
        "        los_values = values[:, -1]  # 타겟 값\n",
        "\n",
        "        for i in range(len(features) - sequence_length + 1):\n",
        "            X_list.append(features[i:i+sequence_length])\n",
        "            y_list.append(los_values[i+sequence_length-1])\n",
        "            stay_ids.append(stay_id)\n",
        "    return np.array(X_list), np.array(y_list), stay_ids\n",
        "\n",
        "# 시퀀스 길이\n",
        "sequence_length = 12\n",
        "X_tensor, y_tensor, stay_ids = create_tensor_by_stay_id(X_scaled_df, sequence_length)\n",
        "\n",
        "# 하이퍼파라미터 튜닝 및 K-Fold 교차 검증 설정\n",
        "kf = KFold(n_splits=5, shuffle=True, random_state=42)\n",
        "evaluation_results = []\n",
        "\n",
        "# 하이퍼파라미터 설정\n",
        "epochs = [10, 20]  # Epoch 수 변경 가능\n",
        "batch_sizes = [16, 32, 64]  # Batch size 변경 가능\n",
        "\n",
        "# K-Fold 교차 검증 수행\n",
        "for train_index, test_index in tqdm(kf.split(X_tensor), total=kf.get_n_splits(), desc='K-Fold Cross Validation'):\n",
        "    X_train, X_test = X_tensor[train_index], X_tensor[test_index]\n",
        "    y_train, y_test = y_tensor[train_index], y_tensor[test_index]\n",
        "\n",
        "    for epoch in epochs:\n",
        "        for batch_size in batch_sizes:\n",
        "            # 트랜스포머 모델 정의\n",
        "            sequence_length = X_train.shape[1]\n",
        "            feature_dim = X_train.shape[2]\n",
        "            inputs = Input(shape=(sequence_length, feature_dim))\n",
        "\n",
        "            # 트랜스포머 레이어 생성 및 모델 구성\n",
        "            attention_output = MultiHeadAttention(num_heads=4, key_dim=feature_dim)(inputs, inputs)\n",
        "            attention_output = LayerNormalization(epsilon=1e-6)(attention_output + inputs)\n",
        "            attention_output = Dropout(0.1)(attention_output)\n",
        "\n",
        "            # 출력 레이어 정의\n",
        "            pooled_output = GlobalAveragePooling1D()(attention_output)\n",
        "            output = Dense(1)(pooled_output)\n",
        "            transformer_model = Model(inputs=inputs, outputs=output)\n",
        "\n",
        "            # 모델 컴파일\n",
        "            transformer_model.compile(optimizer='adam', loss='mse', metrics=['mae'])\n",
        "\n",
        "            # 모델 학습\n",
        "            history = transformer_model.fit(\n",
        "                X_train, y_train,\n",
        "                epochs=epoch,\n",
        "                batch_size=batch_size,\n",
        "                validation_data=(X_test, y_test),\n",
        "                verbose=0\n",
        "            )\n",
        "\n",
        "            # 모델 평가\n",
        "            def evaluate_model(model, X_test, y_test):\n",
        "                predictions = model.predict(X_test).flatten()\n",
        "                y_test = y_test.flatten()\n",
        "                mae = mean_absolute_error(y_test, predictions)\n",
        "                mse = mean_squared_error(y_test, predictions)\n",
        "                rmse = np.sqrt(mse)\n",
        "                r2 = r2_score(y_test, predictions)\n",
        "                return mae, mse, rmse, r2\n",
        "\n",
        "            mae, mse, rmse, r2 = evaluate_model(transformer_model, X_test, y_test)\n",
        "            evaluation_results.append({\n",
        "                'Epochs': epoch,\n",
        "                'Batch Size': batch_size,\n",
        "                'MAE': mae,\n",
        "                'MSE': mse,\n",
        "                'RMSE': rmse,\n",
        "                'R2': r2\n",
        "            })\n",
        "\n",
        "# 평가 결과 출력\n",
        "evaluation_df = pd.DataFrame(evaluation_results)\n",
        "print(\"\\nEvaluation Results:\")\n",
        "print(evaluation_df)\n",
        "\n",
        "# 학습 결과 시각화\n",
        "plt.figure(figsize=(10, 5))\n",
        "plt.plot(history.history['val_loss'], label='Validation Loss')\n",
        "plt.plot(history.history['loss'], label='Training Loss')\n",
        "plt.xlabel('Epochs')\n",
        "plt.ylabel('Loss')\n",
        "plt.legend()\n",
        "plt.show()\n"
      ],
      "metadata": {
        "colab": {
          "base_uri": "https://localhost:8080/",
          "height": 1000
        },
        "id": "NJqaZPxNtsI1",
        "outputId": "efc077d0-18f0-4841-e4e1-206a1d223fba"
      },
      "execution_count": null,
      "outputs": [
        {
          "output_type": "stream",
          "name": "stderr",
          "text": [
            "\rK-Fold Cross Validation:   0%|          | 0/5 [00:00<?, ?it/s]"
          ]
        },
        {
          "output_type": "stream",
          "name": "stdout",
          "text": [
            "\u001b[1m120/120\u001b[0m \u001b[32m━━━━━━━━━━━━━━━━━━━━\u001b[0m\u001b[37m\u001b[0m \u001b[1m1s\u001b[0m 4ms/step\n",
            "\u001b[1m120/120\u001b[0m \u001b[32m━━━━━━━━━━━━━━━━━━━━\u001b[0m\u001b[37m\u001b[0m \u001b[1m1s\u001b[0m 5ms/step\n",
            "\u001b[1m120/120\u001b[0m \u001b[32m━━━━━━━━━━━━━━━━━━━━\u001b[0m\u001b[37m\u001b[0m \u001b[1m1s\u001b[0m 7ms/step\n",
            "\u001b[1m120/120\u001b[0m \u001b[32m━━━━━━━━━━━━━━━━━━━━\u001b[0m\u001b[37m\u001b[0m \u001b[1m1s\u001b[0m 5ms/step\n",
            "\u001b[1m120/120\u001b[0m \u001b[32m━━━━━━━━━━━━━━━━━━━━\u001b[0m\u001b[37m\u001b[0m \u001b[1m1s\u001b[0m 5ms/step\n",
            "\u001b[1m120/120\u001b[0m \u001b[32m━━━━━━━━━━━━━━━━━━━━\u001b[0m\u001b[37m\u001b[0m \u001b[1m1s\u001b[0m 5ms/step\n"
          ]
        },
        {
          "output_type": "stream",
          "name": "stderr",
          "text": [
            "\rK-Fold Cross Validation:  20%|██        | 1/5 [08:02<32:11, 482.88s/it]"
          ]
        },
        {
          "output_type": "stream",
          "name": "stdout",
          "text": [
            "\u001b[1m120/120\u001b[0m \u001b[32m━━━━━━━━━━━━━━━━━━━━\u001b[0m\u001b[37m\u001b[0m \u001b[1m1s\u001b[0m 4ms/step\n",
            "\u001b[1m120/120\u001b[0m \u001b[32m━━━━━━━━━━━━━━━━━━━━\u001b[0m\u001b[37m\u001b[0m \u001b[1m1s\u001b[0m 7ms/step\n",
            "\u001b[1m120/120\u001b[0m \u001b[32m━━━━━━━━━━━━━━━━━━━━\u001b[0m\u001b[37m\u001b[0m \u001b[1m1s\u001b[0m 7ms/step\n",
            "\u001b[1m120/120\u001b[0m \u001b[32m━━━━━━━━━━━━━━━━━━━━\u001b[0m\u001b[37m\u001b[0m \u001b[1m1s\u001b[0m 5ms/step\n",
            "\u001b[1m120/120\u001b[0m \u001b[32m━━━━━━━━━━━━━━━━━━━━\u001b[0m\u001b[37m\u001b[0m \u001b[1m1s\u001b[0m 5ms/step\n",
            "\u001b[1m120/120\u001b[0m \u001b[32m━━━━━━━━━━━━━━━━━━━━\u001b[0m\u001b[37m\u001b[0m \u001b[1m1s\u001b[0m 5ms/step\n"
          ]
        },
        {
          "output_type": "stream",
          "name": "stderr",
          "text": [
            "\rK-Fold Cross Validation:  40%|████      | 2/5 [16:04<24:06, 482.31s/it]"
          ]
        },
        {
          "output_type": "stream",
          "name": "stdout",
          "text": [
            "\u001b[1m120/120\u001b[0m \u001b[32m━━━━━━━━━━━━━━━━━━━━\u001b[0m\u001b[37m\u001b[0m \u001b[1m1s\u001b[0m 4ms/step\n",
            "\u001b[1m120/120\u001b[0m \u001b[32m━━━━━━━━━━━━━━━━━━━━\u001b[0m\u001b[37m\u001b[0m \u001b[1m1s\u001b[0m 4ms/step\n",
            "\u001b[1m120/120\u001b[0m \u001b[32m━━━━━━━━━━━━━━━━━━━━\u001b[0m\u001b[37m\u001b[0m \u001b[1m1s\u001b[0m 5ms/step\n",
            "\u001b[1m120/120\u001b[0m \u001b[32m━━━━━━━━━━━━━━━━━━━━\u001b[0m\u001b[37m\u001b[0m \u001b[1m1s\u001b[0m 4ms/step\n",
            "\u001b[1m120/120\u001b[0m \u001b[32m━━━━━━━━━━━━━━━━━━━━\u001b[0m\u001b[37m\u001b[0m \u001b[1m1s\u001b[0m 5ms/step\n",
            "\u001b[1m120/120\u001b[0m \u001b[32m━━━━━━━━━━━━━━━━━━━━\u001b[0m\u001b[37m\u001b[0m \u001b[1m1s\u001b[0m 5ms/step\n"
          ]
        },
        {
          "output_type": "stream",
          "name": "stderr",
          "text": [
            "\rK-Fold Cross Validation:  60%|██████    | 3/5 [23:55<15:53, 476.88s/it]"
          ]
        },
        {
          "output_type": "stream",
          "name": "stdout",
          "text": [
            "\u001b[1m120/120\u001b[0m \u001b[32m━━━━━━━━━━━━━━━━━━━━\u001b[0m\u001b[37m\u001b[0m \u001b[1m1s\u001b[0m 4ms/step\n",
            "\u001b[1m120/120\u001b[0m \u001b[32m━━━━━━━━━━━━━━━━━━━━\u001b[0m\u001b[37m\u001b[0m \u001b[1m1s\u001b[0m 4ms/step\n",
            "\u001b[1m120/120\u001b[0m \u001b[32m━━━━━━━━━━━━━━━━━━━━\u001b[0m\u001b[37m\u001b[0m \u001b[1m1s\u001b[0m 4ms/step\n",
            "\u001b[1m120/120\u001b[0m \u001b[32m━━━━━━━━━━━━━━━━━━━━\u001b[0m\u001b[37m\u001b[0m \u001b[1m1s\u001b[0m 7ms/step\n",
            "\u001b[1m120/120\u001b[0m \u001b[32m━━━━━━━━━━━━━━━━━━━━\u001b[0m\u001b[37m\u001b[0m \u001b[1m1s\u001b[0m 4ms/step\n",
            "\u001b[1m120/120\u001b[0m \u001b[32m━━━━━━━━━━━━━━━━━━━━\u001b[0m\u001b[37m\u001b[0m \u001b[1m1s\u001b[0m 4ms/step\n"
          ]
        },
        {
          "output_type": "stream",
          "name": "stderr",
          "text": [
            "\rK-Fold Cross Validation:  80%|████████  | 4/5 [31:33<07:49, 469.55s/it]"
          ]
        },
        {
          "output_type": "stream",
          "name": "stdout",
          "text": [
            "\u001b[1m120/120\u001b[0m \u001b[32m━━━━━━━━━━━━━━━━━━━━\u001b[0m\u001b[37m\u001b[0m \u001b[1m1s\u001b[0m 4ms/step\n",
            "\u001b[1m120/120\u001b[0m \u001b[32m━━━━━━━━━━━━━━━━━━━━\u001b[0m\u001b[37m\u001b[0m \u001b[1m1s\u001b[0m 6ms/step\n",
            "\u001b[1m120/120\u001b[0m \u001b[32m━━━━━━━━━━━━━━━━━━━━\u001b[0m\u001b[37m\u001b[0m \u001b[1m1s\u001b[0m 4ms/step\n",
            "\u001b[1m120/120\u001b[0m \u001b[32m━━━━━━━━━━━━━━━━━━━━\u001b[0m\u001b[37m\u001b[0m \u001b[1m1s\u001b[0m 4ms/step\n",
            "\u001b[1m120/120\u001b[0m \u001b[32m━━━━━━━━━━━━━━━━━━━━\u001b[0m\u001b[37m\u001b[0m \u001b[1m1s\u001b[0m 7ms/step\n",
            "\u001b[1m120/120\u001b[0m \u001b[32m━━━━━━━━━━━━━━━━━━━━\u001b[0m\u001b[37m\u001b[0m \u001b[1m1s\u001b[0m 4ms/step\n"
          ]
        },
        {
          "output_type": "stream",
          "name": "stderr",
          "text": [
            "K-Fold Cross Validation: 100%|██████████| 5/5 [39:51<00:00, 478.24s/it]"
          ]
        },
        {
          "output_type": "stream",
          "name": "stdout",
          "text": [
            "\n",
            "Evaluation Results:\n",
            "    Epochs  Batch Size       MAE       MSE      RMSE        R2\n",
            "0       10          16  1.916177  7.908946  2.812285  0.341090\n",
            "1       10          32  2.036048  8.414399  2.900758  0.298979\n",
            "2       10          64  2.022780  8.716523  2.952376  0.273809\n",
            "3       20          16  1.841906  6.879617  2.622902  0.426845\n",
            "4       20          32  1.889591  7.176494  2.678898  0.402112\n",
            "5       20          64  1.924611  7.601065  2.757003  0.366740\n",
            "6       10          16  1.986395  7.552020  2.748094  0.343768\n",
            "7       10          32  1.953248  7.863127  2.804127  0.316734\n",
            "8       10          64  2.030749  8.046835  2.836694  0.300771\n",
            "9       20          16  1.783216  6.411563  2.532106  0.442868\n",
            "10      20          32  1.802110  6.583843  2.565900  0.427897\n",
            "11      20          64  1.886841  7.017029  2.648968  0.390256\n",
            "12      10          16  1.935086  7.528835  2.743872  0.362672\n",
            "13      10          32  1.943881  7.967292  2.822639  0.325556\n",
            "14      10          64  2.025796  8.294089  2.879946  0.297892\n",
            "15      20          16  1.852648  6.769171  2.601763  0.426979\n",
            "16      20          32  1.894350  7.039929  2.653286  0.404059\n",
            "17      20          64  1.902444  7.247746  2.692164  0.386466\n",
            "18      10          16  1.966923  7.902867  2.811204  0.323634\n",
            "19      10          32  2.022670  8.045305  2.836425  0.311443\n",
            "20      10          64  2.037462  8.323941  2.885124  0.287596\n",
            "21      20          16  1.798715  6.820218  2.611555  0.416292\n",
            "22      20          32  1.817282  6.840175  2.615373  0.414584\n",
            "23      20          64  1.898763  7.102402  2.665033  0.392142\n",
            "24      10          16  1.952402  8.002638  2.828893  0.317211\n",
            "25      10          32  1.963627  8.076674  2.841949  0.310894\n",
            "26      10          64  2.011818  8.163183  2.857128  0.303513\n",
            "27      20          16  1.786087  6.680767  2.584718  0.429993\n",
            "28      20          32  1.912592  7.491214  2.737008  0.360846\n",
            "29      20          64  1.921871  7.529511  2.743995  0.357578\n"
          ]
        },
        {
          "output_type": "stream",
          "name": "stderr",
          "text": [
            "\n"
          ]
        },
        {
          "output_type": "display_data",
          "data": {
            "text/plain": [
              "<Figure size 1000x500 with 1 Axes>"
            ],
            "image/png": "[encoded data removed]"
          },
          "metadata": {}
        }
      ]
    },
    {
      "cell_type": "markdown",
      "source": [
        "### 18h_hpt"
      ],
      "metadata": {
        "id": "etVMKZez9cwL"
      }
    },
    {
      "cell_type": "code",
      "execution_count": null,
      "metadata": {
        "id": "hvdnIPXW_Wcn",
        "colab": {
          "base_uri": "https://localhost:8080/",
          "height": 1000
        },
        "outputId": "d501cb1b-c427-4d9a-e457-086008bd4c97"
      },
      "outputs": [
        {
          "output_type": "stream",
          "name": "stderr",
          "text": [
            "\rK-Fold Cross Validation:   0%|          | 0/5 [00:00<?, ?it/s]"
          ]
        },
        {
          "output_type": "stream",
          "name": "stdout",
          "text": [
            "\u001b[1m15/15\u001b[0m \u001b[32m━━━━━━━━━━━━━━━━━━━━\u001b[0m\u001b[37m\u001b[0m \u001b[1m1s\u001b[0m 35ms/step\n",
            "\u001b[1m15/15\u001b[0m \u001b[32m━━━━━━━━━━━━━━━━━━━━\u001b[0m\u001b[37m\u001b[0m \u001b[1m0s\u001b[0m 18ms/step\n",
            "\u001b[1m15/15\u001b[0m \u001b[32m━━━━━━━━━━━━━━━━━━━━\u001b[0m\u001b[37m\u001b[0m \u001b[1m1s\u001b[0m 18ms/step\n",
            "\u001b[1m15/15\u001b[0m \u001b[32m━━━━━━━━━━━━━━━━━━━━\u001b[0m\u001b[37m\u001b[0m \u001b[1m1s\u001b[0m 19ms/step\n",
            "\u001b[1m15/15\u001b[0m \u001b[32m━━━━━━━━━━━━━━━━━━━━\u001b[0m\u001b[37m\u001b[0m \u001b[1m0s\u001b[0m 18ms/step\n",
            "\u001b[1m15/15\u001b[0m \u001b[32m━━━━━━━━━━━━━━━━━━━━\u001b[0m\u001b[37m\u001b[0m \u001b[1m1s\u001b[0m 18ms/step\n"
          ]
        },
        {
          "output_type": "stream",
          "name": "stderr",
          "text": [
            "\rK-Fold Cross Validation:  20%|██        | 1/5 [01:07<04:29, 67.47s/it]"
          ]
        },
        {
          "output_type": "stream",
          "name": "stdout",
          "text": [
            "\u001b[1m15/15\u001b[0m \u001b[32m━━━━━━━━━━━━━━━━━━━━\u001b[0m\u001b[37m\u001b[0m \u001b[1m1s\u001b[0m 30ms/step\n",
            "\u001b[1m15/15\u001b[0m \u001b[32m━━━━━━━━━━━━━━━━━━━━\u001b[0m\u001b[37m\u001b[0m \u001b[1m0s\u001b[0m 18ms/step\n",
            "\u001b[1m15/15\u001b[0m \u001b[32m━━━━━━━━━━━━━━━━━━━━\u001b[0m\u001b[37m\u001b[0m \u001b[1m1s\u001b[0m 18ms/step\n",
            "\u001b[1m15/15\u001b[0m \u001b[32m━━━━━━━━━━━━━━━━━━━━\u001b[0m\u001b[37m\u001b[0m \u001b[1m1s\u001b[0m 30ms/step\n",
            "\u001b[1m15/15\u001b[0m \u001b[32m━━━━━━━━━━━━━━━━━━━━\u001b[0m\u001b[37m\u001b[0m \u001b[1m1s\u001b[0m 29ms/step\n",
            "\u001b[1m15/15\u001b[0m \u001b[32m━━━━━━━━━━━━━━━━━━━━\u001b[0m\u001b[37m\u001b[0m \u001b[1m0s\u001b[0m 18ms/step\n"
          ]
        },
        {
          "output_type": "stream",
          "name": "stderr",
          "text": [
            "\rK-Fold Cross Validation:  40%|████      | 2/5 [02:23<03:36, 72.28s/it]"
          ]
        },
        {
          "output_type": "stream",
          "name": "stdout",
          "text": [
            "\u001b[1m15/15\u001b[0m \u001b[32m━━━━━━━━━━━━━━━━━━━━\u001b[0m\u001b[37m\u001b[0m \u001b[1m1s\u001b[0m 19ms/step\n",
            "\u001b[1m15/15\u001b[0m \u001b[32m━━━━━━━━━━━━━━━━━━━━\u001b[0m\u001b[37m\u001b[0m \u001b[1m1s\u001b[0m 19ms/step\n",
            "\u001b[1m15/15\u001b[0m \u001b[32m━━━━━━━━━━━━━━━━━━━━\u001b[0m\u001b[37m\u001b[0m \u001b[1m0s\u001b[0m 18ms/step\n",
            "\u001b[1m15/15\u001b[0m \u001b[32m━━━━━━━━━━━━━━━━━━━━\u001b[0m\u001b[37m\u001b[0m \u001b[1m0s\u001b[0m 18ms/step\n",
            "\u001b[1m15/15\u001b[0m \u001b[32m━━━━━━━━━━━━━━━━━━━━\u001b[0m\u001b[37m\u001b[0m \u001b[1m1s\u001b[0m 19ms/step\n",
            "\u001b[1m15/15\u001b[0m \u001b[32m━━━━━━━━━━━━━━━━━━━━\u001b[0m\u001b[37m\u001b[0m \u001b[1m0s\u001b[0m 18ms/step\n"
          ]
        },
        {
          "output_type": "stream",
          "name": "stderr",
          "text": [
            "\rK-Fold Cross Validation:  60%|██████    | 3/5 [03:30<02:20, 70.22s/it]"
          ]
        },
        {
          "output_type": "stream",
          "name": "stdout",
          "text": [
            "\u001b[1m15/15\u001b[0m \u001b[32m━━━━━━━━━━━━━━━━━━━━\u001b[0m\u001b[37m\u001b[0m \u001b[1m1s\u001b[0m 19ms/step\n",
            "\u001b[1m15/15\u001b[0m \u001b[32m━━━━━━━━━━━━━━━━━━━━\u001b[0m\u001b[37m\u001b[0m \u001b[1m1s\u001b[0m 29ms/step\n",
            "\u001b[1m15/15\u001b[0m \u001b[32m━━━━━━━━━━━━━━━━━━━━\u001b[0m\u001b[37m\u001b[0m \u001b[1m1s\u001b[0m 18ms/step\n",
            "\u001b[1m15/15\u001b[0m \u001b[32m━━━━━━━━━━━━━━━━━━━━\u001b[0m\u001b[37m\u001b[0m \u001b[1m1s\u001b[0m 19ms/step\n",
            "\u001b[1m15/15\u001b[0m \u001b[32m━━━━━━━━━━━━━━━━━━━━\u001b[0m\u001b[37m\u001b[0m \u001b[1m0s\u001b[0m 18ms/step\n",
            "\u001b[1m15/15\u001b[0m \u001b[32m━━━━━━━━━━━━━━━━━━━━\u001b[0m\u001b[37m\u001b[0m \u001b[1m0s\u001b[0m 18ms/step\n"
          ]
        },
        {
          "output_type": "stream",
          "name": "stderr",
          "text": [
            "\rK-Fold Cross Validation:  80%|████████  | 4/5 [04:38<01:09, 69.15s/it]"
          ]
        },
        {
          "output_type": "stream",
          "name": "stdout",
          "text": [
            "\u001b[1m15/15\u001b[0m \u001b[32m━━━━━━━━━━━━━━━━━━━━\u001b[0m\u001b[37m\u001b[0m \u001b[1m1s\u001b[0m 54ms/step\n",
            "\u001b[1m15/15\u001b[0m \u001b[32m━━━━━━━━━━━━━━━━━━━━\u001b[0m\u001b[37m\u001b[0m \u001b[1m1s\u001b[0m 18ms/step\n",
            "\u001b[1m15/15\u001b[0m \u001b[32m━━━━━━━━━━━━━━━━━━━━\u001b[0m\u001b[37m\u001b[0m \u001b[1m0s\u001b[0m 18ms/step\n",
            "\u001b[1m15/15\u001b[0m \u001b[32m━━━━━━━━━━━━━━━━━━━━\u001b[0m\u001b[37m\u001b[0m \u001b[1m0s\u001b[0m 18ms/step\n",
            "\u001b[1m15/15\u001b[0m \u001b[32m━━━━━━━━━━━━━━━━━━━━\u001b[0m\u001b[37m\u001b[0m \u001b[1m1s\u001b[0m 19ms/step\n",
            "\u001b[1m15/15\u001b[0m \u001b[32m━━━━━━━━━━━━━━━━━━━━\u001b[0m\u001b[37m\u001b[0m \u001b[1m0s\u001b[0m 18ms/step\n"
          ]
        },
        {
          "output_type": "stream",
          "name": "stderr",
          "text": [
            "K-Fold Cross Validation: 100%|██████████| 5/5 [05:46<00:00, 69.22s/it]"
          ]
        },
        {
          "output_type": "stream",
          "name": "stdout",
          "text": [
            "\n",
            "Evaluation Results:\n",
            "    Epochs  Batch Size       MAE       MSE      RMSE        R2\n",
            "0       10          16  2.066797  9.398690  3.065728  0.073194\n",
            "1       10          32  2.063017  9.643759  3.105440  0.049028\n",
            "2       10          64  2.016412  9.507353  3.083400  0.062479\n",
            "3       20          16  2.077432  9.882480  3.143641  0.025487\n",
            "4       20          32  2.147041  9.871828  3.141947  0.026538\n",
            "5       20          64  2.074180  9.670938  3.109813  0.046348\n",
            "6       10          16  1.835418  8.615726  2.935256  0.228803\n",
            "7       10          32  1.880632  8.746606  2.957466  0.217088\n",
            "8       10          64  1.878143  8.857298  2.976121  0.207179\n",
            "9       20          16  1.873563  9.210938  3.034953  0.175525\n",
            "10      20          32  1.848619  8.931295  2.988527  0.200556\n",
            "11      20          64  1.838479  8.580966  2.929329  0.231914\n",
            "12      10          16  1.770809  7.472628  2.733611  0.210834\n",
            "13      10          32  1.761562  7.492820  2.737302  0.208701\n",
            "14      10          64  1.808885  7.451687  2.729778  0.213045\n",
            "15      20          16  1.923359  8.202631  2.864024  0.133740\n",
            "16      20          32  1.829113  7.543806  2.746599  0.203317\n",
            "17      20          64  1.794894  7.552070  2.748103  0.202444\n",
            "18      10          16  1.878220  7.110400  2.666533  0.192922\n",
            "19      10          32  1.809310  7.015507  2.648680  0.203693\n",
            "20      10          64  1.775437  6.884378  2.623810  0.218577\n",
            "21      20          16  1.858640  7.277774  2.697735  0.173924\n",
            "22      20          32  1.894703  7.287925  2.699616  0.172772\n",
            "23      20          64  1.862826  7.170788  2.677833  0.186068\n",
            "24      10          16  1.947348  9.019547  3.003256  0.190048\n",
            "25      10          32  1.997051  9.122198  3.020298  0.180830\n",
            "26      10          64  1.947948  8.999013  2.999836  0.191892\n",
            "27      20          16  1.872463  9.164865  3.027353  0.176999\n",
            "28      20          32  1.933938  9.008713  3.001452  0.191021\n",
            "29      20          64  1.883804  8.913996  2.985632  0.199527\n"
          ]
        },
        {
          "output_type": "stream",
          "name": "stderr",
          "text": [
            "\n"
          ]
        },
        {
          "output_type": "display_data",
          "data": {
            "text/plain": [
              "<Figure size 1000x500 with 1 Axes>"
            ],
            "image/png": "[encoded data removed]"
          },
          "metadata": {}
        }
      ],
      "source": [
        "# 데이터 준비 과정과 모델링 부분 설명\n",
        "# 주어진 코드는 ICU의 입원 기간(LoS, Length of Stay)을 예측하기 위해 트랜스포머 기반 모델을 사용하여 실험하는 것입니다.\n",
        "\n",
        "import numpy as np\n",
        "import pandas as pd\n",
        "from sklearn.preprocessing import StandardScaler\n",
        "from sklearn.model_selection import KFold\n",
        "from sklearn.metrics import mean_absolute_error, mean_squared_error, r2_score\n",
        "import matplotlib.pyplot as plt\n",
        "import tensorflow as tf\n",
        "from tensorflow.keras.models import Model\n",
        "from tensorflow.keras.layers import Input, Dense, MultiHeadAttention, LayerNormalization, Dropout, GlobalAveragePooling1D\n",
        "from tqdm import tqdm\n",
        "\n",
        "# 데이터 준비\n",
        "# 새로운 데이터셋 불러오기\n",
        "df_circ_target = pd.read_csv('/content/drive/MyDrive/DA_dataset/circulatory_diseases/circulatory_target_in_18hour.csv')\n",
        "df_circ_dataset = pd.read_csv('/content/drive/MyDrive/DA_dataset/circulatory_diseases/circulatory_dataset_in_18hour.csv')\n",
        "\n",
        "# Feature와 Target 결합\n",
        "merged_dataset = pd.merge(df_circ_dataset, df_circ_target, on='stay_id')\n",
        "\n",
        "# Feature와 Target 분리\n",
        "X = merged_dataset.drop(columns=[\"stay_id\", \"los\"])\n",
        "y = merged_dataset[\"los\"]\n",
        "\n",
        "# 데이터 스케일링\n",
        "scaler = StandardScaler()\n",
        "X_scaled = scaler.fit_transform(X)\n",
        "X_scaled_df = pd.DataFrame(X_scaled, columns=X.columns)\n",
        "\n",
        "# stay_id 및 los 컬럼 다시 추가\n",
        "X_scaled_df['stay_id'] = merged_dataset['stay_id']\n",
        "X_scaled_df['los'] = y\n",
        "\n",
        "# 텐서 생성 함수\n",
        "def create_tensor_by_stay_id(data, sequence_length):\n",
        "    grouped = data.groupby('stay_id')\n",
        "    X_list, y_list, stay_ids = [], [], []\n",
        "    for stay_id, group in grouped:\n",
        "        values = group.drop(columns=['stay_id']).values\n",
        "        features = values[:, :-1]  # 피처\n",
        "        los_values = values[:, -1]  # 타겟 값\n",
        "\n",
        "        for i in range(len(features) - sequence_length + 1):\n",
        "            X_list.append(features[i:i+sequence_length])\n",
        "            y_list.append(los_values[i+sequence_length-1])\n",
        "            stay_ids.append(stay_id)\n",
        "    return np.array(X_list), np.array(y_list), stay_ids\n",
        "\n",
        "# 시퀀스 길이\n",
        "sequence_length = 18\n",
        "X_tensor, y_tensor, stay_ids = create_tensor_by_stay_id(X_scaled_df, sequence_length)\n",
        "\n",
        "# 하이퍼파라미터 튜닝 및 K-Fold 교차 검증 설정\n",
        "kf = KFold(n_splits=5, shuffle=True, random_state=42)\n",
        "evaluation_results = []\n",
        "\n",
        "# 하이퍼파라미터 설정\n",
        "epochs = [10, 20]  # Epoch 수 변경 가능\n",
        "batch_sizes = [16, 32, 64]  # Batch size 변경 가능\n",
        "\n",
        "# K-Fold 교차 검증 수행\n",
        "for train_index, test_index in tqdm(kf.split(X_tensor), total=kf.get_n_splits(), desc='K-Fold Cross Validation'):\n",
        "    X_train, X_test = X_tensor[train_index], X_tensor[test_index]\n",
        "    y_train, y_test = y_tensor[train_index], y_tensor[test_index]\n",
        "\n",
        "    for epoch in epochs:\n",
        "        for batch_size in batch_sizes:\n",
        "            # 트랜스포머 모델 정의\n",
        "            sequence_length = X_train.shape[1]\n",
        "            feature_dim = X_train.shape[2]\n",
        "            inputs = Input(shape=(sequence_length, feature_dim))\n",
        "\n",
        "            # 트랜스포머 레이어 생성 및 모델 구성\n",
        "            attention_output = MultiHeadAttention(num_heads=4, key_dim=feature_dim)(inputs, inputs)\n",
        "            attention_output = LayerNormalization(epsilon=1e-6)(attention_output + inputs)\n",
        "            attention_output = Dropout(0.1)(attention_output)\n",
        "\n",
        "            # 출력 레이어 정의\n",
        "            pooled_output = GlobalAveragePooling1D()(attention_output)\n",
        "            output = Dense(1)(pooled_output)\n",
        "            transformer_model = Model(inputs=inputs, outputs=output)\n",
        "\n",
        "            # 모델 컴파일\n",
        "            transformer_model.compile(optimizer='adam', loss='mse', metrics=['mae'])\n",
        "\n",
        "            # 모델 학습\n",
        "            history = transformer_model.fit(\n",
        "                X_train, y_train,\n",
        "                epochs=epoch,\n",
        "                batch_size=batch_size,\n",
        "                validation_data=(X_test, y_test),\n",
        "                verbose=0\n",
        "            )\n",
        "\n",
        "            # 모델 평가\n",
        "            def evaluate_model(model, X_test, y_test):\n",
        "                predictions = model.predict(X_test).flatten()\n",
        "                y_test = y_test.flatten()\n",
        "                mae = mean_absolute_error(y_test, predictions)\n",
        "                mse = mean_squared_error(y_test, predictions)\n",
        "                rmse = np.sqrt(mse)\n",
        "                r2 = r2_score(y_test, predictions)\n",
        "                return mae, mse, rmse, r2\n",
        "\n",
        "            mae, mse, rmse, r2 = evaluate_model(transformer_model, X_test, y_test)\n",
        "            evaluation_results.append({\n",
        "                'Epochs': epoch,\n",
        "                'Batch Size': batch_size,\n",
        "                'MAE': mae,\n",
        "                'MSE': mse,\n",
        "                'RMSE': rmse,\n",
        "                'R2': r2\n",
        "            })\n",
        "\n",
        "# 평가 결과 출력\n",
        "evaluation_df = pd.DataFrame(evaluation_results)\n",
        "print(\"\\nEvaluation Results:\")\n",
        "print(evaluation_df)\n",
        "\n",
        "# 학습 결과 시각화\n",
        "plt.figure(figsize=(10, 5))\n",
        "plt.plot(history.history['val_loss'], label='Validation Loss')\n",
        "plt.plot(history.history['loss'], label='Training Loss')\n",
        "plt.xlabel('Epochs')\n",
        "plt.ylabel('Loss')\n",
        "plt.legend()\n",
        "plt.show()\n"
      ]
    },
    {
      "cell_type": "markdown",
      "source": [
        "## 감염병"
      ],
      "metadata": {
        "id": "uh02RuAlY7DO"
      }
    },
    {
      "cell_type": "markdown",
      "source": [
        "### 6h_hpt"
      ],
      "metadata": {
        "id": "38mfwb-P_Ixd"
      }
    },
    {
      "cell_type": "code",
      "source": [
        "# 데이터 준비 과정과 모델링 부분 설명\n",
        "# 주어진 코드는 ICU의 입원 기간(LoS, Length of Stay)을 예측하기 위해 트랜스포머 기반 모델을 사용하여 실험하는 것입니다.\n",
        "\n",
        "import numpy as np\n",
        "import pandas as pd\n",
        "from sklearn.preprocessing import StandardScaler\n",
        "from sklearn.model_selection import KFold\n",
        "from sklearn.metrics import mean_absolute_error, mean_squared_error, r2_score\n",
        "import matplotlib.pyplot as plt\n",
        "import tensorflow as tf\n",
        "from tensorflow.keras.models import Model\n",
        "from tensorflow.keras.layers import Input, Dense, MultiHeadAttention, LayerNormalization, Dropout, GlobalAveragePooling1D\n",
        "from tqdm import tqdm\n",
        "\n",
        "hour  = 3#int(input())\n",
        "\n",
        "# 데이터 준비\n",
        "# 새로운 데이터셋 불러오기\n",
        "df_circ_target = pd.read_csv(f'/content/drive/MyDrive/DA_dataset/infection_target_in_{hour}hour.csv')\n",
        "df_circ_dataset = pd.read_csv(f'/content/drive/MyDrive/DA_dataset/infection_dataset_in_{hour}hour.csv')\n",
        "\n",
        "# Feature와 Target 결합\n",
        "merged_dataset = pd.merge(df_circ_dataset, df_circ_target, on='stay_id')\n",
        "\n",
        "# Feature와 Target 분리\n",
        "X = merged_dataset.drop(columns=[\"stay_id\", \"los\"])\n",
        "y = merged_dataset[\"los\"]\n",
        "\n",
        "# 데이터 스케일링\n",
        "scaler = StandardScaler()\n",
        "X_scaled = scaler.fit_transform(X)\n",
        "X_scaled_df = pd.DataFrame(X_scaled, columns=X.columns)\n",
        "\n",
        "# stay_id 및 los 컬럼 다시 추가\n",
        "X_scaled_df['stay_id'] = merged_dataset['stay_id']\n",
        "X_scaled_df['los'] = y\n",
        "\n",
        "# 텐서 생성 함수\n",
        "def create_tensor_by_stay_id(data, sequence_length):\n",
        "    grouped = data.groupby('stay_id')\n",
        "    X_list, y_list, stay_ids = [], [], []\n",
        "    for stay_id, group in grouped:\n",
        "        values = group.drop(columns=['stay_id']).values\n",
        "        features = values[:, :-1]  # 피처\n",
        "        los_values = values[:, -1]  # 타겟 값\n",
        "\n",
        "        for i in range(len(features) - sequence_length + 1):\n",
        "            X_list.append(features[i:i+sequence_length])\n",
        "            y_list.append(los_values[i+sequence_length-1])\n",
        "            stay_ids.append(stay_id)\n",
        "    return np.array(X_list), np.array(y_list), stay_ids\n",
        "\n",
        "# 시퀀스 길이\n",
        "sequence_length = hour\n",
        "X_tensor, y_tensor, stay_ids = create_tensor_by_stay_id(X_scaled_df, sequence_length)\n",
        "\n",
        "# 하이퍼파라미터 튜닝 및 K-Fold 교차 검증 설정\n",
        "kf = KFold(n_splits=5, shuffle=True, random_state=42)\n",
        "evaluation_results = []\n",
        "\n",
        "# 하이퍼파라미터 설정\n",
        "epochs = [10, 20]  # Epoch 수 변경 가능\n",
        "batch_sizes = [16, 32, 64]  # Batch size 변경 가능\n",
        "\n",
        "# K-Fold 교차 검증 수행\n",
        "for train_index, test_index in tqdm(kf.split(X_tensor), total=kf.get_n_splits(), desc='K-Fold Cross Validation'):\n",
        "    X_train, X_test = X_tensor[train_index], X_tensor[test_index]\n",
        "    y_train, y_test = y_tensor[train_index], y_tensor[test_index]\n",
        "\n",
        "    for epoch in epochs:\n",
        "        for batch_size in batch_sizes:\n",
        "            # 트랜스포머 모델 정의\n",
        "            sequence_length = X_train.shape[1]\n",
        "            feature_dim = X_train.shape[2]\n",
        "            inputs = Input(shape=(sequence_length, feature_dim))\n",
        "\n",
        "            # 트랜스포머 레이어 생성 및 모델 구성\n",
        "            attention_output = MultiHeadAttention(num_heads=4, key_dim=feature_dim)(inputs, inputs)\n",
        "            attention_output = LayerNormalization(epsilon=1e-6)(attention_output + inputs)\n",
        "            attention_output = Dropout(0.1)(attention_output)\n",
        "\n",
        "            # 출력 레이어 정의\n",
        "            pooled_output = GlobalAveragePooling1D()(attention_output)\n",
        "            output = Dense(1)(pooled_output)\n",
        "            transformer_model = Model(inputs=inputs, outputs=output)\n",
        "\n",
        "            # 모델 컴파일\n",
        "            transformer_model.compile(optimizer='adam', loss='mse', metrics=['mae'])\n",
        "\n",
        "            # 모델 학습\n",
        "            history = transformer_model.fit(\n",
        "                X_train, y_train,\n",
        "                epochs=epoch,\n",
        "                batch_size=batch_size,\n",
        "                validation_data=(X_test, y_test),\n",
        "                verbose=0\n",
        "            )\n",
        "\n",
        "            # 모델 평가\n",
        "            def evaluate_model(model, X_test, y_test):\n",
        "                predictions = model.predict(X_test).flatten()\n",
        "                y_test = y_test.flatten()\n",
        "                mae = mean_absolute_error(y_test, predictions)\n",
        "                mse = mean_squared_error(y_test, predictions)\n",
        "                rmse = np.sqrt(mse)\n",
        "                r2 = r2_score(y_test, predictions)\n",
        "                return mae, mse, rmse, r2\n",
        "\n",
        "            mae, mse, rmse, r2 = evaluate_model(transformer_model, X_test, y_test)\n",
        "            evaluation_results.append({\n",
        "                'Epochs': epoch,\n",
        "                'Batch Size': batch_size,\n",
        "                'MAE': mae,\n",
        "                'MSE': mse,\n",
        "                'RMSE': rmse,\n",
        "                'R2': r2\n",
        "            })\n",
        "\n",
        "# 평가 결과 출력\n",
        "evaluation_df = pd.DataFrame(evaluation_results)\n",
        "print(\"\\nEvaluation Results:\")\n",
        "print(evaluation_df)\n",
        "\n",
        "# 학습 결과 시각화\n",
        "plt.figure(figsize=(10, 5))\n",
        "plt.plot(history.history['val_loss'], label='Validation Loss')\n",
        "plt.plot(history.history['loss'], label='Training Loss')\n",
        "plt.xlabel('Epochs')\n",
        "plt.ylabel('Loss')\n",
        "plt.legend()\n",
        "plt.show()\n"
      ],
      "metadata": {
        "colab": {
          "base_uri": "https://localhost:8080/",
          "height": 1000
        },
        "id": "Jb9mEUQD_IYs",
        "outputId": "6f1e71e2-e6c2-4bab-99a8-772845749a09"
      },
      "execution_count": null,
      "outputs": [
        {
          "output_type": "stream",
          "name": "stderr",
          "text": [
            "\rK-Fold Cross Validation:   0%|          | 0/5 [00:00<?, ?it/s]"
          ]
        },
        {
          "output_type": "stream",
          "name": "stdout",
          "text": [
            "\u001b[1m80/80\u001b[0m \u001b[32m━━━━━━━━━━━━━━━━━━━━\u001b[0m\u001b[37m\u001b[0m \u001b[1m0s\u001b[0m 3ms/step\n",
            "\u001b[1m80/80\u001b[0m \u001b[32m━━━━━━━━━━━━━━━━━━━━\u001b[0m\u001b[37m\u001b[0m \u001b[1m0s\u001b[0m 3ms/step\n",
            "\u001b[1m80/80\u001b[0m \u001b[32m━━━━━━━━━━━━━━━━━━━━\u001b[0m\u001b[37m\u001b[0m \u001b[1m0s\u001b[0m 3ms/step\n",
            "\u001b[1m80/80\u001b[0m \u001b[32m━━━━━━━━━━━━━━━━━━━━\u001b[0m\u001b[37m\u001b[0m \u001b[1m0s\u001b[0m 3ms/step\n",
            "\u001b[1m80/80\u001b[0m \u001b[32m━━━━━━━━━━━━━━━━━━━━\u001b[0m\u001b[37m\u001b[0m \u001b[1m0s\u001b[0m 3ms/step\n",
            "\u001b[1m80/80\u001b[0m \u001b[32m━━━━━━━━━━━━━━━━━━━━\u001b[0m\u001b[37m\u001b[0m \u001b[1m0s\u001b[0m 3ms/step\n"
          ]
        },
        {
          "output_type": "stream",
          "name": "stderr",
          "text": [
            "\rK-Fold Cross Validation:  20%|██        | 1/5 [01:57<07:48, 117.18s/it]"
          ]
        },
        {
          "output_type": "stream",
          "name": "stdout",
          "text": [
            "\u001b[1m80/80\u001b[0m \u001b[32m━━━━━━━━━━━━━━━━━━━━\u001b[0m\u001b[37m\u001b[0m \u001b[1m0s\u001b[0m 3ms/step\n",
            "\u001b[1m80/80\u001b[0m \u001b[32m━━━━━━━━━━━━━━━━━━━━\u001b[0m\u001b[37m\u001b[0m \u001b[1m0s\u001b[0m 3ms/step\n",
            "\u001b[1m80/80\u001b[0m \u001b[32m━━━━━━━━━━━━━━━━━━━━\u001b[0m\u001b[37m\u001b[0m \u001b[1m0s\u001b[0m 3ms/step\n",
            "\u001b[1m80/80\u001b[0m \u001b[32m━━━━━━━━━━━━━━━━━━━━\u001b[0m\u001b[37m\u001b[0m \u001b[1m0s\u001b[0m 3ms/step\n",
            "\u001b[1m80/80\u001b[0m \u001b[32m━━━━━━━━━━━━━━━━━━━━\u001b[0m\u001b[37m\u001b[0m \u001b[1m0s\u001b[0m 3ms/step\n",
            "\u001b[1m80/80\u001b[0m \u001b[32m━━━━━━━━━━━━━━━━━━━━\u001b[0m\u001b[37m\u001b[0m \u001b[1m0s\u001b[0m 3ms/step\n"
          ]
        },
        {
          "output_type": "stream",
          "name": "stderr",
          "text": [
            "\rK-Fold Cross Validation:  40%|████      | 2/5 [03:51<05:47, 115.79s/it]"
          ]
        },
        {
          "output_type": "stream",
          "name": "stdout",
          "text": [
            "\u001b[1m80/80\u001b[0m \u001b[32m━━━━━━━━━━━━━━━━━━━━\u001b[0m\u001b[37m\u001b[0m \u001b[1m0s\u001b[0m 3ms/step\n",
            "\u001b[1m80/80\u001b[0m \u001b[32m━━━━━━━━━━━━━━━━━━━━\u001b[0m\u001b[37m\u001b[0m \u001b[1m0s\u001b[0m 3ms/step\n",
            "\u001b[1m80/80\u001b[0m \u001b[32m━━━━━━━━━━━━━━━━━━━━\u001b[0m\u001b[37m\u001b[0m \u001b[1m0s\u001b[0m 3ms/step\n",
            "\u001b[1m80/80\u001b[0m \u001b[32m━━━━━━━━━━━━━━━━━━━━\u001b[0m\u001b[37m\u001b[0m \u001b[1m0s\u001b[0m 3ms/step\n",
            "\u001b[1m80/80\u001b[0m \u001b[32m━━━━━━━━━━━━━━━━━━━━\u001b[0m\u001b[37m\u001b[0m \u001b[1m0s\u001b[0m 3ms/step\n",
            "\u001b[1m80/80\u001b[0m \u001b[32m━━━━━━━━━━━━━━━━━━━━\u001b[0m\u001b[37m\u001b[0m \u001b[1m0s\u001b[0m 3ms/step\n"
          ]
        },
        {
          "output_type": "stream",
          "name": "stderr",
          "text": [
            "\rK-Fold Cross Validation:  60%|██████    | 3/5 [05:47<03:51, 115.77s/it]"
          ]
        },
        {
          "output_type": "stream",
          "name": "stdout",
          "text": [
            "\u001b[1m80/80\u001b[0m \u001b[32m━━━━━━━━━━━━━━━━━━━━\u001b[0m\u001b[37m\u001b[0m \u001b[1m0s\u001b[0m 3ms/step\n",
            "\u001b[1m80/80\u001b[0m \u001b[32m━━━━━━━━━━━━━━━━━━━━\u001b[0m\u001b[37m\u001b[0m \u001b[1m0s\u001b[0m 3ms/step\n",
            "\u001b[1m80/80\u001b[0m \u001b[32m━━━━━━━━━━━━━━━━━━━━\u001b[0m\u001b[37m\u001b[0m \u001b[1m0s\u001b[0m 3ms/step\n",
            "\u001b[1m80/80\u001b[0m \u001b[32m━━━━━━━━━━━━━━━━━━━━\u001b[0m\u001b[37m\u001b[0m \u001b[1m0s\u001b[0m 3ms/step\n",
            "\u001b[1m80/80\u001b[0m \u001b[32m━━━━━━━━━━━━━━━━━━━━\u001b[0m\u001b[37m\u001b[0m \u001b[1m0s\u001b[0m 3ms/step\n",
            "\u001b[1m80/80\u001b[0m \u001b[32m━━━━━━━━━━━━━━━━━━━━\u001b[0m\u001b[37m\u001b[0m \u001b[1m0s\u001b[0m 3ms/step\n"
          ]
        },
        {
          "output_type": "stream",
          "name": "stderr",
          "text": [
            "\rK-Fold Cross Validation:  80%|████████  | 4/5 [07:46<01:56, 116.86s/it]"
          ]
        },
        {
          "output_type": "stream",
          "name": "stdout",
          "text": [
            "\u001b[1m80/80\u001b[0m \u001b[32m━━━━━━━━━━━━━━━━━━━━\u001b[0m\u001b[37m\u001b[0m \u001b[1m0s\u001b[0m 2ms/step\n",
            "\u001b[1m80/80\u001b[0m \u001b[32m━━━━━━━━━━━━━━━━━━━━\u001b[0m\u001b[37m\u001b[0m \u001b[1m0s\u001b[0m 2ms/step\n",
            "\u001b[1m80/80\u001b[0m \u001b[32m━━━━━━━━━━━━━━━━━━━━\u001b[0m\u001b[37m\u001b[0m \u001b[1m0s\u001b[0m 2ms/step\n",
            "\u001b[1m80/80\u001b[0m \u001b[32m━━━━━━━━━━━━━━━━━━━━\u001b[0m\u001b[37m\u001b[0m \u001b[1m0s\u001b[0m 3ms/step\n",
            "\u001b[1m80/80\u001b[0m \u001b[32m━━━━━━━━━━━━━━━━━━━━\u001b[0m\u001b[37m\u001b[0m \u001b[1m0s\u001b[0m 3ms/step\n",
            "\u001b[1m80/80\u001b[0m \u001b[32m━━━━━━━━━━━━━━━━━━━━\u001b[0m\u001b[37m\u001b[0m \u001b[1m0s\u001b[0m 3ms/step\n"
          ]
        },
        {
          "output_type": "stream",
          "name": "stderr",
          "text": [
            "K-Fold Cross Validation: 100%|██████████| 5/5 [09:37<00:00, 115.53s/it]"
          ]
        },
        {
          "output_type": "stream",
          "name": "stdout",
          "text": [
            "\n",
            "Evaluation Results:\n",
            "    Epochs  Batch Size       MAE       MSE      RMSE        R2\n",
            "0       10          16  2.297059  8.903655  2.983899  0.196045\n",
            "1       10          32  2.330908  8.941760  2.990278  0.192605\n",
            "2       10          64  2.336301  9.240482  3.039816  0.165632\n",
            "3       20          16  2.304613  8.626791  2.937140  0.221045\n",
            "4       20          32  2.289800  8.947950  2.991312  0.192046\n",
            "5       20          64  2.321108  9.063515  3.010567  0.181611\n",
            "6       10          16  2.394950  8.849118  2.974747  0.189816\n",
            "7       10          32  2.290277  8.826805  2.970994  0.191859\n",
            "8       10          64  2.376958  9.050891  3.008470  0.171343\n",
            "9       20          16  2.256710  8.417558  2.901303  0.229328\n",
            "10      20          32  2.261268  8.466349  2.909699  0.224861\n",
            "11      20          64  2.290347  8.499735  2.915430  0.221804\n",
            "12      10          16  2.268344  8.583189  2.929708  0.198754\n",
            "13      10          32  2.281680  8.830840  2.971673  0.175635\n",
            "14      10          64  2.292676  8.909091  2.984810  0.168331\n",
            "15      20          16  2.250671  8.468728  2.910108  0.209439\n",
            "16      20          32  2.230676  8.632025  2.938031  0.194195\n",
            "17      20          64  2.290895  8.734954  2.955496  0.184586\n",
            "18      10          16  2.255100  8.866517  2.977670  0.180057\n",
            "19      10          32  2.285754  9.165911  3.027526  0.152370\n",
            "20      10          64  2.307665  9.097451  3.016198  0.158701\n",
            "21      20          16  2.243439  8.799140  2.966334  0.186288\n",
            "22      20          32  2.249016  8.625706  2.936955  0.202326\n",
            "23      20          64  2.291974  8.909270  2.984840  0.176103\n",
            "24      10          16  2.326267  8.820262  2.969893  0.181945\n",
            "25      10          32  2.338348  8.950581  2.991752  0.169858\n",
            "26      10          64  2.363789  8.951111  2.991841  0.169809\n",
            "27      20          16  2.261029  8.491148  2.913957  0.212470\n",
            "28      20          32  2.326604  8.735028  2.955508  0.189850\n",
            "29      20          64  2.342810  8.768378  2.961145  0.186757\n"
          ]
        },
        {
          "output_type": "stream",
          "name": "stderr",
          "text": [
            "\n"
          ]
        },
        {
          "output_type": "display_data",
          "data": {
            "text/plain": [
              "<Figure size 1000x500 with 1 Axes>"
            ],
            "image/png": "[encoded data removed]"
          },
          "metadata": {}
        }
      ]
    },
    {
      "cell_type": "markdown",
      "source": [
        "### 12h_hpt"
      ],
      "metadata": {
        "id": "qOhsKZloGEa1"
      }
    },
    {
      "cell_type": "code",
      "source": [
        "# 데이터 준비 과정과 모델링 부분 설명\n",
        "# 주어진 코드는 ICU의 입원 기간(LoS, Length of Stay)을 예측하기 위해 트랜스포머 기반 모델을 사용하여 실험하는 것입니다.\n",
        "\n",
        "import numpy as np\n",
        "import pandas as pd\n",
        "from sklearn.preprocessing import StandardScaler\n",
        "from sklearn.model_selection import KFold\n",
        "from sklearn.metrics import mean_absolute_error, mean_squared_error, r2_score\n",
        "import matplotlib.pyplot as plt\n",
        "import tensorflow as tf\n",
        "from tensorflow.keras.models import Model\n",
        "from tensorflow.keras.layers import Input, Dense, MultiHeadAttention, LayerNormalization, Dropout, GlobalAveragePooling1D\n",
        "from tqdm import tqdm\n",
        "\n",
        "hour  = 12#int(input())\n",
        "\n",
        "# 데이터 준비\n",
        "# 새로운 데이터셋 불러오기\n",
        "df_circ_target = pd.read_csv(f'/content/drive/MyDrive/DA_dataset/infection_target_in_{hour}hour.csv')\n",
        "df_circ_dataset = pd.read_csv(f'/content/drive/MyDrive/DA_dataset/infection_dataset_in_{hour}hour.csv')\n",
        "\n",
        "# Feature와 Target 결합\n",
        "merged_dataset = pd.merge(df_circ_dataset, df_circ_target, on='stay_id')\n",
        "\n",
        "# Feature와 Target 분리\n",
        "X = merged_dataset.drop(columns=[\"stay_id\", \"los\"])\n",
        "y = merged_dataset[\"los\"]\n",
        "\n",
        "# 데이터 스케일링\n",
        "scaler = StandardScaler()\n",
        "X_scaled = scaler.fit_transform(X)\n",
        "X_scaled_df = pd.DataFrame(X_scaled, columns=X.columns)\n",
        "\n",
        "# stay_id 및 los 컬럼 다시 추가\n",
        "X_scaled_df['stay_id'] = merged_dataset['stay_id']\n",
        "X_scaled_df['los'] = y\n",
        "\n",
        "# 텐서 생성 함수\n",
        "def create_tensor_by_stay_id(data, sequence_length):\n",
        "    grouped = data.groupby('stay_id')\n",
        "    X_list, y_list, stay_ids = [], [], []\n",
        "    for stay_id, group in grouped:\n",
        "        values = group.drop(columns=['stay_id']).values\n",
        "        features = values[:, :-1]  # 피처\n",
        "        los_values = values[:, -1]  # 타겟 값\n",
        "\n",
        "        for i in range(len(features) - sequence_length + 1):\n",
        "            X_list.append(features[i:i+sequence_length])\n",
        "            y_list.append(los_values[i+sequence_length-1])\n",
        "            stay_ids.append(stay_id)\n",
        "    return np.array(X_list), np.array(y_list), stay_ids\n",
        "\n",
        "# 시퀀스 길이\n",
        "sequence_length = hour\n",
        "X_tensor, y_tensor, stay_ids = create_tensor_by_stay_id(X_scaled_df, sequence_length)\n",
        "\n",
        "# 하이퍼파라미터 튜닝 및 K-Fold 교차 검증 설정\n",
        "kf = KFold(n_splits=5, shuffle=True, random_state=42)\n",
        "evaluation_results = []\n",
        "\n",
        "# 하이퍼파라미터 설정\n",
        "epochs = [10, 20]  # Epoch 수 변경 가능\n",
        "batch_sizes = [16, 32, 64]  # Batch size 변경 가능\n",
        "\n",
        "# K-Fold 교차 검증 수행\n",
        "for train_index, test_index in tqdm(kf.split(X_tensor), total=kf.get_n_splits(), desc='K-Fold Cross Validation'):\n",
        "    X_train, X_test = X_tensor[train_index], X_tensor[test_index]\n",
        "    y_train, y_test = y_tensor[train_index], y_tensor[test_index]\n",
        "\n",
        "    for epoch in epochs:\n",
        "        for batch_size in batch_sizes:\n",
        "            # 트랜스포머 모델 정의\n",
        "            sequence_length = X_train.shape[1]\n",
        "            feature_dim = X_train.shape[2]\n",
        "            inputs = Input(shape=(sequence_length, feature_dim))\n",
        "\n",
        "            # 트랜스포머 레이어 생성 및 모델 구성\n",
        "            attention_output = MultiHeadAttention(num_heads=4, key_dim=feature_dim)(inputs, inputs)\n",
        "            attention_output = LayerNormalization(epsilon=1e-6)(attention_output + inputs)\n",
        "            attention_output = Dropout(0.1)(attention_output)\n",
        "\n",
        "            # 출력 레이어 정의\n",
        "            pooled_output = GlobalAveragePooling1D()(attention_output)\n",
        "            output = Dense(1)(pooled_output)\n",
        "            transformer_model = Model(inputs=inputs, outputs=output)\n",
        "\n",
        "            # 모델 컴파일\n",
        "            transformer_model.compile(optimizer='adam', loss='mse', metrics=['mae'])\n",
        "\n",
        "            # 모델 학습\n",
        "            history = transformer_model.fit(\n",
        "                X_train, y_train,\n",
        "                epochs=epoch,\n",
        "                batch_size=batch_size,\n",
        "                validation_data=(X_test, y_test),\n",
        "                verbose=0\n",
        "            )\n",
        "\n",
        "            # 모델 평가\n",
        "            def evaluate_model(model, X_test, y_test):\n",
        "                predictions = model.predict(X_test).flatten()\n",
        "                y_test = y_test.flatten()\n",
        "                mae = mean_absolute_error(y_test, predictions)\n",
        "                mse = mean_squared_error(y_test, predictions)\n",
        "                rmse = np.sqrt(mse)\n",
        "                r2 = r2_score(y_test, predictions)\n",
        "                return mae, mse, rmse, r2\n",
        "\n",
        "            mae, mse, rmse, r2 = evaluate_model(transformer_model, X_test, y_test)\n",
        "            evaluation_results.append({\n",
        "                'Epochs': epoch,\n",
        "                'Batch Size': batch_size,\n",
        "                'MAE': mae,\n",
        "                'MSE': mse,\n",
        "                'RMSE': rmse,\n",
        "                'R2': r2\n",
        "            })\n",
        "\n",
        "# 평가 결과 출력\n",
        "evaluation_df = pd.DataFrame(evaluation_results)\n",
        "print(\"\\nEvaluation Results:\")\n",
        "print(evaluation_df)\n",
        "\n",
        "# 학습 결과 시각화\n",
        "plt.figure(figsize=(10, 5))\n",
        "plt.plot(history.history['val_loss'], label='Validation Loss')\n",
        "plt.plot(history.history['loss'], label='Training Loss')\n",
        "plt.xlabel('Epochs')\n",
        "plt.ylabel('Loss')\n",
        "plt.legend()\n",
        "plt.show()\n"
      ],
      "metadata": {
        "colab": {
          "base_uri": "https://localhost:8080/",
          "height": 1000
        },
        "id": "Zb4Bnhdl-Hs-",
        "outputId": "b4f8fd9d-a889-4c79-c92e-798a5a812e2d"
      },
      "execution_count": null,
      "outputs": [
        {
          "name": "stdout",
          "output_type": "stream",
          "text": [
            "12\n"
          ]
        },
        {
          "output_type": "stream",
          "name": "stderr",
          "text": [
            "\rK-Fold Cross Validation:   0%|          | 0/5 [00:00<?, ?it/s]"
          ]
        },
        {
          "output_type": "stream",
          "name": "stdout",
          "text": [
            "\u001b[1m16/16\u001b[0m \u001b[32m━━━━━━━━━━━━━━━━━━━━\u001b[0m\u001b[37m\u001b[0m \u001b[1m0s\u001b[0m 7ms/step\n",
            "\u001b[1m16/16\u001b[0m \u001b[32m━━━━━━━━━━━━━━━━━━━━\u001b[0m\u001b[37m\u001b[0m \u001b[1m0s\u001b[0m 6ms/step\n",
            "\u001b[1m16/16\u001b[0m \u001b[32m━━━━━━━━━━━━━━━━━━━━\u001b[0m\u001b[37m\u001b[0m \u001b[1m0s\u001b[0m 7ms/step\n",
            "\u001b[1m16/16\u001b[0m \u001b[32m━━━━━━━━━━━━━━━━━━━━\u001b[0m\u001b[37m\u001b[0m \u001b[1m0s\u001b[0m 6ms/step\n",
            "\u001b[1m16/16\u001b[0m \u001b[32m━━━━━━━━━━━━━━━━━━━━\u001b[0m\u001b[37m\u001b[0m \u001b[1m0s\u001b[0m 7ms/step\n",
            "\u001b[1m16/16\u001b[0m \u001b[32m━━━━━━━━━━━━━━━━━━━━\u001b[0m\u001b[37m\u001b[0m \u001b[1m0s\u001b[0m 6ms/step\n"
          ]
        },
        {
          "output_type": "stream",
          "name": "stderr",
          "text": [
            "\rK-Fold Cross Validation:  20%|██        | 1/5 [00:39<02:36, 39.03s/it]"
          ]
        },
        {
          "output_type": "stream",
          "name": "stdout",
          "text": [
            "\u001b[1m16/16\u001b[0m \u001b[32m━━━━━━━━━━━━━━━━━━━━\u001b[0m\u001b[37m\u001b[0m \u001b[1m0s\u001b[0m 7ms/step\n",
            "\u001b[1m16/16\u001b[0m \u001b[32m━━━━━━━━━━━━━━━━━━━━\u001b[0m\u001b[37m\u001b[0m \u001b[1m0s\u001b[0m 7ms/step\n",
            "\u001b[1m16/16\u001b[0m \u001b[32m━━━━━━━━━━━━━━━━━━━━\u001b[0m\u001b[37m\u001b[0m \u001b[1m1s\u001b[0m 7ms/step\n",
            "\u001b[1m16/16\u001b[0m \u001b[32m━━━━━━━━━━━━━━━━━━━━\u001b[0m\u001b[37m\u001b[0m \u001b[1m0s\u001b[0m 7ms/step\n",
            "\u001b[1m16/16\u001b[0m \u001b[32m━━━━━━━━━━━━━━━━━━━━\u001b[0m\u001b[37m\u001b[0m \u001b[1m0s\u001b[0m 7ms/step\n",
            "\u001b[1m16/16\u001b[0m \u001b[32m━━━━━━━━━━━━━━━━━━━━\u001b[0m\u001b[37m\u001b[0m \u001b[1m0s\u001b[0m 7ms/step\n"
          ]
        },
        {
          "output_type": "stream",
          "name": "stderr",
          "text": [
            "\rK-Fold Cross Validation:  40%|████      | 2/5 [01:21<02:02, 40.98s/it]"
          ]
        },
        {
          "output_type": "stream",
          "name": "stdout",
          "text": [
            "\u001b[1m16/16\u001b[0m \u001b[32m━━━━━━━━━━━━━━━━━━━━\u001b[0m\u001b[37m\u001b[0m \u001b[1m0s\u001b[0m 7ms/step\n",
            "\u001b[1m16/16\u001b[0m \u001b[32m━━━━━━━━━━━━━━━━━━━━\u001b[0m\u001b[37m\u001b[0m \u001b[1m0s\u001b[0m 7ms/step\n",
            "\u001b[1m16/16\u001b[0m \u001b[32m━━━━━━━━━━━━━━━━━━━━\u001b[0m\u001b[37m\u001b[0m \u001b[1m0s\u001b[0m 7ms/step\n",
            "\u001b[1m16/16\u001b[0m \u001b[32m━━━━━━━━━━━━━━━━━━━━\u001b[0m\u001b[37m\u001b[0m \u001b[1m0s\u001b[0m 7ms/step\n",
            "\u001b[1m16/16\u001b[0m \u001b[32m━━━━━━━━━━━━━━━━━━━━\u001b[0m\u001b[37m\u001b[0m \u001b[1m0s\u001b[0m 7ms/step\n",
            "\u001b[1m16/16\u001b[0m \u001b[32m━━━━━━━━━━━━━━━━━━━━\u001b[0m\u001b[37m\u001b[0m \u001b[1m0s\u001b[0m 7ms/step\n"
          ]
        },
        {
          "output_type": "stream",
          "name": "stderr",
          "text": [
            "\rK-Fold Cross Validation:  60%|██████    | 3/5 [02:02<01:22, 41.05s/it]"
          ]
        },
        {
          "output_type": "stream",
          "name": "stdout",
          "text": [
            "\u001b[1m16/16\u001b[0m \u001b[32m━━━━━━━━━━━━━━━━━━━━\u001b[0m\u001b[37m\u001b[0m \u001b[1m0s\u001b[0m 6ms/step\n",
            "\u001b[1m16/16\u001b[0m \u001b[32m━━━━━━━━━━━━━━━━━━━━\u001b[0m\u001b[37m\u001b[0m \u001b[1m0s\u001b[0m 6ms/step\n",
            "\u001b[1m16/16\u001b[0m \u001b[32m━━━━━━━━━━━━━━━━━━━━\u001b[0m\u001b[37m\u001b[0m \u001b[1m0s\u001b[0m 7ms/step\n",
            "\u001b[1m16/16\u001b[0m \u001b[32m━━━━━━━━━━━━━━━━━━━━\u001b[0m\u001b[37m\u001b[0m \u001b[1m0s\u001b[0m 7ms/step\n",
            "\u001b[1m16/16\u001b[0m \u001b[32m━━━━━━━━━━━━━━━━━━━━\u001b[0m\u001b[37m\u001b[0m \u001b[1m0s\u001b[0m 8ms/step\n",
            "\u001b[1m16/16\u001b[0m \u001b[32m━━━━━━━━━━━━━━━━━━━━\u001b[0m\u001b[37m\u001b[0m \u001b[1m0s\u001b[0m 6ms/step\n"
          ]
        },
        {
          "output_type": "stream",
          "name": "stderr",
          "text": [
            "\rK-Fold Cross Validation:  80%|████████  | 4/5 [02:43<00:41, 41.07s/it]"
          ]
        },
        {
          "output_type": "stream",
          "name": "stdout",
          "text": [
            "\u001b[1m16/16\u001b[0m \u001b[32m━━━━━━━━━━━━━━━━━━━━\u001b[0m\u001b[37m\u001b[0m \u001b[1m0s\u001b[0m 8ms/step\n",
            "\u001b[1m16/16\u001b[0m \u001b[32m━━━━━━━━━━━━━━━━━━━━\u001b[0m\u001b[37m\u001b[0m \u001b[1m0s\u001b[0m 7ms/step\n",
            "\u001b[1m16/16\u001b[0m \u001b[32m━━━━━━━━━━━━━━━━━━━━\u001b[0m\u001b[37m\u001b[0m \u001b[1m0s\u001b[0m 7ms/step\n",
            "\u001b[1m16/16\u001b[0m \u001b[32m━━━━━━━━━━━━━━━━━━━━\u001b[0m\u001b[37m\u001b[0m \u001b[1m0s\u001b[0m 7ms/step\n",
            "\u001b[1m16/16\u001b[0m \u001b[32m━━━━━━━━━━━━━━━━━━━━\u001b[0m\u001b[37m\u001b[0m \u001b[1m0s\u001b[0m 7ms/step\n",
            "\u001b[1m16/16\u001b[0m \u001b[32m━━━━━━━━━━━━━━━━━━━━\u001b[0m\u001b[37m\u001b[0m \u001b[1m0s\u001b[0m 7ms/step\n"
          ]
        },
        {
          "output_type": "stream",
          "name": "stderr",
          "text": [
            "K-Fold Cross Validation: 100%|██████████| 5/5 [03:24<00:00, 40.85s/it]"
          ]
        },
        {
          "output_type": "stream",
          "name": "stdout",
          "text": [
            "\n",
            "Evaluation Results:\n",
            "    Epochs  Batch Size       MAE        MSE      RMSE        R2\n",
            "0       10          16  2.244103   8.567850  2.927089  0.100645\n",
            "1       10          32  2.206235   8.359112  2.891213  0.122556\n",
            "2       10          64  2.231101   8.443369  2.905748  0.113711\n",
            "3       20          16  2.319978   9.047566  3.007917  0.050290\n",
            "4       20          32  2.284931   8.981505  2.996916  0.057224\n",
            "5       20          64  2.254327   8.675738  2.945460  0.089320\n",
            "6       10          16  2.325455   9.683604  3.111849  0.089984\n",
            "7       10          32  2.368514   9.598266  3.098107  0.098003\n",
            "8       10          64  2.350716   9.505810  3.083149  0.106692\n",
            "9       20          16  2.378465  10.107003  3.179151  0.050195\n",
            "10      20          32  2.413254  10.003570  3.162842  0.059915\n",
            "11      20          64  2.350933   9.514363  3.084536  0.105888\n",
            "12      10          16  2.247289   8.562399  2.926158  0.143403\n",
            "13      10          32  2.242338   8.386286  2.895908  0.161022\n",
            "14      10          64  2.260393   8.444553  2.905951  0.155193\n",
            "15      20          16  2.219177   8.721336  2.953191  0.127503\n",
            "16      20          32  2.211541   8.384280  2.895562  0.161223\n",
            "17      20          64  2.265960   8.617133  2.935495  0.137928\n",
            "18      10          16  2.261425   8.682888  2.946674  0.138020\n",
            "19      10          32  2.308764   8.752962  2.958541  0.131064\n",
            "20      10          64  2.288149   8.685864  2.947179  0.137725\n",
            "21      20          16  2.334759   9.112654  3.018717  0.095356\n",
            "22      20          32  2.322389   8.990989  2.998498  0.107434\n",
            "23      20          64  2.252482   8.733931  2.955322  0.132953\n",
            "24      10          16  2.442884   9.457383  3.075286  0.133947\n",
            "25      10          32  2.420643   9.426202  3.070212  0.136803\n",
            "26      10          64  2.432229   9.595715  3.097695  0.121280\n",
            "27      20          16  2.381101   9.789267  3.128780  0.103555\n",
            "28      20          32  2.421900   9.775916  3.126646  0.104778\n",
            "29      20          64  2.438880   9.491003  3.080747  0.130868\n"
          ]
        },
        {
          "output_type": "stream",
          "name": "stderr",
          "text": [
            "\n"
          ]
        },
        {
          "output_type": "display_data",
          "data": {
            "text/plain": [
              "<Figure size 1000x500 with 1 Axes>"
            ],
            "image/png": "[encoded data removed]"
          },
          "metadata": {}
        }
      ]
    },
    {
      "cell_type": "markdown",
      "source": [
        "### 18h_hpt"
      ],
      "metadata": {
        "id": "KrJZZgG_50Yy"
      }
    },
    {
      "cell_type": "code",
      "source": [
        "# 데이터 준비 과정과 모델링 부분 설명\n",
        "# 주어진 코드는 ICU의 입원 기간(LoS, Length of Stay)을 예측하기 위해 트랜스포머 기반 모델을 사용하여 실험하는 것입니다.\n",
        "\n",
        "import numpy as np\n",
        "import pandas as pd\n",
        "from sklearn.preprocessing import StandardScaler\n",
        "from sklearn.model_selection import KFold\n",
        "from sklearn.metrics import mean_absolute_error, mean_squared_error, r2_score\n",
        "import matplotlib.pyplot as plt\n",
        "import tensorflow as tf\n",
        "from tensorflow.keras.models import Model\n",
        "from tensorflow.keras.layers import Input, Dense, MultiHeadAttention, LayerNormalization, Dropout, GlobalAveragePooling1D\n",
        "from tqdm import tqdm\n",
        "\n",
        "hour  = 18#int(input())\n",
        "\n",
        "# 데이터 준비\n",
        "# 새로운 데이터셋 불러오기\n",
        "df_circ_target = pd.read_csv(f'/content/drive/MyDrive/DA_dataset/infection_target_in_{hour}hour.csv')\n",
        "df_circ_dataset = pd.read_csv(f'/content/drive/MyDrive/DA_dataset/infection_dataset_in_{hour}hour.csv')\n",
        "\n",
        "# Feature와 Target 결합\n",
        "merged_dataset = pd.merge(df_circ_dataset, df_circ_target, on='stay_id')\n",
        "\n",
        "# Feature와 Target 분리\n",
        "X = merged_dataset.drop(columns=[\"stay_id\", \"los\"])\n",
        "y = merged_dataset[\"los\"]\n",
        "\n",
        "# 데이터 스케일링\n",
        "scaler = StandardScaler()\n",
        "X_scaled = scaler.fit_transform(X)\n",
        "X_scaled_df = pd.DataFrame(X_scaled, columns=X.columns)\n",
        "\n",
        "# stay_id 및 los 컬럼 다시 추가\n",
        "X_scaled_df['stay_id'] = merged_dataset['stay_id']\n",
        "X_scaled_df['los'] = y\n",
        "\n",
        "# 텐서 생성 함수\n",
        "def create_tensor_by_stay_id(data, sequence_length):\n",
        "    grouped = data.groupby('stay_id')\n",
        "    X_list, y_list, stay_ids = [], [], []\n",
        "    for stay_id, group in grouped:\n",
        "        values = group.drop(columns=['stay_id']).values\n",
        "        features = values[:, :-1]  # 피처\n",
        "        los_values = values[:, -1]  # 타겟 값\n",
        "\n",
        "        for i in range(len(features) - sequence_length + 1):\n",
        "            X_list.append(features[i:i+sequence_length])\n",
        "            y_list.append(los_values[i+sequence_length-1])\n",
        "            stay_ids.append(stay_id)\n",
        "    return np.array(X_list), np.array(y_list), stay_ids\n",
        "\n",
        "# 시퀀스 길이\n",
        "sequence_length = hour\n",
        "X_tensor, y_tensor, stay_ids = create_tensor_by_stay_id(X_scaled_df, sequence_length)\n",
        "\n",
        "# 하이퍼파라미터 튜닝 및 K-Fold 교차 검증 설정\n",
        "kf = KFold(n_splits=5, shuffle=True, random_state=42)\n",
        "evaluation_results = []\n",
        "\n",
        "# 하이퍼파라미터 설정\n",
        "epochs = [10, 20]  # Epoch 수 변경 가능\n",
        "batch_sizes = [16, 32, 64]  # Batch size 변경 가능\n",
        "\n",
        "# K-Fold 교차 검증 수행\n",
        "for train_index, test_index in tqdm(kf.split(X_tensor), total=kf.get_n_splits(), desc='K-Fold Cross Validation'):\n",
        "    X_train, X_test = X_tensor[train_index], X_tensor[test_index]\n",
        "    y_train, y_test = y_tensor[train_index], y_tensor[test_index]\n",
        "\n",
        "    for epoch in epochs:\n",
        "        for batch_size in batch_sizes:\n",
        "            # 트랜스포머 모델 정의\n",
        "            sequence_length = X_train.shape[1]\n",
        "            feature_dim = X_train.shape[2]\n",
        "            inputs = Input(shape=(sequence_length, feature_dim))\n",
        "\n",
        "            # 트랜스포머 레이어 생성 및 모델 구성\n",
        "            attention_output = MultiHeadAttention(num_heads=4, key_dim=feature_dim)(inputs, inputs)\n",
        "            attention_output = LayerNormalization(epsilon=1e-6)(attention_output + inputs)\n",
        "            attention_output = Dropout(0.1)(attention_output)\n",
        "\n",
        "            # 출력 레이어 정의\n",
        "            pooled_output = GlobalAveragePooling1D()(attention_output)\n",
        "            output = Dense(1)(pooled_output)\n",
        "            transformer_model = Model(inputs=inputs, outputs=output)\n",
        "\n",
        "            # 모델 컴파일\n",
        "            transformer_model.compile(optimizer='adam', loss='mse', metrics=['mae'])\n",
        "\n",
        "            # 모델 학습\n",
        "            history = transformer_model.fit(\n",
        "                X_train, y_train,\n",
        "                epochs=epoch,\n",
        "                batch_size=batch_size,\n",
        "                validation_data=(X_test, y_test),\n",
        "                verbose=0\n",
        "            )\n",
        "\n",
        "            # 모델 평가\n",
        "            def evaluate_model(model, X_test, y_test):\n",
        "                predictions = model.predict(X_test).flatten()\n",
        "                y_test = y_test.flatten()\n",
        "                mae = mean_absolute_error(y_test, predictions)\n",
        "                mse = mean_squared_error(y_test, predictions)\n",
        "                rmse = np.sqrt(mse)\n",
        "                r2 = r2_score(y_test, predictions)\n",
        "                return mae, mse, rmse, r2\n",
        "\n",
        "            mae, mse, rmse, r2 = evaluate_model(transformer_model, X_test, y_test)\n",
        "            evaluation_results.append({\n",
        "                'Epochs': epoch,\n",
        "                'Batch Size': batch_size,\n",
        "                'MAE': mae,\n",
        "                'MSE': mse,\n",
        "                'RMSE': rmse,\n",
        "                'R2': r2\n",
        "            })\n",
        "\n",
        "# 평가 결과 출력\n",
        "evaluation_df = pd.DataFrame(evaluation_results)\n",
        "print(\"\\nEvaluation Results:\")\n",
        "print(evaluation_df)\n",
        "\n",
        "# 학습 결과 시각화\n",
        "plt.figure(figsize=(10, 5))\n",
        "plt.plot(history.history['val_loss'], label='Validation Loss')\n",
        "plt.plot(history.history['loss'], label='Training Loss')\n",
        "plt.xlabel('Epochs')\n",
        "plt.ylabel('Loss')\n",
        "plt.legend()\n",
        "plt.show()\n"
      ],
      "metadata": {
        "colab": {
          "base_uri": "https://localhost:8080/",
          "height": 1000
        },
        "id": "peAMwzk5G57K",
        "outputId": "06bff48c-8b9e-48df-a7da-1aecdf75e8e7"
      },
      "execution_count": null,
      "outputs": [
        {
          "name": "stdout",
          "output_type": "stream",
          "text": [
            "18\n"
          ]
        },
        {
          "output_type": "stream",
          "name": "stderr",
          "text": [
            "\rK-Fold Cross Validation:   0%|          | 0/5 [00:00<?, ?it/s]"
          ]
        },
        {
          "output_type": "stream",
          "name": "stdout",
          "text": [
            "\u001b[1m18/18\u001b[0m \u001b[32m━━━━━━━━━━━━━━━━━━━━\u001b[0m\u001b[37m\u001b[0m \u001b[1m0s\u001b[0m 6ms/step\n",
            "\u001b[1m18/18\u001b[0m \u001b[32m━━━━━━━━━━━━━━━━━━━━\u001b[0m\u001b[37m\u001b[0m \u001b[1m0s\u001b[0m 6ms/step\n",
            "\u001b[1m18/18\u001b[0m \u001b[32m━━━━━━━━━━━━━━━━━━━━\u001b[0m\u001b[37m\u001b[0m \u001b[1m0s\u001b[0m 6ms/step\n",
            "\u001b[1m18/18\u001b[0m \u001b[32m━━━━━━━━━━━━━━━━━━━━\u001b[0m\u001b[37m\u001b[0m \u001b[1m0s\u001b[0m 6ms/step\n",
            "\u001b[1m18/18\u001b[0m \u001b[32m━━━━━━━━━━━━━━━━━━━━\u001b[0m\u001b[37m\u001b[0m \u001b[1m0s\u001b[0m 6ms/step\n",
            "\u001b[1m18/18\u001b[0m \u001b[32m━━━━━━━━━━━━━━━━━━━━\u001b[0m\u001b[37m\u001b[0m \u001b[1m0s\u001b[0m 7ms/step\n"
          ]
        },
        {
          "output_type": "stream",
          "name": "stderr",
          "text": [
            "\rK-Fold Cross Validation:  20%|██        | 1/5 [00:48<03:12, 48.14s/it]"
          ]
        },
        {
          "output_type": "stream",
          "name": "stdout",
          "text": [
            "\u001b[1m18/18\u001b[0m \u001b[32m━━━━━━━━━━━━━━━━━━━━\u001b[0m\u001b[37m\u001b[0m \u001b[1m0s\u001b[0m 7ms/step\n",
            "\u001b[1m18/18\u001b[0m \u001b[32m━━━━━━━━━━━━━━━━━━━━\u001b[0m\u001b[37m\u001b[0m \u001b[1m0s\u001b[0m 7ms/step\n",
            "\u001b[1m18/18\u001b[0m \u001b[32m━━━━━━━━━━━━━━━━━━━━\u001b[0m\u001b[37m\u001b[0m \u001b[1m0s\u001b[0m 6ms/step\n",
            "\u001b[1m18/18\u001b[0m \u001b[32m━━━━━━━━━━━━━━━━━━━━\u001b[0m\u001b[37m\u001b[0m \u001b[1m0s\u001b[0m 6ms/step\n",
            "\u001b[1m18/18\u001b[0m \u001b[32m━━━━━━━━━━━━━━━━━━━━\u001b[0m\u001b[37m\u001b[0m \u001b[1m0s\u001b[0m 6ms/step\n",
            "\u001b[1m18/18\u001b[0m \u001b[32m━━━━━━━━━━━━━━━━━━━━\u001b[0m\u001b[37m\u001b[0m \u001b[1m0s\u001b[0m 7ms/step\n"
          ]
        },
        {
          "output_type": "stream",
          "name": "stderr",
          "text": [
            "\rK-Fold Cross Validation:  40%|████      | 2/5 [01:34<02:21, 47.26s/it]"
          ]
        },
        {
          "output_type": "stream",
          "name": "stdout",
          "text": [
            "\u001b[1m18/18\u001b[0m \u001b[32m━━━━━━━━━━━━━━━━━━━━\u001b[0m\u001b[37m\u001b[0m \u001b[1m0s\u001b[0m 6ms/step\n",
            "\u001b[1m18/18\u001b[0m \u001b[32m━━━━━━━━━━━━━━━━━━━━\u001b[0m\u001b[37m\u001b[0m \u001b[1m0s\u001b[0m 6ms/step\n",
            "\u001b[1m18/18\u001b[0m \u001b[32m━━━━━━━━━━━━━━━━━━━━\u001b[0m\u001b[37m\u001b[0m \u001b[1m0s\u001b[0m 6ms/step\n",
            "\u001b[1m18/18\u001b[0m \u001b[32m━━━━━━━━━━━━━━━━━━━━\u001b[0m\u001b[37m\u001b[0m \u001b[1m0s\u001b[0m 6ms/step\n",
            "\u001b[1m18/18\u001b[0m \u001b[32m━━━━━━━━━━━━━━━━━━━━\u001b[0m\u001b[37m\u001b[0m \u001b[1m0s\u001b[0m 7ms/step\n",
            "\u001b[1m18/18\u001b[0m \u001b[32m━━━━━━━━━━━━━━━━━━━━\u001b[0m\u001b[37m\u001b[0m \u001b[1m0s\u001b[0m 6ms/step\n"
          ]
        },
        {
          "output_type": "stream",
          "name": "stderr",
          "text": [
            "\rK-Fold Cross Validation:  60%|██████    | 3/5 [02:18<01:31, 45.86s/it]"
          ]
        },
        {
          "output_type": "stream",
          "name": "stdout",
          "text": [
            "\u001b[1m18/18\u001b[0m \u001b[32m━━━━━━━━━━━━━━━━━━━━\u001b[0m\u001b[37m\u001b[0m \u001b[1m0s\u001b[0m 6ms/step\n",
            "\u001b[1m18/18\u001b[0m \u001b[32m━━━━━━━━━━━━━━━━━━━━\u001b[0m\u001b[37m\u001b[0m \u001b[1m0s\u001b[0m 7ms/step\n",
            "\u001b[1m18/18\u001b[0m \u001b[32m━━━━━━━━━━━━━━━━━━━━\u001b[0m\u001b[37m\u001b[0m \u001b[1m0s\u001b[0m 6ms/step\n",
            "\u001b[1m18/18\u001b[0m \u001b[32m━━━━━━━━━━━━━━━━━━━━\u001b[0m\u001b[37m\u001b[0m \u001b[1m0s\u001b[0m 7ms/step\n",
            "\u001b[1m18/18\u001b[0m \u001b[32m━━━━━━━━━━━━━━━━━━━━\u001b[0m\u001b[37m\u001b[0m \u001b[1m0s\u001b[0m 7ms/step\n",
            "\u001b[1m18/18\u001b[0m \u001b[32m━━━━━━━━━━━━━━━━━━━━\u001b[0m\u001b[37m\u001b[0m \u001b[1m0s\u001b[0m 6ms/step\n"
          ]
        },
        {
          "output_type": "stream",
          "name": "stderr",
          "text": [
            "\rK-Fold Cross Validation:  80%|████████  | 4/5 [03:08<00:47, 47.27s/it]"
          ]
        },
        {
          "output_type": "stream",
          "name": "stdout",
          "text": [
            "\u001b[1m18/18\u001b[0m \u001b[32m━━━━━━━━━━━━━━━━━━━━\u001b[0m\u001b[37m\u001b[0m \u001b[1m0s\u001b[0m 6ms/step\n",
            "\u001b[1m18/18\u001b[0m \u001b[32m━━━━━━━━━━━━━━━━━━━━\u001b[0m\u001b[37m\u001b[0m \u001b[1m0s\u001b[0m 6ms/step\n",
            "\u001b[1m18/18\u001b[0m \u001b[32m━━━━━━━━━━━━━━━━━━━━\u001b[0m\u001b[37m\u001b[0m \u001b[1m0s\u001b[0m 6ms/step\n",
            "\u001b[1m18/18\u001b[0m \u001b[32m━━━━━━━━━━━━━━━━━━━━\u001b[0m\u001b[37m\u001b[0m \u001b[1m0s\u001b[0m 6ms/step\n",
            "\u001b[1m18/18\u001b[0m \u001b[32m━━━━━━━━━━━━━━━━━━━━\u001b[0m\u001b[37m\u001b[0m \u001b[1m0s\u001b[0m 6ms/step\n",
            "\u001b[1m18/18\u001b[0m \u001b[32m━━━━━━━━━━━━━━━━━━━━\u001b[0m\u001b[37m\u001b[0m \u001b[1m0s\u001b[0m 6ms/step\n"
          ]
        },
        {
          "output_type": "stream",
          "name": "stderr",
          "text": [
            "K-Fold Cross Validation: 100%|██████████| 5/5 [03:54<00:00, 46.85s/it]"
          ]
        },
        {
          "output_type": "stream",
          "name": "stdout",
          "text": [
            "\n",
            "Evaluation Results:\n",
            "    Epochs  Batch Size       MAE        MSE      RMSE        R2\n",
            "0       10          16  2.144389   7.554300  2.748509  0.157339\n",
            "1       10          32  2.192882   7.750208  2.783919  0.135486\n",
            "2       10          64  2.187179   7.651263  2.766092  0.146523\n",
            "3       20          16  2.112111   7.614516  2.759441  0.150622\n",
            "4       20          32  2.160969   7.897765  2.810296  0.119026\n",
            "5       20          64  2.210430   7.866194  2.804674  0.122548\n",
            "6       10          16  2.169163   7.658920  2.767475  0.125028\n",
            "7       10          32  2.127795   7.567280  2.750869  0.135497\n",
            "8       10          64  2.199793   7.814643  2.795468  0.107238\n",
            "9       20          16  2.187371   8.274445  2.876533  0.054709\n",
            "10      20          32  2.154836   7.766775  2.786893  0.112706\n",
            "11      20          64  2.156599   7.875110  2.806263  0.100330\n",
            "12      10          16  2.386278   9.698764  3.114284  0.140120\n",
            "13      10          32  2.387024   9.692609  3.113296  0.140666\n",
            "14      10          64  2.411750   9.859111  3.139922  0.125904\n",
            "15      20          16  2.481387  10.181236  3.190805  0.097345\n",
            "16      20          32  2.427415   9.924908  3.150382  0.120071\n",
            "17      20          64  2.399049   9.656485  3.107489  0.143869\n",
            "18      10          16  2.292813   8.987630  2.997938  0.141805\n",
            "19      10          32  2.327309   9.161536  3.026803  0.125200\n",
            "20      10          64  2.298323   9.226684  3.037546  0.118979\n",
            "21      20          16  2.337813   9.894929  3.145621  0.055171\n",
            "22      20          32  2.280077   9.140503  3.023327  0.127208\n",
            "23      20          64  2.307821   9.244418  3.040463  0.117285\n",
            "24      10          16  2.035206   7.391550  2.718740  0.177682\n",
            "25      10          32  2.158681   7.699835  2.774858  0.143385\n",
            "26      10          64  2.117650   7.581953  2.753535  0.156499\n",
            "27      20          16  2.151467   7.639854  2.764029  0.150058\n",
            "28      20          32  2.115736   7.547686  2.747305  0.160312\n",
            "29      20          64  2.135486   7.622781  2.760938  0.151957\n"
          ]
        },
        {
          "output_type": "stream",
          "name": "stderr",
          "text": [
            "\n"
          ]
        },
        {
          "output_type": "display_data",
          "data": {
            "text/plain": [
              "<Figure size 1000x500 with 1 Axes>"
            ],
            "image/png": "[encoded data removed]"
          },
          "metadata": {}
        }
      ]
    },
    {
      "cell_type": "markdown",
      "source": [
        "# 시퀀스길이를 hpt에 포함"
      ],
      "metadata": {
        "id": "DBjLhHew55Gi"
      }
    },
    {
      "cell_type": "markdown",
      "source": [
        "## 테스트"
      ],
      "metadata": {
        "id": "WZn_F1R0NC_J"
      }
    },
    {
      "cell_type": "markdown",
      "source": [
        "### train1"
      ],
      "metadata": {
        "id": "x6RnRv4CZzdH"
      }
    },
    {
      "cell_type": "code",
      "source": [
        "import numpy as np\n",
        "import pandas as pd\n",
        "from sklearn.preprocessing import StandardScaler\n",
        "from sklearn.metrics import mean_absolute_error, mean_squared_error, r2_score\n",
        "import matplotlib.pyplot as plt\n",
        "import tensorflow as tf\n",
        "from tensorflow.keras.models import Model\n",
        "from tensorflow.keras.layers import Input, Dense, MultiHeadAttention, LayerNormalization, Dropout, GlobalAveragePooling1D\n",
        "from tqdm import tqdm\n",
        "\n",
        "# 데이터셋 경로 정보\n",
        "DATASETS = [\n",
        "    {\n",
        "        \"name\": \"심혈관 6시간\",\n",
        "        \"target_path\": \"/content/drive/MyDrive/DA_dataset/circulatory_diseases/circulatory_target_in_6hour.csv\",\n",
        "        \"dataset_path\": \"/content/drive/MyDrive/DA_dataset/circulatory_diseases/circulatory_dataset_6hours.csv\",\n",
        "        \"max_sequence_length\": 6\n",
        "    },\n",
        "    {\n",
        "        \"name\": \"심혈관 12시간\",\n",
        "        \"target_path\": \"/content/drive/MyDrive/DA_dataset/circulatory_diseases/circulatory_target_in_12hour.csv\",\n",
        "        \"dataset_path\": \"/content/drive/MyDrive/DA_dataset/circulatory_diseases/circulatory_dataset_12hours.csv\",\n",
        "        \"max_sequence_length\": 12\n",
        "    },\n",
        "    {\n",
        "        \"name\": \"심혈관 18시간\",\n",
        "        \"target_path\": \"/content/drive/MyDrive/DA_dataset/circulatory_diseases/circulatory_target_in_18hour.csv\",\n",
        "        \"dataset_path\": \"/content/drive/MyDrive/DA_dataset/circulatory_diseases/circulatory_dataset_in_18hour.csv\",\n",
        "        \"max_sequence_length\": 18\n",
        "    },\n",
        "]\n",
        "\n",
        "# 하이퍼파라미터 설정\n",
        "epochs = [10]  # Epoch 수 변경 가능\n",
        "batch_sizes = [32]  # Batch size 변경 가능\n",
        "\n",
        "# 모델 학습 및 평가 수행\n",
        "all_evaluation_results = []\n",
        "\n",
        "def create_tensor_by_stay_id(data, sequence_length):\n",
        "    grouped = data.groupby('stay_id')\n",
        "    X_list, y_list, stay_ids = [], [], []\n",
        "    for stay_id, group in grouped:\n",
        "        values = group.drop(columns=['stay_id']).values\n",
        "        features = values[:, :-1]  # 피처\n",
        "        los_values = values[:, -1]  # 타겟 값\n",
        "\n",
        "        for i in range(len(features) - sequence_length + 1):\n",
        "            X_list.append(features[i:i+sequence_length])\n",
        "            y_list.append(los_values[i+sequence_length-1])\n",
        "            stay_ids.append(stay_id)\n",
        "    return np.array(X_list), np.array(y_list), stay_ids\n",
        "\n",
        "for dataset in DATASETS:\n",
        "    print(f\"\\nDataset: {dataset['name']}\")\n",
        "\n",
        "    # 데이터 준비\n",
        "    df_circ_target = pd.read_csv(dataset['target_path'])\n",
        "    df_circ_dataset = pd.read_csv(dataset['dataset_path'])\n",
        "\n",
        "    # Feature와 Target 결합\n",
        "    merged_dataset = pd.merge(df_circ_dataset, df_circ_target, on='stay_id')\n",
        "\n",
        "    # Feature와 Target 분리\n",
        "    X = merged_dataset.drop(columns=[\"stay_id\", \"los\"])\n",
        "    y = merged_dataset[\"los\"]\n",
        "\n",
        "    # 데이터 스케일링\n",
        "    scaler = StandardScaler()\n",
        "    X_scaled = scaler.fit_transform(X)\n",
        "    X_scaled_df = pd.DataFrame(X_scaled, columns=X.columns)\n",
        "\n",
        "    # stay_id 및 los 컬럼 다시 추가\n",
        "    X_scaled_df['stay_id'] = merged_dataset['stay_id']\n",
        "    X_scaled_df['los'] = y\n",
        "\n",
        "    # 시퀀스 길이별로 학습 및 평가 수행\n",
        "    sequence_lengths = [i for i in range(3, dataset['max_sequence_length'] + 1, 3)]\n",
        "    for sequence_length in sequence_lengths:\n",
        "        print(f\"\\nSequence Length: {sequence_length}\")\n",
        "\n",
        "        # 텐서 생성\n",
        "        X_tensor, y_tensor, stay_ids = create_tensor_by_stay_id(X_scaled_df, sequence_length)\n",
        "\n",
        "        if len(X_tensor) == 0 or len(y_tensor) == 0:\n",
        "            print(f\"Skipping sequence length {sequence_length} due to insufficient data.\")\n",
        "            continue\n",
        "\n",
        "        # 학습 및 테스트 데이터 분할\n",
        "        train_size = int(0.8 * len(X_tensor))\n",
        "        if train_size == 0:\n",
        "            print(f\"Skipping sequence length {sequence_length} due to insufficient training data.\")\n",
        "            continue\n",
        "\n",
        "        X_train, X_test = X_tensor[:train_size], X_tensor[train_size:]\n",
        "        y_train, y_test = y_tensor[:train_size], y_tensor[train_size:]\n",
        "\n",
        "        for epoch in epochs:\n",
        "            for batch_size in batch_sizes:\n",
        "                # 트랜스포머 모델 정의\n",
        "                feature_dim = X_train.shape[2]\n",
        "                inputs = Input(shape=(sequence_length, feature_dim))\n",
        "\n",
        "                # 트랜스포머 레이어 생성 및 모델 구성\n",
        "                attention_output = MultiHeadAttention(num_heads=4, key_dim=feature_dim)(inputs, inputs)\n",
        "                attention_output = LayerNormalization(epsilon=1e-6)(attention_output + inputs)\n",
        "                attention_output = Dropout(0.1)(attention_output)\n",
        "\n",
        "                # 출력 레이어 정의\n",
        "                pooled_output = GlobalAveragePooling1D()(attention_output)\n",
        "                output = Dense(1)(pooled_output)\n",
        "                transformer_model = Model(inputs=inputs, outputs=output)\n",
        "\n",
        "                # 모델 컴파일\n",
        "                transformer_model.compile(optimizer='adam', loss='mse', metrics=['mae'])\n",
        "\n",
        "                # 모델 학습\n",
        "                if len(X_train) == 0 or len(y_train) == 0:\n",
        "                    print(f\"Skipping training due to insufficient training data for sequence length {sequence_length}.\")\n",
        "                    continue\n",
        "\n",
        "                history = transformer_model.fit(\n",
        "                    X_train, y_train,\n",
        "                    epochs=epoch,\n",
        "                    batch_size=batch_size,\n",
        "                    validation_data=(X_test, y_test),\n",
        "                    verbose=0\n",
        "                )\n",
        "\n",
        "                # 모델 평가\n",
        "                def evaluate_model(model, X_test, y_test):\n",
        "                    if len(X_test) == 0 or len(y_test) == 0:\n",
        "                        return None, None, None, None\n",
        "                    predictions = model.predict(X_test).flatten()\n",
        "                    y_test = y_test.flatten()\n",
        "                    mae = mean_absolute_error(y_test, predictions)\n",
        "                    mse = mean_squared_error(y_test, predictions)\n",
        "                    rmse = np.sqrt(mse)\n",
        "                    r2 = r2_score(y_test, predictions)\n",
        "                    return mae, mse, rmse, r2\n",
        "\n",
        "                mae, mse, rmse, r2 = evaluate_model(transformer_model, X_test, y_test)\n",
        "                if mae is None:\n",
        "                    print(f\"Skipping evaluation due to insufficient test data for sequence length {sequence_length}.\")\n",
        "                    continue\n",
        "\n",
        "                evaluation_results.append({\n",
        "                    'Dataset': dataset['name'],\n",
        "                    'Sequence Length': sequence_length,\n",
        "                    'Epochs': epoch,\n",
        "                    'Batch Size': batch_size,\n",
        "                    'MAE': mae,\n",
        "                    'MSE': mse,\n",
        "                    'RMSE': rmse,\n",
        "                    'R2': r2\n",
        "                })\n",
        "\n",
        "        all_evaluation_results.extend(evaluation_results)\n",
        "\n",
        "# 모든 평가 결과 출력\n",
        "evaluation_df = pd.DataFrame(all_evaluation_results)\n",
        "print(\"\\nAll Evaluation Results:\")\n",
        "print(evaluation_df)\n",
        "\n",
        "# 학습 결과 시각화\n",
        "if 'history' in locals():\n",
        "    plt.figure(figsize=(10, 5))\n",
        "    plt.plot(history.history['val_loss'], label='Validation Loss')\n",
        "    plt.plot(history.history['loss'], label='Training Loss')\n",
        "    plt.xlabel('Epochs')\n",
        "    plt.ylabel('Loss')\n",
        "    plt.legend()\n",
        "    plt.show()\n"
      ],
      "metadata": {
        "colab": {
          "base_uri": "https://localhost:8080/",
          "height": 1000
        },
        "id": "hZRqAX1QJynM",
        "outputId": "83e943e4-2bd3-4ce2-de70-bbfbb0500936"
      },
      "execution_count": null,
      "outputs": [
        {
          "output_type": "stream",
          "name": "stdout",
          "text": [
            "\n",
            "Dataset: 심혈관 6시간\n",
            "\n",
            "Sequence Length: 3\n",
            "\u001b[1m69/69\u001b[0m \u001b[32m━━━━━━━━━━━━━━━━━━━━\u001b[0m\u001b[37m\u001b[0m \u001b[1m0s\u001b[0m 3ms/step\n",
            "\n",
            "Sequence Length: 6\n",
            "\u001b[1m38/38\u001b[0m \u001b[32m━━━━━━━━━━━━━━━━━━━━\u001b[0m\u001b[37m\u001b[0m \u001b[1m0s\u001b[0m 4ms/step\n",
            "\n",
            "Dataset: 심혈관 12시간\n",
            "\n",
            "Sequence Length: 3\n",
            "\u001b[1m296/296\u001b[0m \u001b[32m━━━━━━━━━━━━━━━━━━━━\u001b[0m\u001b[37m\u001b[0m \u001b[1m1s\u001b[0m 2ms/step\n",
            "\n",
            "Sequence Length: 6\n",
            "\u001b[1m236/236\u001b[0m \u001b[32m━━━━━━━━━━━━━━━━━━━━\u001b[0m\u001b[37m\u001b[0m \u001b[1m1s\u001b[0m 3ms/step\n",
            "\n",
            "Sequence Length: 9\n",
            "\u001b[1m177/177\u001b[0m \u001b[32m━━━━━━━━━━━━━━━━━━━━\u001b[0m\u001b[37m\u001b[0m \u001b[1m1s\u001b[0m 3ms/step\n",
            "\n",
            "Sequence Length: 12\n",
            "\u001b[1m120/120\u001b[0m \u001b[32m━━━━━━━━━━━━━━━━━━━━\u001b[0m\u001b[37m\u001b[0m \u001b[1m0s\u001b[0m 3ms/step\n",
            "\n",
            "Dataset: 심혈관 18시간\n",
            "\n",
            "Sequence Length: 3\n",
            "\u001b[1m233/233\u001b[0m \u001b[32m━━━━━━━━━━━━━━━━━━━━\u001b[0m\u001b[37m\u001b[0m \u001b[1m1s\u001b[0m 3ms/step\n",
            "\n",
            "Sequence Length: 6\n",
            "\u001b[1m190/190\u001b[0m \u001b[32m━━━━━━━━━━━━━━━━━━━━\u001b[0m\u001b[37m\u001b[0m \u001b[1m1s\u001b[0m 3ms/step\n",
            "\n",
            "Sequence Length: 9\n",
            "\u001b[1m146/146\u001b[0m \u001b[32m━━━━━━━━━━━━━━━━━━━━\u001b[0m\u001b[37m\u001b[0m \u001b[1m1s\u001b[0m 3ms/step\n",
            "\n",
            "Sequence Length: 12\n",
            "\u001b[1m103/103\u001b[0m \u001b[32m━━━━━━━━━━━━━━━━━━━━\u001b[0m\u001b[37m\u001b[0m \u001b[1m0s\u001b[0m 3ms/step\n",
            "\n",
            "Sequence Length: 15\n",
            "\u001b[1m59/59\u001b[0m \u001b[32m━━━━━━━━━━━━━━━━━━━━\u001b[0m\u001b[37m\u001b[0m \u001b[1m0s\u001b[0m 4ms/step\n",
            "\n",
            "Sequence Length: 18\n",
            "\u001b[1m15/15\u001b[0m \u001b[32m━━━━━━━━━━━━━━━━━━━━\u001b[0m\u001b[37m\u001b[0m \u001b[1m0s\u001b[0m 7ms/step\n",
            "\n",
            "All Evaluation Results:\n",
            "     Epochs  Batch Size       MAE       MSE      RMSE        R2   Dataset  \\\n",
            "0        10          16  2.059379  7.477914  2.734577  0.202526       NaN   \n",
            "1        10          32  2.112023  7.431314  2.726044  0.207496       NaN   \n",
            "2        10          64  2.089862  7.459943  2.731290  0.204443       NaN   \n",
            "3        20          16  2.116521  7.953031  2.820112  0.151858       NaN   \n",
            "4        20          32  2.083199  7.821267  2.796653  0.165910       NaN   \n",
            "..      ...         ...       ...       ...       ...       ...       ...   \n",
            "433      10          32  2.019641  7.969600  2.823048  0.160947  심혈관 18시간   \n",
            "434      10          32  2.004370  8.194592  2.862620  0.136676  심혈관 18시간   \n",
            "435      10          32  1.997487  8.544270  2.923058  0.098301  심혈관 18시간   \n",
            "436      10          32  1.937976  8.058688  2.838783  0.145655  심혈관 18시간   \n",
            "437      10          32  1.878390  7.259071  2.694266  0.211047  심혈관 18시간   \n",
            "\n",
            "     Sequence Length  \n",
            "0                NaN  \n",
            "1                NaN  \n",
            "2                NaN  \n",
            "3                NaN  \n",
            "4                NaN  \n",
            "..               ...  \n",
            "433              6.0  \n",
            "434              9.0  \n",
            "435             12.0  \n",
            "436             15.0  \n",
            "437             18.0  \n",
            "\n",
            "[438 rows x 8 columns]\n"
          ]
        },
        {
          "output_type": "display_data",
          "data": {
            "text/plain": [
              "<Figure size 1000x500 with 1 Axes>"
            ],
            "image/png": "[encoded data removed]"
          },
          "metadata": {}
        }
      ]
    },
    {
      "cell_type": "markdown",
      "source": [
        "### train2"
      ],
      "metadata": {
        "id": "-ToIh2TkZBQZ"
      }
    },
    {
      "cell_type": "code",
      "source": [
        "import numpy as np\n",
        "import pandas as pd\n",
        "from sklearn.preprocessing import StandardScaler\n",
        "from sklearn.metrics import mean_absolute_error, mean_squared_error, r2_score\n",
        "import matplotlib.pyplot as plt\n",
        "import tensorflow as tf\n",
        "from tensorflow.keras.models import Model\n",
        "from tensorflow.keras.layers import Input, Dense, MultiHeadAttention, LayerNormalization, Dropout, GlobalAveragePooling1D\n",
        "from tqdm import tqdm\n",
        "\n",
        "# 데이터셋 경로 정보\n",
        "DATASETS = [\n",
        "    {\n",
        "        \"name\": \"심혈관 6시간\",\n",
        "        \"target_path\": \"/content/drive/MyDrive/DA_dataset/circulatory_diseases/circulatory_target_in_6hour.csv\",\n",
        "        \"dataset_path\": \"/content/drive/MyDrive/DA_dataset/circulatory_diseases/circulatory_dataset_6hours.csv\",\n",
        "        \"max_sequence_length\": 6\n",
        "    },\n",
        "    {\n",
        "        \"name\": \"심혈관 12시간\",\n",
        "        \"target_path\": \"/content/drive/MyDrive/DA_dataset/circulatory_diseases/circulatory_target_in_12hour.csv\",\n",
        "        \"dataset_path\": \"/content/drive/MyDrive/DA_dataset/circulatory_diseases/circulatory_dataset_12hours.csv\",\n",
        "        \"max_sequence_length\": 12\n",
        "    },\n",
        "    {\n",
        "        \"name\": \"심혈관 18시간\",\n",
        "        \"target_path\": \"/content/drive/MyDrive/DA_dataset/circulatory_diseases/circulatory_target_in_18hour.csv\",\n",
        "        \"dataset_path\": \"/content/drive/MyDrive/DA_dataset/circulatory_diseases/circulatory_dataset_in_18hour.csv\",\n",
        "        \"max_sequence_length\": 18\n",
        "    },\n",
        "]\n",
        "\n",
        "# 하이퍼파라미터 설정\n",
        "epochs = [10]  # Epoch 수 변경 가능\n",
        "batch_sizes = [32]  # Batch size 변경 가능\n",
        "\n",
        "# 모델 학습 및 평가 수행\n",
        "all_evaluation_results = []\n",
        "\n",
        "def create_tensor_by_stay_id(data, sequence_length):\n",
        "    grouped = data.groupby('stay_id')\n",
        "    X_list, y_list, stay_ids = [], [], []\n",
        "    for stay_id, group in grouped:\n",
        "        values = group.drop(columns=['stay_id']).values\n",
        "        features = values[:, :-1]  # 피처\n",
        "        los_values = values[:, -1]  # 타겟 값\n",
        "\n",
        "        for i in range(len(features) - sequence_length + 1):\n",
        "            X_list.append(features[i:i+sequence_length])\n",
        "            y_list.append(los_values[i+sequence_length-1])\n",
        "            stay_ids.append(stay_id)\n",
        "    return np.array(X_list), np.array(y_list), stay_ids\n",
        "\n",
        "for dataset in DATASETS:\n",
        "    print(f\"\\nDataset: {dataset['name']}\")\n",
        "\n",
        "    # 데이터 준비\n",
        "    df_circ_target = pd.read_csv(dataset['target_path'])\n",
        "    df_circ_dataset = pd.read_csv(dataset['dataset_path'])\n",
        "\n",
        "    # Feature와 Target 결합\n",
        "    merged_dataset = pd.merge(df_circ_dataset, df_circ_target, on='stay_id')\n",
        "\n",
        "    # Feature와 Target 분리\n",
        "    X = merged_dataset.drop(columns=[\"stay_id\", \"los\"])\n",
        "    y = merged_dataset[\"los\"]\n",
        "\n",
        "    # 데이터 스케일링\n",
        "    scaler = StandardScaler()\n",
        "    X_scaled = scaler.fit_transform(X)\n",
        "    X_scaled_df = pd.DataFrame(X_scaled, columns=X.columns)\n",
        "\n",
        "    # stay_id 및 los 컬럼 다시 추가\n",
        "    X_scaled_df['stay_id'] = merged_dataset['stay_id']\n",
        "    X_scaled_df['los'] = y\n",
        "\n",
        "    # 시퀀스 길이별로 학습 및 평가 수행\n",
        "    sequence_lengths = [i for i in range(3, dataset['max_sequence_length'] + 1, 3)]\n",
        "    for sequence_length in sequence_lengths:\n",
        "        print(f\"\\nSequence Length: {sequence_length}\")\n",
        "\n",
        "        # 텐서 생성\n",
        "        X_tensor, y_tensor, stay_ids = create_tensor_by_stay_id(X_scaled_df, sequence_length)\n",
        "\n",
        "        if len(X_tensor) == 0 or len(y_tensor) == 0:\n",
        "            print(f\"Skipping sequence length {sequence_length} due to insufficient data.\")\n",
        "            continue\n",
        "\n",
        "        # 학습 및 테스트 데이터 분할\n",
        "        train_size = int(0.8 * len(X_tensor))\n",
        "        if train_size == 0:\n",
        "            print(f\"Skipping sequence length {sequence_length} due to insufficient training data.\")\n",
        "            continue\n",
        "\n",
        "        X_train, X_test = X_tensor[:train_size], X_tensor[train_size:]\n",
        "        y_train, y_test = y_tensor[:train_size], y_tensor[train_size:]\n",
        "\n",
        "        for epoch in epochs:\n",
        "            for batch_size in batch_sizes:\n",
        "                # 트랜스포머 모델 정의\n",
        "                feature_dim = X_train.shape[2]\n",
        "                inputs = Input(shape=(sequence_length, feature_dim))\n",
        "\n",
        "                # 트랜스포머 레이어 생성 및 모델 구성\n",
        "                attention_output = MultiHeadAttention(num_heads=4, key_dim=feature_dim)(inputs, inputs)\n",
        "                attention_output = LayerNormalization(epsilon=1e-6)(attention_output + inputs)\n",
        "                attention_output = Dropout(0.1)(attention_output)\n",
        "\n",
        "                # 출력 레이어 정의\n",
        "                pooled_output = GlobalAveragePooling1D()(attention_output)\n",
        "                output = Dense(1)(pooled_output)\n",
        "                transformer_model = Model(inputs=inputs, outputs=output)\n",
        "\n",
        "                # 모델 컴파일\n",
        "                transformer_model.compile(optimizer='adam', loss='mse', metrics=['mae'])\n",
        "\n",
        "                # 모델 학습\n",
        "                if len(X_train) == 0 or len(y_train) == 0:\n",
        "                    print(f\"Skipping training due to insufficient training data for sequence length {sequence_length}.\")\n",
        "                    continue\n",
        "\n",
        "                history = transformer_model.fit(\n",
        "                    X_train, y_train,\n",
        "                    epochs=epoch,\n",
        "                    batch_size=batch_size,\n",
        "                    validation_data=(X_test, y_test),\n",
        "                    verbose=0\n",
        "                )\n",
        "\n",
        "                # 모델 평가\n",
        "                def evaluate_model(model, X_test, y_test):\n",
        "                    if len(X_test) == 0 or len(y_test) == 0:\n",
        "                        return None, None, None, None\n",
        "                    predictions = model.predict(X_test).flatten()\n",
        "                    y_test = y_test.flatten()\n",
        "                    mae = mean_absolute_error(y_test, predictions)\n",
        "                    mse = mean_squared_error(y_test, predictions)\n",
        "                    rmse = np.sqrt(mse)\n",
        "                    r2 = r2_score(y_test, predictions)\n",
        "                    return mae, mse, rmse, r2\n",
        "\n",
        "                mae, mse, rmse, r2 = evaluate_model(transformer_model, X_test, y_test)\n",
        "                if mae is None:\n",
        "                    print(f\"Skipping evaluation due to insufficient test data for sequence length {sequence_length}.\")\n",
        "                    continue\n",
        "\n",
        "                evaluation_results = {\n",
        "                    'Dataset': dataset['name'],\n",
        "                    'Sequence Length': sequence_length,\n",
        "                    'Epochs': epoch,\n",
        "                    'Batch Size': batch_size,\n",
        "                    'MAE': mae,\n",
        "                    'MSE': mse,\n",
        "                    'RMSE': rmse,\n",
        "                    'R2': r2\n",
        "                }\n",
        "                all_evaluation_results.append(evaluation_results)\n",
        "\n",
        "# 모든 평가 결과 출력\n",
        "evaluation_df = pd.DataFrame(all_evaluation_results)\n",
        "print(\"\\nAll Evaluation Results:\")\n",
        "print(evaluation_df)\n",
        "\n",
        "# 학습 결과 시각화\n",
        "if 'history' in locals() and len(history.history['val_loss']) > 0:\n",
        "    plt.figure(figsize=(10, 5))\n",
        "    plt.plot(history.history['val_loss'], label='Validation Loss')\n",
        "    plt.plot(history.history['loss'], label='Training Loss')\n",
        "    plt.xlabel('Epochs')\n",
        "    plt.ylabel('Loss')\n",
        "    plt.legend()\n",
        "    plt.show()\n"
      ],
      "metadata": {
        "colab": {
          "base_uri": "https://localhost:8080/",
          "height": 1000
        },
        "id": "HBqXP-zs58PS",
        "outputId": "5c6495d7-ecfd-4516-8010-71da881327ba"
      },
      "execution_count": null,
      "outputs": [
        {
          "output_type": "stream",
          "name": "stdout",
          "text": [
            "\n",
            "Dataset: 심혈관 6시간\n",
            "\n",
            "Sequence Length: 3\n",
            "\u001b[1m69/69\u001b[0m \u001b[32m━━━━━━━━━━━━━━━━━━━━\u001b[0m\u001b[37m\u001b[0m \u001b[1m0s\u001b[0m 3ms/step\n",
            "\n",
            "Sequence Length: 6\n",
            "\u001b[1m38/38\u001b[0m \u001b[32m━━━━━━━━━━━━━━━━━━━━\u001b[0m\u001b[37m\u001b[0m \u001b[1m0s\u001b[0m 4ms/step\n",
            "\n",
            "Dataset: 심혈관 12시간\n",
            "\n",
            "Sequence Length: 3\n",
            "\u001b[1m296/296\u001b[0m \u001b[32m━━━━━━━━━━━━━━━━━━━━\u001b[0m\u001b[37m\u001b[0m \u001b[1m1s\u001b[0m 2ms/step\n",
            "\n",
            "Sequence Length: 6\n",
            "\u001b[1m236/236\u001b[0m \u001b[32m━━━━━━━━━━━━━━━━━━━━\u001b[0m\u001b[37m\u001b[0m \u001b[1m1s\u001b[0m 3ms/step\n",
            "\n",
            "Sequence Length: 9\n",
            "\u001b[1m177/177\u001b[0m \u001b[32m━━━━━━━━━━━━━━━━━━━━\u001b[0m\u001b[37m\u001b[0m \u001b[1m1s\u001b[0m 3ms/step\n",
            "\n",
            "Sequence Length: 12\n",
            "\u001b[1m120/120\u001b[0m \u001b[32m━━━━━━━━━━━━━━━━━━━━\u001b[0m\u001b[37m\u001b[0m \u001b[1m0s\u001b[0m 3ms/step\n",
            "\n",
            "Dataset: 심혈관 18시간\n",
            "\n",
            "Sequence Length: 3\n",
            "\u001b[1m233/233\u001b[0m \u001b[32m━━━━━━━━━━━━━━━━━━━━\u001b[0m\u001b[37m\u001b[0m \u001b[1m1s\u001b[0m 2ms/step\n",
            "\n",
            "Sequence Length: 6\n",
            "\u001b[1m190/190\u001b[0m \u001b[32m━━━━━━━━━━━━━━━━━━━━\u001b[0m\u001b[37m\u001b[0m \u001b[1m1s\u001b[0m 3ms/step\n",
            "\n",
            "Sequence Length: 9\n",
            "\u001b[1m146/146\u001b[0m \u001b[32m━━━━━━━━━━━━━━━━━━━━\u001b[0m\u001b[37m\u001b[0m \u001b[1m1s\u001b[0m 3ms/step\n",
            "\n",
            "Sequence Length: 12\n",
            "\u001b[1m103/103\u001b[0m \u001b[32m━━━━━━━━━━━━━━━━━━━━\u001b[0m\u001b[37m\u001b[0m \u001b[1m0s\u001b[0m 4ms/step\n",
            "\n",
            "Sequence Length: 15\n",
            "\u001b[1m59/59\u001b[0m \u001b[32m━━━━━━━━━━━━━━━━━━━━\u001b[0m\u001b[37m\u001b[0m \u001b[1m0s\u001b[0m 5ms/step\n",
            "\n",
            "Sequence Length: 18\n",
            "\u001b[1m15/15\u001b[0m \u001b[32m━━━━━━━━━━━━━━━━━━━━\u001b[0m\u001b[37m\u001b[0m \u001b[1m0s\u001b[0m 9ms/step\n",
            "\n",
            "All Evaluation Results:\n",
            "     Dataset  Sequence Length  Epochs  Batch Size       MAE        MSE  \\\n",
            "0    심혈관 6시간                3      10          32  2.180485   9.902278   \n",
            "1    심혈관 6시간                6      10          32  2.288726  10.111684   \n",
            "2   심혈관 12시간                3      10          32  2.088935   9.245848   \n",
            "3   심혈관 12시간                6      10          32  2.067462   9.008187   \n",
            "4   심혈관 12시간                9      10          32  2.106747   9.094558   \n",
            "5   심혈관 12시간               12      10          32  2.281900  10.168637   \n",
            "6   심혈관 18시간                3      10          32  1.958520   8.246381   \n",
            "7   심혈관 18시간                6      10          32  1.936779   8.044287   \n",
            "8   심혈관 18시간                9      10          32  1.934321   8.044640   \n",
            "9   심혈관 18시간               12      10          32  1.960173   8.467364   \n",
            "10  심혈관 18시간               15      10          32  1.891858   7.697840   \n",
            "11  심혈관 18시간               18      10          32  1.900219   7.414676   \n",
            "\n",
            "        RMSE        R2  \n",
            "0   3.146789 -0.015176  \n",
            "1   3.179887 -0.022278  \n",
            "2   3.040699 -0.007718  \n",
            "3   3.001364 -0.006075  \n",
            "4   3.015718 -0.047685  \n",
            "5   3.188830 -0.226741  \n",
            "6   2.871651  0.132218  \n",
            "7   2.836245  0.153083  \n",
            "8   2.836308  0.152474  \n",
            "9   2.909874  0.106417  \n",
            "10  2.774498  0.183910  \n",
            "11  2.722990  0.194135  \n"
          ]
        },
        {
          "output_type": "display_data",
          "data": {
            "text/plain": [
              "<Figure size 1000x500 with 1 Axes>"
            ],
            "image/png": "[encoded data removed]"
          },
          "metadata": {}
        }
      ]
    },
    {
      "cell_type": "markdown",
      "source": [
        "## 심혈관"
      ],
      "metadata": {
        "id": "fFeFS7GomLyc"
      }
    },
    {
      "cell_type": "code",
      "source": [
        "import numpy as np\n",
        "import pandas as pd\n",
        "from sklearn.preprocessing import MinMaxScaler\n",
        "from sklearn.metrics import mean_absolute_error, mean_squared_error, r2_score\n",
        "from sklearn.model_selection import KFold, ParameterGrid\n",
        "import matplotlib.pyplot as plt\n",
        "import tensorflow as tf\n",
        "from tensorflow.keras.models import Model\n",
        "from tensorflow.keras.layers import Input, Dense, MultiHeadAttention, LayerNormalization, Dropout, GlobalAveragePooling1D\n",
        "from tqdm import tqdm\n",
        "\n",
        "# 데이터셋 경로 정보\n",
        "DATASETS = [\n",
        "    {\n",
        "        \"name\": \"심혈관 6시간\",\n",
        "        \"target_path\": \"/content/drive/MyDrive/DA_dataset/circulatory_diseases/circulatory_target_in_6hour.csv\",\n",
        "        \"dataset_path\": \"/content/drive/MyDrive/DA_dataset/circulatory_diseases/circulatory_dataset_6hours.csv\",\n",
        "        \"sequence_length\": 3\n",
        "    },\n",
        "    {\n",
        "        \"name\": \"심혈관 12시간\",\n",
        "        \"target_path\": \"/content/drive/MyDrive/DA_dataset/circulatory_diseases/circulatory_target_in_12hour.csv\",\n",
        "        \"dataset_path\": \"/content/drive/MyDrive/DA_dataset/circulatory_diseases/circulatory_dataset_12hours.csv\",\n",
        "        \"sequence_length\": 6\n",
        "    },\n",
        "    {\n",
        "        \"name\": \"심혈관 18시간\",\n",
        "        \"target_path\": \"/content/drive/MyDrive/DA_dataset/circulatory_diseases/circulatory_target_in_18hour.csv\",\n",
        "        \"dataset_path\": \"/content/drive/MyDrive/DA_dataset/circulatory_diseases/circulatory_dataset_in_18hour.csv\",\n",
        "        \"sequence_length\": 9\n",
        "    },\n",
        "]\n",
        "\n",
        "# 하이퍼파라미터 설정\n",
        "epochs = [10, 20]  # Epoch 수 변경 가능\n",
        "batch_sizes = [16, 32]  # Batch size 변경 가능\n",
        "param_grid = {'epochs': epochs, 'batch_size': batch_sizes}\n",
        "parameter_combinations = list(ParameterGrid(param_grid))\n",
        "\n",
        "# 모델 학습 및 평가 수행\n",
        "all_evaluation_results = []\n",
        "\n",
        "def create_tensor_by_stay_id(data, sequence_length):\n",
        "    grouped = data.groupby('stay_id')\n",
        "    X_list, y_list, stay_ids = [], [], []\n",
        "    for stay_id, group in grouped:\n",
        "        values = group.drop(columns=['stay_id']).values\n",
        "        features = values[:, :-1]  # 피처\n",
        "        los_values = values[:, -1]  # 타겟 값\n",
        "\n",
        "        for i in range(len(features) - sequence_length + 1):\n",
        "            X_list.append(features[i:i+sequence_length])\n",
        "            y_list.append(los_values[i+sequence_length-1])\n",
        "            stay_ids.append(stay_id)\n",
        "    return np.array(X_list), np.array(y_list), stay_ids\n",
        "\n",
        "kf = KFold(n_splits=5, shuffle=True, random_state=42)\n",
        "\n",
        "for dataset in DATASETS:\n",
        "    print(f\"\\nDataset: {dataset['name']}\")\n",
        "\n",
        "    # 데이터 준비\n",
        "    df_circ_target = pd.read_csv(dataset['target_path'])\n",
        "    df_circ_dataset = pd.read_csv(dataset['dataset_path'])\n",
        "\n",
        "    # Feature와 Target 결합\n",
        "    merged_dataset = pd.merge(df_circ_dataset, df_circ_target, on='stay_id')\n",
        "\n",
        "    # Feature와 Target 분리\n",
        "    X = merged_dataset.drop(columns=[\"stay_id\", \"los\"])\n",
        "    y = merged_dataset[\"los\"]\n",
        "\n",
        "    # 데이터 스케일링\n",
        "    scaler = MinMaxScaler()\n",
        "    X_scaled = scaler.fit_transform(X)\n",
        "    X_scaled_df = pd.DataFrame(X_scaled, columns=X.columns)\n",
        "\n",
        "    # stay_id 및 los 컬럼 다시 추가\n",
        "    X_scaled_df['stay_id'] = merged_dataset['stay_id']\n",
        "    X_scaled_df['los'] = y\n",
        "\n",
        "    # 시퀀스 길이 설정\n",
        "    sequence_length = dataset['sequence_length']\n",
        "    print(f\"\\nSequence Length: {sequence_length}\")\n",
        "\n",
        "    # 텐서 생성\n",
        "    X_tensor, y_tensor, stay_ids = create_tensor_by_stay_id(X_scaled_df, sequence_length)\n",
        "\n",
        "    if len(X_tensor) == 0 or len(y_tensor) == 0:\n",
        "        print(f\"Skipping sequence length {sequence_length} due to insufficient data.\")\n",
        "        continue\n",
        "\n",
        "    # K-Fold 교차 검증 수행\n",
        "    for train_index, test_index in tqdm(kf.split(X_tensor), total=kf.get_n_splits(), desc='K-Fold Cross Validation'):\n",
        "        X_train, X_test = X_tensor[train_index], X_tensor[test_index]\n",
        "        y_train, y_test = y_tensor[train_index], y_tensor[test_index]\n",
        "\n",
        "        for params in parameter_combinations:\n",
        "            epoch = params['epochs']\n",
        "            batch_size = params['batch_size']\n",
        "\n",
        "            # 트랜스포머 모델 정의\n",
        "            feature_dim = X_train.shape[2]\n",
        "            inputs = Input(shape=(sequence_length, feature_dim))\n",
        "\n",
        "            # 트랜스포머 레이어 생성 및 모델 구성\n",
        "            attention_output = MultiHeadAttention(num_heads=4, key_dim=feature_dim)(inputs, inputs)\n",
        "            attention_output = LayerNormalization(epsilon=1e-6)(attention_output + inputs)\n",
        "            attention_output = Dropout(0.1)(attention_output)\n",
        "\n",
        "            # 출력 레이어 정의\n",
        "            pooled_output = GlobalAveragePooling1D()(attention_output)\n",
        "            output = Dense(1)(pooled_output)\n",
        "            transformer_model = Model(inputs=inputs, outputs=output)\n",
        "\n",
        "            # 모델 컴파일\n",
        "            transformer_model.compile(optimizer='adam', loss='mse', metrics=['mae'])\n",
        "\n",
        "            # 모델 학습\n",
        "            if len(X_train) == 0 or len(y_train) == 0:\n",
        "                print(f\"Skipping training due to insufficient training data for sequence length {sequence_length}.\")\n",
        "                continue\n",
        "\n",
        "            history = transformer_model.fit(\n",
        "                X_train, y_train,\n",
        "                epochs=epoch,\n",
        "                batch_size=batch_size,\n",
        "                validation_data=(X_test, y_test),\n",
        "                verbose=0\n",
        "            )\n",
        "\n",
        "            # 모델 평가\n",
        "            def evaluate_model(model, X_test, y_test):\n",
        "                if len(X_test) == 0 or len(y_test) == 0:\n",
        "                    return None, None, None, None\n",
        "                predictions = model.predict(X_test).flatten()\n",
        "                y_test = y_test.flatten()\n",
        "                mae = mean_absolute_error(y_test, predictions)\n",
        "                mse = mean_squared_error(y_test, predictions)\n",
        "                rmse = np.sqrt(mse)\n",
        "                r2 = r2_score(y_test, predictions)\n",
        "                return mae, mse, rmse, r2\n",
        "\n",
        "            mae, mse, rmse, r2 = evaluate_model(transformer_model, X_test, y_test)\n",
        "            if mae is None:\n",
        "                print(f\"Skipping evaluation due to insufficient test data for sequence length {sequence_length}.\")\n",
        "                continue\n",
        "\n",
        "            evaluation_results = {\n",
        "                'Dataset': dataset['name'],\n",
        "                'Sequence Length': sequence_length,\n",
        "                'Epochs': epoch,\n",
        "                'Batch Size': batch_size,\n",
        "                'MAE': mae,\n",
        "                'MSE': mse,\n",
        "                'RMSE': rmse,\n",
        "                'R2': r2\n",
        "            }\n",
        "            all_evaluation_results.append(evaluation_results)\n",
        "\n",
        "# 모든 평가 결과 출력\n",
        "evaluation_df = pd.DataFrame(all_evaluation_results)\n",
        "print(\"\\nAll Evaluation Results:\")\n",
        "print(evaluation_df)\n",
        "\n",
        "# 학습 결과 시각화\n",
        "if 'history' in locals() and len(history.history['val_loss']) > 0:\n",
        "    plt.figure(figsize=(10, 5))\n",
        "    plt.plot(history.history['val_loss'], label='Validation Loss')\n",
        "    plt.plot(history.history['loss'], label='Training Loss')\n",
        "    plt.xlabel('Epochs')\n",
        "    plt.ylabel('Loss')\n",
        "    plt.legend()\n",
        "    plt.show()\n"
      ],
      "metadata": {
        "colab": {
          "base_uri": "https://localhost:8080/",
          "height": 1000
        },
        "id": "Fr6t4atvBQnu",
        "outputId": "69ae7a2a-0c08-4c84-c199-3db1a9cc61d5"
      },
      "execution_count": null,
      "outputs": [
        {
          "output_type": "stream",
          "name": "stdout",
          "text": [
            "\n",
            "Dataset: 심혈관 6시간\n",
            "\n",
            "Sequence Length: 3\n"
          ]
        },
        {
          "output_type": "stream",
          "name": "stderr",
          "text": [
            "\rK-Fold Cross Validation:   0%|          | 0/5 [00:00<?, ?it/s]"
          ]
        },
        {
          "output_type": "stream",
          "name": "stdout",
          "text": [
            "\u001b[1m69/69\u001b[0m \u001b[32m━━━━━━━━━━━━━━━━━━━━\u001b[0m\u001b[37m\u001b[0m \u001b[1m0s\u001b[0m 3ms/step\n",
            "\u001b[1m69/69\u001b[0m \u001b[32m━━━━━━━━━━━━━━━━━━━━\u001b[0m\u001b[37m\u001b[0m \u001b[1m0s\u001b[0m 3ms/step\n",
            "\u001b[1m69/69\u001b[0m \u001b[32m━━━━━━━━━━━━━━━━━━━━\u001b[0m\u001b[37m\u001b[0m \u001b[1m0s\u001b[0m 3ms/step\n",
            "\u001b[1m69/69\u001b[0m \u001b[32m━━━━━━━━━━━━━━━━━━━━\u001b[0m\u001b[37m\u001b[0m \u001b[1m0s\u001b[0m 3ms/step\n"
          ]
        },
        {
          "output_type": "stream",
          "name": "stderr",
          "text": [
            "\rK-Fold Cross Validation:  20%|██        | 1/5 [01:31<06:06, 91.69s/it]"
          ]
        },
        {
          "output_type": "stream",
          "name": "stdout",
          "text": [
            "\u001b[1m69/69\u001b[0m \u001b[32m━━━━━━━━━━━━━━━━━━━━\u001b[0m\u001b[37m\u001b[0m \u001b[1m0s\u001b[0m 3ms/step\n",
            "\u001b[1m69/69\u001b[0m \u001b[32m━━━━━━━━━━━━━━━━━━━━\u001b[0m\u001b[37m\u001b[0m \u001b[1m0s\u001b[0m 3ms/step\n",
            "\u001b[1m69/69\u001b[0m \u001b[32m━━━━━━━━━━━━━━━━━━━━\u001b[0m\u001b[37m\u001b[0m \u001b[1m0s\u001b[0m 3ms/step\n",
            "\u001b[1m69/69\u001b[0m \u001b[32m━━━━━━━━━━━━━━━━━━━━\u001b[0m\u001b[37m\u001b[0m \u001b[1m0s\u001b[0m 3ms/step\n"
          ]
        },
        {
          "output_type": "stream",
          "name": "stderr",
          "text": [
            "\rK-Fold Cross Validation:  40%|████      | 2/5 [03:01<04:31, 90.40s/it]"
          ]
        },
        {
          "output_type": "stream",
          "name": "stdout",
          "text": [
            "\u001b[1m69/69\u001b[0m \u001b[32m━━━━━━━━━━━━━━━━━━━━\u001b[0m\u001b[37m\u001b[0m \u001b[1m0s\u001b[0m 3ms/step\n",
            "\u001b[1m69/69\u001b[0m \u001b[32m━━━━━━━━━━━━━━━━━━━━\u001b[0m\u001b[37m\u001b[0m \u001b[1m0s\u001b[0m 3ms/step\n",
            "\u001b[1m69/69\u001b[0m \u001b[32m━━━━━━━━━━━━━━━━━━━━\u001b[0m\u001b[37m\u001b[0m \u001b[1m0s\u001b[0m 3ms/step\n",
            "\u001b[1m69/69\u001b[0m \u001b[32m━━━━━━━━━━━━━━━━━━━━\u001b[0m\u001b[37m\u001b[0m \u001b[1m0s\u001b[0m 3ms/step\n"
          ]
        },
        {
          "output_type": "stream",
          "name": "stderr",
          "text": [
            "\rK-Fold Cross Validation:  60%|██████    | 3/5 [04:29<02:59, 89.58s/it]"
          ]
        },
        {
          "output_type": "stream",
          "name": "stdout",
          "text": [
            "\u001b[1m69/69\u001b[0m \u001b[32m━━━━━━━━━━━━━━━━━━━━\u001b[0m\u001b[37m\u001b[0m \u001b[1m0s\u001b[0m 3ms/step\n",
            "\u001b[1m69/69\u001b[0m \u001b[32m━━━━━━━━━━━━━━━━━━━━\u001b[0m\u001b[37m\u001b[0m \u001b[1m0s\u001b[0m 3ms/step\n",
            "\u001b[1m69/69\u001b[0m \u001b[32m━━━━━━━━━━━━━━━━━━━━\u001b[0m\u001b[37m\u001b[0m \u001b[1m0s\u001b[0m 3ms/step\n",
            "\u001b[1m69/69\u001b[0m \u001b[32m━━━━━━━━━━━━━━━━━━━━\u001b[0m\u001b[37m\u001b[0m \u001b[1m0s\u001b[0m 3ms/step\n"
          ]
        },
        {
          "output_type": "stream",
          "name": "stderr",
          "text": [
            "\rK-Fold Cross Validation:  80%|████████  | 4/5 [05:58<01:29, 89.36s/it]"
          ]
        },
        {
          "output_type": "stream",
          "name": "stdout",
          "text": [
            "\u001b[1m69/69\u001b[0m \u001b[32m━━━━━━━━━━━━━━━━━━━━\u001b[0m\u001b[37m\u001b[0m \u001b[1m0s\u001b[0m 3ms/step\n",
            "\u001b[1m69/69\u001b[0m \u001b[32m━━━━━━━━━━━━━━━━━━━━\u001b[0m\u001b[37m\u001b[0m \u001b[1m0s\u001b[0m 3ms/step\n",
            "\u001b[1m69/69\u001b[0m \u001b[32m━━━━━━━━━━━━━━━━━━━━\u001b[0m\u001b[37m\u001b[0m \u001b[1m0s\u001b[0m 3ms/step\n",
            "\u001b[1m69/69\u001b[0m \u001b[32m━━━━━━━━━━━━━━━━━━━━\u001b[0m\u001b[37m\u001b[0m \u001b[1m0s\u001b[0m 4ms/step\n"
          ]
        },
        {
          "output_type": "stream",
          "name": "stderr",
          "text": [
            "K-Fold Cross Validation: 100%|██████████| 5/5 [07:26<00:00, 89.24s/it]"
          ]
        },
        {
          "output_type": "stream",
          "name": "stdout",
          "text": [
            "\n",
            "Dataset: 심혈관 12시간\n"
          ]
        },
        {
          "output_type": "stream",
          "name": "stderr",
          "text": [
            "\n"
          ]
        },
        {
          "output_type": "stream",
          "name": "stdout",
          "text": [
            "\n",
            "Sequence Length: 6\n"
          ]
        },
        {
          "output_type": "stream",
          "name": "stderr",
          "text": [
            "\rK-Fold Cross Validation:   0%|          | 0/5 [00:00<?, ?it/s]"
          ]
        },
        {
          "output_type": "stream",
          "name": "stdout",
          "text": [
            "\u001b[1m236/236\u001b[0m \u001b[32m━━━━━━━━━━━━━━━━━━━━\u001b[0m\u001b[37m\u001b[0m \u001b[1m1s\u001b[0m 3ms/step\n",
            "\u001b[1m236/236\u001b[0m \u001b[32m━━━━━━━━━━━━━━━━━━━━\u001b[0m\u001b[37m\u001b[0m \u001b[1m1s\u001b[0m 3ms/step\n",
            "\u001b[1m236/236\u001b[0m \u001b[32m━━━━━━━━━━━━━━━━━━━━\u001b[0m\u001b[37m\u001b[0m \u001b[1m1s\u001b[0m 3ms/step\n",
            "\u001b[1m236/236\u001b[0m \u001b[32m━━━━━━━━━━━━━━━━━━━━\u001b[0m\u001b[37m\u001b[0m \u001b[1m1s\u001b[0m 3ms/step\n"
          ]
        },
        {
          "output_type": "stream",
          "name": "stderr",
          "text": [
            "\rK-Fold Cross Validation:  20%|██        | 1/5 [05:34<22:17, 334.37s/it]"
          ]
        },
        {
          "output_type": "stream",
          "name": "stdout",
          "text": [
            "\u001b[1m236/236\u001b[0m \u001b[32m━━━━━━━━━━━━━━━━━━━━\u001b[0m\u001b[37m\u001b[0m \u001b[1m1s\u001b[0m 3ms/step\n",
            "\u001b[1m236/236\u001b[0m \u001b[32m━━━━━━━━━━━━━━━━━━━━\u001b[0m\u001b[37m\u001b[0m \u001b[1m1s\u001b[0m 3ms/step\n",
            "\u001b[1m236/236\u001b[0m \u001b[32m━━━━━━━━━━━━━━━━━━━━\u001b[0m\u001b[37m\u001b[0m \u001b[1m1s\u001b[0m 3ms/step\n",
            "\u001b[1m236/236\u001b[0m \u001b[32m━━━━━━━━━━━━━━━━━━━━\u001b[0m\u001b[37m\u001b[0m \u001b[1m1s\u001b[0m 3ms/step\n"
          ]
        },
        {
          "output_type": "stream",
          "name": "stderr",
          "text": [
            "\rK-Fold Cross Validation:  40%|████      | 2/5 [11:10<16:46, 335.53s/it]"
          ]
        },
        {
          "output_type": "stream",
          "name": "stdout",
          "text": [
            "\u001b[1m236/236\u001b[0m \u001b[32m━━━━━━━━━━━━━━━━━━━━\u001b[0m\u001b[37m\u001b[0m \u001b[1m1s\u001b[0m 3ms/step\n",
            "\u001b[1m236/236\u001b[0m \u001b[32m━━━━━━━━━━━━━━━━━━━━\u001b[0m\u001b[37m\u001b[0m \u001b[1m1s\u001b[0m 3ms/step\n",
            "\u001b[1m236/236\u001b[0m \u001b[32m━━━━━━━━━━━━━━━━━━━━\u001b[0m\u001b[37m\u001b[0m \u001b[1m1s\u001b[0m 3ms/step\n",
            "\u001b[1m236/236\u001b[0m \u001b[32m━━━━━━━━━━━━━━━━━━━━\u001b[0m\u001b[37m\u001b[0m \u001b[1m1s\u001b[0m 3ms/step\n"
          ]
        },
        {
          "output_type": "stream",
          "name": "stderr",
          "text": [
            "\rK-Fold Cross Validation:  60%|██████    | 3/5 [16:38<11:03, 331.86s/it]"
          ]
        },
        {
          "output_type": "stream",
          "name": "stdout",
          "text": [
            "\u001b[1m236/236\u001b[0m \u001b[32m━━━━━━━━━━━━━━━━━━━━\u001b[0m\u001b[37m\u001b[0m \u001b[1m1s\u001b[0m 3ms/step\n",
            "\u001b[1m236/236\u001b[0m \u001b[32m━━━━━━━━━━━━━━━━━━━━\u001b[0m\u001b[37m\u001b[0m \u001b[1m1s\u001b[0m 3ms/step\n",
            "\u001b[1m236/236\u001b[0m \u001b[32m━━━━━━━━━━━━━━━━━━━━\u001b[0m\u001b[37m\u001b[0m \u001b[1m1s\u001b[0m 3ms/step\n",
            "\u001b[1m236/236\u001b[0m \u001b[32m━━━━━━━━━━━━━━━━━━━━\u001b[0m\u001b[37m\u001b[0m \u001b[1m1s\u001b[0m 3ms/step\n"
          ]
        },
        {
          "output_type": "stream",
          "name": "stderr",
          "text": [
            "\rK-Fold Cross Validation:  80%|████████  | 4/5 [21:58<05:27, 327.23s/it]"
          ]
        },
        {
          "output_type": "stream",
          "name": "stdout",
          "text": [
            "\u001b[1m236/236\u001b[0m \u001b[32m━━━━━━━━━━━━━━━━━━━━\u001b[0m\u001b[37m\u001b[0m \u001b[1m1s\u001b[0m 3ms/step\n",
            "\u001b[1m236/236\u001b[0m \u001b[32m━━━━━━━━━━━━━━━━━━━━\u001b[0m\u001b[37m\u001b[0m \u001b[1m1s\u001b[0m 3ms/step\n",
            "\u001b[1m236/236\u001b[0m \u001b[32m━━━━━━━━━━━━━━━━━━━━\u001b[0m\u001b[37m\u001b[0m \u001b[1m1s\u001b[0m 3ms/step\n",
            "\u001b[1m236/236\u001b[0m \u001b[32m━━━━━━━━━━━━━━━━━━━━\u001b[0m\u001b[37m\u001b[0m \u001b[1m1s\u001b[0m 3ms/step\n"
          ]
        },
        {
          "output_type": "stream",
          "name": "stderr",
          "text": [
            "K-Fold Cross Validation: 100%|██████████| 5/5 [27:04<00:00, 324.83s/it]"
          ]
        },
        {
          "output_type": "stream",
          "name": "stdout",
          "text": [
            "\n",
            "Dataset: 심혈관 18시간\n"
          ]
        },
        {
          "output_type": "stream",
          "name": "stderr",
          "text": [
            "\n"
          ]
        },
        {
          "output_type": "stream",
          "name": "stdout",
          "text": [
            "\n",
            "Sequence Length: 9\n"
          ]
        },
        {
          "output_type": "stream",
          "name": "stderr",
          "text": [
            "\rK-Fold Cross Validation:   0%|          | 0/5 [00:00<?, ?it/s]"
          ]
        },
        {
          "output_type": "stream",
          "name": "stdout",
          "text": [
            "\u001b[1m146/146\u001b[0m \u001b[32m━━━━━━━━━━━━━━━━━━━━\u001b[0m\u001b[37m\u001b[0m \u001b[1m0s\u001b[0m 3ms/step\n",
            "\u001b[1m146/146\u001b[0m \u001b[32m━━━━━━━━━━━━━━━━━━━━\u001b[0m\u001b[37m\u001b[0m \u001b[1m1s\u001b[0m 3ms/step\n",
            "\u001b[1m146/146\u001b[0m \u001b[32m━━━━━━━━━━━━━━━━━━━━\u001b[0m\u001b[37m\u001b[0m \u001b[1m1s\u001b[0m 3ms/step\n",
            "\u001b[1m146/146\u001b[0m \u001b[32m━━━━━━━━━━━━━━━━━━━━\u001b[0m\u001b[37m\u001b[0m \u001b[1m1s\u001b[0m 3ms/step\n"
          ]
        },
        {
          "output_type": "stream",
          "name": "stderr",
          "text": [
            "\rK-Fold Cross Validation:  20%|██        | 1/5 [03:32<14:09, 212.40s/it]"
          ]
        },
        {
          "output_type": "stream",
          "name": "stdout",
          "text": [
            "\u001b[1m146/146\u001b[0m \u001b[32m━━━━━━━━━━━━━━━━━━━━\u001b[0m\u001b[37m\u001b[0m \u001b[1m1s\u001b[0m 3ms/step\n",
            "\u001b[1m146/146\u001b[0m \u001b[32m━━━━━━━━━━━━━━━━━━━━\u001b[0m\u001b[37m\u001b[0m \u001b[1m1s\u001b[0m 3ms/step\n",
            "\u001b[1m146/146\u001b[0m \u001b[32m━━━━━━━━━━━━━━━━━━━━\u001b[0m\u001b[37m\u001b[0m \u001b[1m0s\u001b[0m 3ms/step\n",
            "\u001b[1m146/146\u001b[0m \u001b[32m━━━━━━━━━━━━━━━━━━━━\u001b[0m\u001b[37m\u001b[0m \u001b[1m1s\u001b[0m 3ms/step\n"
          ]
        },
        {
          "output_type": "stream",
          "name": "stderr",
          "text": [
            "\rK-Fold Cross Validation:  40%|████      | 2/5 [07:02<10:33, 211.08s/it]"
          ]
        },
        {
          "output_type": "stream",
          "name": "stdout",
          "text": [
            "\u001b[1m146/146\u001b[0m \u001b[32m━━━━━━━━━━━━━━━━━━━━\u001b[0m\u001b[37m\u001b[0m \u001b[1m1s\u001b[0m 3ms/step\n",
            "\u001b[1m146/146\u001b[0m \u001b[32m━━━━━━━━━━━━━━━━━━━━\u001b[0m\u001b[37m\u001b[0m \u001b[1m1s\u001b[0m 3ms/step\n",
            "\u001b[1m146/146\u001b[0m \u001b[32m━━━━━━━━━━━━━━━━━━━━\u001b[0m\u001b[37m\u001b[0m \u001b[1m1s\u001b[0m 3ms/step\n",
            "\u001b[1m146/146\u001b[0m \u001b[32m━━━━━━━━━━━━━━━━━━━━\u001b[0m\u001b[37m\u001b[0m \u001b[1m1s\u001b[0m 3ms/step\n"
          ]
        },
        {
          "output_type": "stream",
          "name": "stderr",
          "text": [
            "\rK-Fold Cross Validation:  60%|██████    | 3/5 [10:35<07:03, 211.92s/it]"
          ]
        },
        {
          "output_type": "stream",
          "name": "stdout",
          "text": [
            "\u001b[1m146/146\u001b[0m \u001b[32m━━━━━━━━━━━━━━━━━━━━\u001b[0m\u001b[37m\u001b[0m \u001b[1m1s\u001b[0m 3ms/step\n",
            "\u001b[1m146/146\u001b[0m \u001b[32m━━━━━━━━━━━━━━━━━━━━\u001b[0m\u001b[37m\u001b[0m \u001b[1m0s\u001b[0m 3ms/step\n",
            "\u001b[1m146/146\u001b[0m \u001b[32m━━━━━━━━━━━━━━━━━━━━\u001b[0m\u001b[37m\u001b[0m \u001b[1m1s\u001b[0m 3ms/step\n",
            "\u001b[1m146/146\u001b[0m \u001b[32m━━━━━━━━━━━━━━━━━━━━\u001b[0m\u001b[37m\u001b[0m \u001b[1m1s\u001b[0m 3ms/step\n"
          ]
        },
        {
          "output_type": "stream",
          "name": "stderr",
          "text": [
            "\rK-Fold Cross Validation:  80%|████████  | 4/5 [14:15<03:35, 215.11s/it]"
          ]
        },
        {
          "output_type": "stream",
          "name": "stdout",
          "text": [
            "\u001b[1m146/146\u001b[0m \u001b[32m━━━━━━━━━━━━━━━━━━━━\u001b[0m\u001b[37m\u001b[0m \u001b[1m1s\u001b[0m 3ms/step\n",
            "\u001b[1m146/146\u001b[0m \u001b[32m━━━━━━━━━━━━━━━━━━━━\u001b[0m\u001b[37m\u001b[0m \u001b[1m1s\u001b[0m 3ms/step\n",
            "\u001b[1m146/146\u001b[0m \u001b[32m━━━━━━━━━━━━━━━━━━━━\u001b[0m\u001b[37m\u001b[0m \u001b[1m1s\u001b[0m 3ms/step\n",
            "\u001b[1m146/146\u001b[0m \u001b[32m━━━━━━━━━━━━━━━━━━━━\u001b[0m\u001b[37m\u001b[0m \u001b[1m1s\u001b[0m 3ms/step\n"
          ]
        },
        {
          "output_type": "stream",
          "name": "stderr",
          "text": [
            "K-Fold Cross Validation: 100%|██████████| 5/5 [18:02<00:00, 216.45s/it]"
          ]
        },
        {
          "output_type": "stream",
          "name": "stdout",
          "text": [
            "\n",
            "All Evaluation Results:\n",
            "     Dataset  Sequence Length  Epochs  Batch Size       MAE        MSE  \\\n",
            "0    심혈관 6시간                3      10          16  2.179044  10.174772   \n",
            "1    심혈관 6시간                3      20          16  2.190162   9.955256   \n",
            "2    심혈관 6시간                3      10          32  2.192085  10.032268   \n",
            "3    심혈관 6시간                3      20          32  2.189485   9.874284   \n",
            "4    심혈관 6시간                3      10          16  2.259332   9.745126   \n",
            "5    심혈관 6시간                3      20          16  2.108890   9.435863   \n",
            "6    심혈관 6시간                3      10          32  2.115587   9.736786   \n",
            "7    심혈관 6시간                3      20          32  2.125898   9.470265   \n",
            "8    심혈관 6시간                3      10          16  2.170071  10.491341   \n",
            "9    심혈관 6시간                3      20          16  2.195945  10.092382   \n",
            "10   심혈관 6시간                3      10          32  2.155682  10.633441   \n",
            "11   심혈관 6시간                3      20          32  2.105869  10.354931   \n",
            "12   심혈관 6시간                3      10          16  2.024263  10.393809   \n",
            "13   심혈관 6시간                3      20          16  2.182411  10.209355   \n",
            "14   심혈관 6시간                3      10          32  2.230034  10.397448   \n",
            "15   심혈관 6시간                3      20          32  2.340585  10.344681   \n",
            "16   심혈관 6시간                3      10          16  2.214599  10.695360   \n",
            "17   심혈관 6시간                3      20          16  2.101300  10.381144   \n",
            "18   심혈관 6시간                3      10          32  2.143837  10.880610   \n",
            "19   심혈관 6시간                3      20          32  2.183324  10.627840   \n",
            "20  심혈관 12시간                6      10          16  2.208784   9.304244   \n",
            "21  심혈관 12시간                6      20          16  1.926021   8.913615   \n",
            "22  심혈관 12시간                6      10          32  2.089215   9.022378   \n",
            "23  심혈관 12시간                6      20          32  2.031050   9.003142   \n",
            "24  심혈관 12시간                6      10          16  1.953659   9.560318   \n",
            "25  심혈관 12시간                6      20          16  2.082741   9.325777   \n",
            "26  심혈관 12시간                6      10          32  2.090412   9.466716   \n",
            "27  심혈관 12시간                6      20          32  2.115962   9.477392   \n",
            "28  심혈관 12시간                6      10          16  2.018869   9.508547   \n",
            "29  심혈관 12시간                6      20          16  2.034436   9.088527   \n",
            "30  심혈관 12시간                6      10          32  1.955702   9.381498   \n",
            "31  심혈관 12시간                6      20          32  2.136062   9.202866   \n",
            "32  심혈관 12시간                6      10          16  2.178847   9.319838   \n",
            "33  심혈관 12시간                6      20          16  2.017325   9.113366   \n",
            "34  심혈관 12시간                6      10          32  2.103631   9.296900   \n",
            "35  심혈관 12시간                6      20          32  2.073006   9.101562   \n",
            "36  심혈관 12시간                6      10          16  2.145385   9.812698   \n",
            "37  심혈관 12시간                6      20          16  2.071232   9.889182   \n",
            "38  심혈관 12시간                6      10          32  2.040894   9.990799   \n",
            "39  심혈관 12시간                6      20          32  2.071322   9.824720   \n",
            "40  심혈관 18시간                9      10          16  1.941736   8.505049   \n",
            "41  심혈관 18시간                9      20          16  1.916939   8.383642   \n",
            "42  심혈관 18시간                9      10          32  1.877054   8.726039   \n",
            "43  심혈관 18시간                9      20          32  1.989262   8.554850   \n",
            "44  심혈관 18시간                9      10          16  1.899276   8.475293   \n",
            "45  심혈관 18시간                9      20          16  1.988211   8.405888   \n",
            "46  심혈관 18시간                9      10          32  1.979556   8.628499   \n",
            "47  심혈관 18시간                9      20          32  1.943387   8.297169   \n",
            "48  심혈관 18시간                9      10          16  1.850382   8.543258   \n",
            "49  심혈관 18시간                9      20          16  1.908722   8.370706   \n",
            "50  심혈관 18시간                9      10          32  1.905626   8.567119   \n",
            "51  심혈관 18시간                9      20          32  1.967144   8.320213   \n",
            "52  심혈관 18시간                9      10          16  2.125677   8.425478   \n",
            "53  심혈관 18시간                9      20          16  1.923999   7.913888   \n",
            "54  심혈관 18시간                9      10          32  1.907577   7.935833   \n",
            "55  심혈관 18시간                9      20          32  1.819410   7.936579   \n",
            "56  심혈관 18시간                9      10          16  1.788158   7.926365   \n",
            "57  심혈관 18시간                9      20          16  1.931278   7.786698   \n",
            "58  심혈관 18시간                9      10          32  1.862306   7.885990   \n",
            "59  심혈관 18시간                9      20          32  1.841904   7.655480   \n",
            "\n",
            "        RMSE        R2  \n",
            "0   3.189792  0.095465  \n",
            "1   3.155195  0.114980  \n",
            "2   3.167376  0.108133  \n",
            "3   3.142337  0.122178  \n",
            "4   3.121718  0.156210  \n",
            "5   3.071785  0.182988  \n",
            "6   3.120382  0.156932  \n",
            "7   3.077380  0.180009  \n",
            "8   3.239034  0.136657  \n",
            "9   3.176851  0.169488  \n",
            "10  3.260896  0.124963  \n",
            "11  3.217908  0.147882  \n",
            "12  3.223943  0.125187  \n",
            "13  3.195208  0.140711  \n",
            "14  3.224507  0.124880  \n",
            "15  3.216315  0.129321  \n",
            "16  3.270376  0.141730  \n",
            "17  3.221978  0.166945  \n",
            "18  3.298577  0.126864  \n",
            "19  3.260037  0.147148  \n",
            "20  3.050286  0.122700  \n",
            "21  2.985568  0.159532  \n",
            "22  3.003727  0.149277  \n",
            "23  3.000524  0.151091  \n",
            "24  3.091976  0.135612  \n",
            "25  3.053813  0.156818  \n",
            "26  3.076803  0.144075  \n",
            "27  3.078537  0.143110  \n",
            "28  3.083593  0.131337  \n",
            "29  3.014718  0.169708  \n",
            "30  3.062923  0.142943  \n",
            "31  3.033623  0.159263  \n",
            "32  3.052841  0.142877  \n",
            "33  3.018835  0.161866  \n",
            "34  3.049082  0.144987  \n",
            "35  3.016880  0.162952  \n",
            "36  3.132523  0.157337  \n",
            "37  3.144707  0.150768  \n",
            "38  3.160823  0.142042  \n",
            "39  3.134441  0.156304  \n",
            "40  2.916342  0.196493  \n",
            "41  2.895452  0.207963  \n",
            "42  2.953987  0.175616  \n",
            "43  2.924867  0.191789  \n",
            "44  2.911236  0.188520  \n",
            "45  2.899291  0.195165  \n",
            "46  2.937431  0.173851  \n",
            "47  2.880481  0.205575  \n",
            "48  2.922885  0.205876  \n",
            "49  2.893217  0.221915  \n",
            "50  2.926964  0.203658  \n",
            "51  2.884478  0.226609  \n",
            "52  2.902667  0.168664  \n",
            "53  2.813163  0.219142  \n",
            "54  2.817061  0.216977  \n",
            "55  2.817194  0.216903  \n",
            "56  2.815380  0.201764  \n",
            "57  2.790466  0.215830  \n",
            "58  2.808200  0.205830  \n",
            "59  2.766854  0.229044  \n"
          ]
        },
        {
          "output_type": "stream",
          "name": "stderr",
          "text": [
            "\n"
          ]
        },
        {
          "output_type": "display_data",
          "data": {
            "text/plain": [
              "<Figure size 1000x500 with 1 Axes>"
            ],
            "image/png": "[encoded data removed]"
          },
          "metadata": {}
        }
      ]
    },
    {
      "cell_type": "markdown",
      "source": [
        "## 감염성"
      ],
      "metadata": {
        "id": "H0ra4cwgmFwe"
      }
    },
    {
      "cell_type": "code",
      "execution_count": null,
      "metadata": {
        "colab": {
          "base_uri": "https://localhost:8080/",
          "height": 1000
        },
        "id": "7mJ3IF3rMyRj",
        "outputId": "0fe90c42-c6f0-4cb5-fc14-a859306edb6b"
      },
      "outputs": [
        {
          "output_type": "stream",
          "name": "stdout",
          "text": [
            "\n",
            "Dataset: 감염성질환 6시간\n",
            "\n",
            "Sequence Length: 3\n"
          ]
        },
        {
          "output_type": "stream",
          "name": "stderr",
          "text": [
            "\rK-Fold Cross Validation:   0%|          | 0/5 [00:00<?, ?it/s]"
          ]
        },
        {
          "output_type": "stream",
          "name": "stdout",
          "text": [
            "\u001b[1m46/46\u001b[0m \u001b[32m━━━━━━━━━━━━━━━━━━━━\u001b[0m\u001b[37m\u001b[0m \u001b[1m0s\u001b[0m 4ms/step\n",
            "\u001b[1m46/46\u001b[0m \u001b[32m━━━━━━━━━━━━━━━━━━━━\u001b[0m\u001b[37m\u001b[0m \u001b[1m0s\u001b[0m 4ms/step\n",
            "\u001b[1m46/46\u001b[0m \u001b[32m━━━━━━━━━━━━━━━━━━━━\u001b[0m\u001b[37m\u001b[0m \u001b[1m0s\u001b[0m 6ms/step\n",
            "\u001b[1m46/46\u001b[0m \u001b[32m━━━━━━━━━━━━━━━━━━━━\u001b[0m\u001b[37m\u001b[0m \u001b[1m0s\u001b[0m 5ms/step\n"
          ]
        },
        {
          "output_type": "stream",
          "name": "stderr",
          "text": [
            "\rK-Fold Cross Validation:  20%|██        | 1/5 [01:39<06:39, 99.89s/it]"
          ]
        },
        {
          "output_type": "stream",
          "name": "stdout",
          "text": [
            "\u001b[1m46/46\u001b[0m \u001b[32m━━━━━━━━━━━━━━━━━━━━\u001b[0m\u001b[37m\u001b[0m \u001b[1m0s\u001b[0m 4ms/step\n",
            "\u001b[1m46/46\u001b[0m \u001b[32m━━━━━━━━━━━━━━━━━━━━\u001b[0m\u001b[37m\u001b[0m \u001b[1m1s\u001b[0m 8ms/step\n",
            "\u001b[1m46/46\u001b[0m \u001b[32m━━━━━━━━━━━━━━━━━━━━\u001b[0m\u001b[37m\u001b[0m \u001b[1m0s\u001b[0m 6ms/step\n",
            "\u001b[1m46/46\u001b[0m \u001b[32m━━━━━━━━━━━━━━━━━━━━\u001b[0m\u001b[37m\u001b[0m \u001b[1m0s\u001b[0m 4ms/step\n"
          ]
        },
        {
          "output_type": "stream",
          "name": "stderr",
          "text": [
            "\rK-Fold Cross Validation:  40%|████      | 2/5 [03:18<04:56, 98.99s/it]"
          ]
        },
        {
          "output_type": "stream",
          "name": "stdout",
          "text": [
            "\u001b[1m46/46\u001b[0m \u001b[32m━━━━━━━━━━━━━━━━━━━━\u001b[0m\u001b[37m\u001b[0m \u001b[1m0s\u001b[0m 5ms/step\n",
            "\u001b[1m46/46\u001b[0m \u001b[32m━━━━━━━━━━━━━━━━━━━━\u001b[0m\u001b[37m\u001b[0m \u001b[1m0s\u001b[0m 5ms/step\n",
            "\u001b[1m46/46\u001b[0m \u001b[32m━━━━━━━━━━━━━━━━━━━━\u001b[0m\u001b[37m\u001b[0m \u001b[1m0s\u001b[0m 4ms/step\n",
            "\u001b[1m46/46\u001b[0m \u001b[32m━━━━━━━━━━━━━━━━━━━━\u001b[0m\u001b[37m\u001b[0m \u001b[1m0s\u001b[0m 4ms/step\n"
          ]
        },
        {
          "output_type": "stream",
          "name": "stderr",
          "text": [
            "\rK-Fold Cross Validation:  60%|██████    | 3/5 [05:06<03:26, 103.32s/it]"
          ]
        },
        {
          "output_type": "stream",
          "name": "stdout",
          "text": [
            "\u001b[1m46/46\u001b[0m \u001b[32m━━━━━━━━━━━━━━━━━━━━\u001b[0m\u001b[37m\u001b[0m \u001b[1m0s\u001b[0m 4ms/step\n",
            "\u001b[1m46/46\u001b[0m \u001b[32m━━━━━━━━━━━━━━━━━━━━\u001b[0m\u001b[37m\u001b[0m \u001b[1m0s\u001b[0m 4ms/step\n",
            "\u001b[1m46/46\u001b[0m \u001b[32m━━━━━━━━━━━━━━━━━━━━\u001b[0m\u001b[37m\u001b[0m \u001b[1m0s\u001b[0m 4ms/step\n",
            "\u001b[1m46/46\u001b[0m \u001b[32m━━━━━━━━━━━━━━━━━━━━\u001b[0m\u001b[37m\u001b[0m \u001b[1m0s\u001b[0m 5ms/step\n"
          ]
        },
        {
          "output_type": "stream",
          "name": "stderr",
          "text": [
            "\rK-Fold Cross Validation:  80%|████████  | 4/5 [06:51<01:43, 103.80s/it]"
          ]
        },
        {
          "output_type": "stream",
          "name": "stdout",
          "text": [
            "\u001b[1m46/46\u001b[0m \u001b[32m━━━━━━━━━━━━━━━━━━━━\u001b[0m\u001b[37m\u001b[0m \u001b[1m1s\u001b[0m 8ms/step\n",
            "\u001b[1m46/46\u001b[0m \u001b[32m━━━━━━━━━━━━━━━━━━━━\u001b[0m\u001b[37m\u001b[0m \u001b[1m0s\u001b[0m 7ms/step\n",
            "\u001b[1m46/46\u001b[0m \u001b[32m━━━━━━━━━━━━━━━━━━━━\u001b[0m\u001b[37m\u001b[0m \u001b[1m0s\u001b[0m 7ms/step\n",
            "\u001b[1m46/46\u001b[0m \u001b[32m━━━━━━━━━━━━━━━━━━━━\u001b[0m\u001b[37m\u001b[0m \u001b[1m0s\u001b[0m 7ms/step\n"
          ]
        },
        {
          "output_type": "stream",
          "name": "stderr",
          "text": [
            "K-Fold Cross Validation: 100%|██████████| 5/5 [08:36<00:00, 103.39s/it]"
          ]
        },
        {
          "output_type": "stream",
          "name": "stdout",
          "text": [
            "\n",
            "Dataset: 감염성질환 12시간\n"
          ]
        },
        {
          "output_type": "stream",
          "name": "stderr",
          "text": [
            "\n"
          ]
        },
        {
          "output_type": "stream",
          "name": "stdout",
          "text": [
            "\n",
            "Sequence Length: 6\n"
          ]
        },
        {
          "output_type": "stream",
          "name": "stderr",
          "text": [
            "\rK-Fold Cross Validation:   0%|          | 0/5 [00:00<?, ?it/s]"
          ]
        },
        {
          "output_type": "stream",
          "name": "stdout",
          "text": [
            "\u001b[1m111/111\u001b[0m \u001b[32m━━━━━━━━━━━━━━━━━━━━\u001b[0m\u001b[37m\u001b[0m \u001b[1m0s\u001b[0m 3ms/step\n",
            "\u001b[1m111/111\u001b[0m \u001b[32m━━━━━━━━━━━━━━━━━━━━\u001b[0m\u001b[37m\u001b[0m \u001b[1m0s\u001b[0m 3ms/step\n",
            "\u001b[1m111/111\u001b[0m \u001b[32m━━━━━━━━━━━━━━━━━━━━\u001b[0m\u001b[37m\u001b[0m \u001b[1m0s\u001b[0m 3ms/step\n",
            "\u001b[1m111/111\u001b[0m \u001b[32m━━━━━━━━━━━━━━━━━━━━\u001b[0m\u001b[37m\u001b[0m \u001b[1m0s\u001b[0m 3ms/step\n"
          ]
        },
        {
          "output_type": "stream",
          "name": "stderr",
          "text": [
            "\rK-Fold Cross Validation:  20%|██        | 1/5 [04:14<16:59, 254.85s/it]"
          ]
        },
        {
          "output_type": "stream",
          "name": "stdout",
          "text": [
            "\u001b[1m111/111\u001b[0m \u001b[32m━━━━━━━━━━━━━━━━━━━━\u001b[0m\u001b[37m\u001b[0m \u001b[1m0s\u001b[0m 3ms/step\n",
            "\u001b[1m111/111\u001b[0m \u001b[32m━━━━━━━━━━━━━━━━━━━━\u001b[0m\u001b[37m\u001b[0m \u001b[1m0s\u001b[0m 3ms/step\n",
            "\u001b[1m111/111\u001b[0m \u001b[32m━━━━━━━━━━━━━━━━━━━━\u001b[0m\u001b[37m\u001b[0m \u001b[1m0s\u001b[0m 3ms/step\n",
            "\u001b[1m111/111\u001b[0m \u001b[32m━━━━━━━━━━━━━━━━━━━━\u001b[0m\u001b[37m\u001b[0m \u001b[1m0s\u001b[0m 3ms/step\n"
          ]
        },
        {
          "output_type": "stream",
          "name": "stderr",
          "text": [
            "\rK-Fold Cross Validation:  40%|████      | 2/5 [08:33<12:50, 256.86s/it]"
          ]
        },
        {
          "output_type": "stream",
          "name": "stdout",
          "text": [
            "\u001b[1m111/111\u001b[0m \u001b[32m━━━━━━━━━━━━━━━━━━━━\u001b[0m\u001b[37m\u001b[0m \u001b[1m0s\u001b[0m 3ms/step\n",
            "\u001b[1m111/111\u001b[0m \u001b[32m━━━━━━━━━━━━━━━━━━━━\u001b[0m\u001b[37m\u001b[0m \u001b[1m0s\u001b[0m 3ms/step\n",
            "\u001b[1m111/111\u001b[0m \u001b[32m━━━━━━━━━━━━━━━━━━━━\u001b[0m\u001b[37m\u001b[0m \u001b[1m0s\u001b[0m 3ms/step\n",
            "\u001b[1m111/111\u001b[0m \u001b[32m━━━━━━━━━━━━━━━━━━━━\u001b[0m\u001b[37m\u001b[0m \u001b[1m0s\u001b[0m 3ms/step\n"
          ]
        },
        {
          "output_type": "stream",
          "name": "stderr",
          "text": [
            "\rK-Fold Cross Validation:  60%|██████    | 3/5 [12:53<08:37, 258.51s/it]"
          ]
        },
        {
          "output_type": "stream",
          "name": "stdout",
          "text": [
            "\u001b[1m111/111\u001b[0m \u001b[32m━━━━━━━━━━━━━━━━━━━━\u001b[0m\u001b[37m\u001b[0m \u001b[1m0s\u001b[0m 2ms/step\n",
            "\u001b[1m111/111\u001b[0m \u001b[32m━━━━━━━━━━━━━━━━━━━━\u001b[0m\u001b[37m\u001b[0m \u001b[1m1s\u001b[0m 4ms/step\n",
            "\u001b[1m111/111\u001b[0m \u001b[32m━━━━━━━━━━━━━━━━━━━━\u001b[0m\u001b[37m\u001b[0m \u001b[1m0s\u001b[0m 2ms/step\n",
            "\u001b[1m111/111\u001b[0m \u001b[32m━━━━━━━━━━━━━━━━━━━━\u001b[0m\u001b[37m\u001b[0m \u001b[1m0s\u001b[0m 2ms/step\n"
          ]
        },
        {
          "output_type": "stream",
          "name": "stderr",
          "text": [
            "\rK-Fold Cross Validation:  80%|████████  | 4/5 [17:02<04:14, 254.75s/it]"
          ]
        },
        {
          "output_type": "stream",
          "name": "stdout",
          "text": [
            "\u001b[1m111/111\u001b[0m \u001b[32m━━━━━━━━━━━━━━━━━━━━\u001b[0m\u001b[37m\u001b[0m \u001b[1m1s\u001b[0m 5ms/step\n",
            "\u001b[1m111/111\u001b[0m \u001b[32m━━━━━━━━━━━━━━━━━━━━\u001b[0m\u001b[37m\u001b[0m \u001b[1m1s\u001b[0m 5ms/step\n",
            "\u001b[1m111/111\u001b[0m \u001b[32m━━━━━━━━━━━━━━━━━━━━\u001b[0m\u001b[37m\u001b[0m \u001b[1m1s\u001b[0m 4ms/step\n",
            "\u001b[1m111/111\u001b[0m \u001b[32m━━━━━━━━━━━━━━━━━━━━\u001b[0m\u001b[37m\u001b[0m \u001b[1m1s\u001b[0m 4ms/step\n"
          ]
        },
        {
          "output_type": "stream",
          "name": "stderr",
          "text": [
            "K-Fold Cross Validation: 100%|██████████| 5/5 [20:48<00:00, 249.65s/it]"
          ]
        },
        {
          "output_type": "stream",
          "name": "stdout",
          "text": [
            "\n",
            "Dataset: 감염성질환 18시간\n"
          ]
        },
        {
          "output_type": "stream",
          "name": "stderr",
          "text": [
            "\n"
          ]
        },
        {
          "output_type": "stream",
          "name": "stdout",
          "text": [
            "\n",
            "Sequence Length: 9\n"
          ]
        },
        {
          "output_type": "stream",
          "name": "stderr",
          "text": [
            "\rK-Fold Cross Validation:   0%|          | 0/5 [00:00<?, ?it/s]"
          ]
        },
        {
          "output_type": "stream",
          "name": "stdout",
          "text": [
            "\u001b[1m171/171\u001b[0m \u001b[32m━━━━━━━━━━━━━━━━━━━━\u001b[0m\u001b[37m\u001b[0m \u001b[1m1s\u001b[0m 6ms/step\n",
            "\u001b[1m171/171\u001b[0m \u001b[32m━━━━━━━━━━━━━━━━━━━━\u001b[0m\u001b[37m\u001b[0m \u001b[1m1s\u001b[0m 5ms/step\n",
            "\u001b[1m171/171\u001b[0m \u001b[32m━━━━━━━━━━━━━━━━━━━━\u001b[0m\u001b[37m\u001b[0m \u001b[1m1s\u001b[0m 4ms/step\n",
            "\u001b[1m171/171\u001b[0m \u001b[32m━━━━━━━━━━━━━━━━━━━━\u001b[0m\u001b[37m\u001b[0m \u001b[1m1s\u001b[0m 4ms/step\n"
          ]
        },
        {
          "output_type": "stream",
          "name": "stderr",
          "text": [
            "\rK-Fold Cross Validation:  20%|██        | 1/5 [07:16<29:07, 436.92s/it]"
          ]
        },
        {
          "output_type": "stream",
          "name": "stdout",
          "text": [
            "\u001b[1m171/171\u001b[0m \u001b[32m━━━━━━━━━━━━━━━━━━━━\u001b[0m\u001b[37m\u001b[0m \u001b[1m1s\u001b[0m 3ms/step\n",
            "\u001b[1m171/171\u001b[0m \u001b[32m━━━━━━━━━━━━━━━━━━━━\u001b[0m\u001b[37m\u001b[0m \u001b[1m1s\u001b[0m 4ms/step\n",
            "\u001b[1m171/171\u001b[0m \u001b[32m━━━━━━━━━━━━━━━━━━━━\u001b[0m\u001b[37m\u001b[0m \u001b[1m1s\u001b[0m 4ms/step\n",
            "\u001b[1m171/171\u001b[0m \u001b[32m━━━━━━━━━━━━━━━━━━━━\u001b[0m\u001b[37m\u001b[0m \u001b[1m1s\u001b[0m 4ms/step\n"
          ]
        },
        {
          "output_type": "stream",
          "name": "stderr",
          "text": [
            "\rK-Fold Cross Validation:  40%|████      | 2/5 [14:35<21:54, 438.11s/it]"
          ]
        },
        {
          "output_type": "stream",
          "name": "stdout",
          "text": [
            "\u001b[1m171/171\u001b[0m \u001b[32m━━━━━━━━━━━━━━━━━━━━\u001b[0m\u001b[37m\u001b[0m \u001b[1m1s\u001b[0m 3ms/step\n",
            "\u001b[1m171/171\u001b[0m \u001b[32m━━━━━━━━━━━━━━━━━━━━\u001b[0m\u001b[37m\u001b[0m \u001b[1m1s\u001b[0m 4ms/step\n",
            "\u001b[1m171/171\u001b[0m \u001b[32m━━━━━━━━━━━━━━━━━━━━\u001b[0m\u001b[37m\u001b[0m \u001b[1m1s\u001b[0m 3ms/step\n",
            "\u001b[1m171/171\u001b[0m \u001b[32m━━━━━━━━━━━━━━━━━━━━\u001b[0m\u001b[37m\u001b[0m \u001b[1m1s\u001b[0m 4ms/step\n"
          ]
        },
        {
          "output_type": "stream",
          "name": "stderr",
          "text": [
            "\rK-Fold Cross Validation:  60%|██████    | 3/5 [21:53<14:36, 438.08s/it]"
          ]
        },
        {
          "output_type": "stream",
          "name": "stdout",
          "text": [
            "\u001b[1m171/171\u001b[0m \u001b[32m━━━━━━━━━━━━━━━━━━━━\u001b[0m\u001b[37m\u001b[0m \u001b[1m1s\u001b[0m 4ms/step\n",
            "\u001b[1m171/171\u001b[0m \u001b[32m━━━━━━━━━━━━━━━━━━━━\u001b[0m\u001b[37m\u001b[0m \u001b[1m1s\u001b[0m 4ms/step\n",
            "\u001b[1m171/171\u001b[0m \u001b[32m━━━━━━━━━━━━━━━━━━━━\u001b[0m\u001b[37m\u001b[0m \u001b[1m1s\u001b[0m 4ms/step\n",
            "\u001b[1m171/171\u001b[0m \u001b[32m━━━━━━━━━━━━━━━━━━━━\u001b[0m\u001b[37m\u001b[0m \u001b[1m1s\u001b[0m 3ms/step\n"
          ]
        },
        {
          "output_type": "stream",
          "name": "stderr",
          "text": [
            "\rK-Fold Cross Validation:  80%|████████  | 4/5 [29:11<07:17, 437.99s/it]"
          ]
        },
        {
          "output_type": "stream",
          "name": "stdout",
          "text": [
            "\u001b[1m171/171\u001b[0m \u001b[32m━━━━━━━━━━━━━━━━━━━━\u001b[0m\u001b[37m\u001b[0m \u001b[1m1s\u001b[0m 5ms/step\n",
            "\u001b[1m171/171\u001b[0m \u001b[32m━━━━━━━━━━━━━━━━━━━━\u001b[0m\u001b[37m\u001b[0m \u001b[1m1s\u001b[0m 4ms/step\n",
            "\u001b[1m171/171\u001b[0m \u001b[32m━━━━━━━━━━━━━━━━━━━━\u001b[0m\u001b[37m\u001b[0m \u001b[1m1s\u001b[0m 4ms/step\n",
            "\u001b[1m171/171\u001b[0m \u001b[32m━━━━━━━━━━━━━━━━━━━━\u001b[0m\u001b[37m\u001b[0m \u001b[1m1s\u001b[0m 4ms/step\n"
          ]
        },
        {
          "output_type": "stream",
          "name": "stderr",
          "text": [
            "K-Fold Cross Validation: 100%|██████████| 5/5 [36:29<00:00, 437.94s/it]\n"
          ]
        },
        {
          "output_type": "stream",
          "name": "stdout",
          "text": [
            "\n",
            "All Evaluation Results:\n",
            "       Dataset  Sequence Length  Epochs  Batch Size       MAE        MSE  \\\n",
            "0    감염성질환 6시간                3      10          16  2.366114   9.572523   \n",
            "1    감염성질환 6시간                3      20          16  2.406165   9.398369   \n",
            "2    감염성질환 6시간                3      10          32  2.310005   9.676424   \n",
            "3    감염성질환 6시간                3      20          32  2.412021   9.443616   \n",
            "4    감염성질환 6시간                3      10          16  2.361162   9.323903   \n",
            "5    감염성질환 6시간                3      20          16  2.492784   9.473813   \n",
            "6    감염성질환 6시간                3      10          32  2.307162   9.347348   \n",
            "7    감염성질환 6시간                3      20          32  2.324392   9.295646   \n",
            "8    감염성질환 6시간                3      10          16  2.378906   9.256842   \n",
            "9    감염성질환 6시간                3      20          16  2.339928   9.133096   \n",
            "10   감염성질환 6시간                3      10          32  2.502388   9.452207   \n",
            "11   감염성질환 6시간                3      20          32  2.285603   9.474745   \n",
            "12   감염성질환 6시간                3      10          16  2.481284   9.985647   \n",
            "13   감염성질환 6시간                3      20          16  2.458168   9.779656   \n",
            "14   감염성질환 6시간                3      10          32  2.481384  10.058564   \n",
            "15   감염성질환 6시간                3      20          32  2.598177  10.045248   \n",
            "16   감염성질환 6시간                3      10          16  2.379866   9.584834   \n",
            "17   감염성질환 6시간                3      20          16  2.382590   9.558707   \n",
            "18   감염성질환 6시간                3      10          32  2.488917   9.557968   \n",
            "19   감염성질환 6시간                3      20          32  2.417146   9.505070   \n",
            "20  감염성질환 12시간                6      10          16  2.286048   8.469304   \n",
            "21  감염성질환 12시간                6      20          16  2.327341   8.586259   \n",
            "22  감염성질환 12시간                6      10          32  2.219008   8.573517   \n",
            "23  감염성질환 12시간                6      20          32  2.294125   8.517038   \n",
            "24  감염성질환 12시간                6      10          16  2.243868   9.089161   \n",
            "25  감염성질환 12시간                6      20          16  2.369845   8.987058   \n",
            "26  감염성질환 12시간                6      10          32  2.272103   8.973270   \n",
            "27  감염성질환 12시간                6      20          32  2.309587   8.937075   \n",
            "28  감염성질환 12시간                6      10          16  2.254449   8.893296   \n",
            "29  감염성질환 12시간                6      20          16  2.298572   8.818667   \n",
            "30  감염성질환 12시간                6      10          32  2.397911   9.042423   \n",
            "31  감염성질환 12시간                6      20          32  2.344079   8.899949   \n",
            "32  감염성질환 12시간                6      10          16  2.300353   8.583981   \n",
            "33  감염성질환 12시간                6      20          16  2.181980   8.535204   \n",
            "34  감염성질환 12시간                6      10          32  2.297961   8.591157   \n",
            "35  감염성질환 12시간                6      20          32  2.222998   8.406409   \n",
            "36  감염성질환 12시간                6      10          16  2.340287   8.872268   \n",
            "37  감염성질환 12시간                6      20          16  2.329812   8.808474   \n",
            "38  감염성질환 12시간                6      10          32  2.251486   9.115207   \n",
            "39  감염성질환 12시간                6      20          32  2.267335   8.957106   \n",
            "40  감염성질환 18시간                9      10          16  2.141025   7.854412   \n",
            "41  감염성질환 18시간                9      20          16  2.171742   7.730982   \n",
            "42  감염성질환 18시간                9      10          32  2.155667   7.875916   \n",
            "43  감염성질환 18시간                9      20          32  2.206960   7.810202   \n",
            "44  감염성질환 18시간                9      10          16  2.189150   8.406227   \n",
            "45  감염성질환 18시간                9      20          16  2.196644   8.222744   \n",
            "46  감염성질환 18시간                9      10          32  2.244235   8.390428   \n",
            "47  감염성질환 18시간                9      20          32  2.215727   8.250562   \n",
            "48  감염성질환 18시간                9      10          16  2.239057   8.097652   \n",
            "49  감염성질환 18시간                9      20          16  2.169022   7.929643   \n",
            "50  감염성질환 18시간                9      10          32  2.298617   8.109951   \n",
            "51  감염성질환 18시간                9      20          32  2.149405   7.960071   \n",
            "52  감염성질환 18시간                9      10          16  2.297009   8.525660   \n",
            "53  감염성질환 18시간                9      20          16  2.338324   8.508957   \n",
            "54  감염성질환 18시간                9      10          32  2.234564   8.470463   \n",
            "55  감염성질환 18시간                9      20          32  2.207898   8.351970   \n",
            "56  감염성질환 18시간                9      10          16  2.289055   8.318188   \n",
            "57  감염성질환 18시간                9      20          16  2.182483   8.107455   \n",
            "58  감염성질환 18시간                9      10          32  2.172540   8.264717   \n",
            "59  감염성질환 18시간                9      20          32  2.215877   8.198322   \n",
            "\n",
            "        RMSE        R2  \n",
            "0   3.093949  0.111566  \n",
            "1   3.065676  0.127729  \n",
            "2   3.110695  0.101923  \n",
            "3   3.073047  0.123530  \n",
            "4   3.053507  0.112840  \n",
            "5   3.077956  0.098576  \n",
            "6   3.057343  0.110609  \n",
            "7   3.048876  0.115529  \n",
            "8   3.042506  0.104411  \n",
            "9   3.022101  0.116383  \n",
            "10  3.074444  0.085509  \n",
            "11  3.078107  0.083329  \n",
            "12  3.160007  0.129644  \n",
            "13  3.127244  0.147598  \n",
            "14  3.171524  0.123289  \n",
            "15  3.169424  0.124449  \n",
            "16  3.095938  0.145179  \n",
            "17  3.091716  0.147509  \n",
            "18  3.091596  0.147575  \n",
            "19  3.083029  0.152292  \n",
            "20  2.910207  0.181589  \n",
            "21  2.930232  0.170287  \n",
            "22  2.928057  0.171519  \n",
            "23  2.918397  0.176976  \n",
            "24  3.014824  0.112076  \n",
            "25  2.997842  0.122050  \n",
            "26  2.995542  0.123397  \n",
            "27  2.989494  0.126933  \n",
            "28  2.982163  0.157956  \n",
            "29  2.969624  0.165022  \n",
            "30  3.007062  0.143836  \n",
            "31  2.983278  0.157326  \n",
            "32  2.929843  0.130710  \n",
            "33  2.921507  0.135649  \n",
            "34  2.931068  0.129983  \n",
            "35  2.899381  0.148692  \n",
            "36  2.978635  0.131442  \n",
            "37  2.967907  0.137688  \n",
            "38  3.019140  0.107660  \n",
            "39  2.992842  0.123137  \n",
            "40  2.802572  0.167199  \n",
            "41  2.780464  0.180286  \n",
            "42  2.806406  0.164919  \n",
            "43  2.794674  0.171887  \n",
            "44  2.899349  0.155153  \n",
            "45  2.867533  0.173594  \n",
            "46  2.896624  0.156741  \n",
            "47  2.872379  0.170798  \n",
            "48  2.845637  0.147840  \n",
            "49  2.815962  0.165520  \n",
            "50  2.847798  0.146546  \n",
            "51  2.821360  0.162318  \n",
            "52  2.919873  0.150899  \n",
            "53  2.917012  0.152563  \n",
            "54  2.910406  0.156396  \n",
            "55  2.889978  0.168198  \n",
            "56  2.884127  0.143456  \n",
            "57  2.847359  0.165156  \n",
            "58  2.874842  0.148963  \n",
            "59  2.863271  0.155799  \n"
          ]
        },
        {
          "output_type": "display_data",
          "data": {
            "text/plain": [
              "<Figure size 1000x500 with 1 Axes>"
            ],
            "image/png": "[encoded data removed]"
          },
          "metadata": {}
        }
      ],
      "source": [
        "import numpy as np\n",
        "import pandas as pd\n",
        "from sklearn.preprocessing import MinMaxScaler\n",
        "from sklearn.metrics import mean_absolute_error, mean_squared_error, r2_score\n",
        "from sklearn.model_selection import KFold, ParameterGrid\n",
        "import matplotlib.pyplot as plt\n",
        "import tensorflow as tf\n",
        "from tensorflow.keras.models import Model\n",
        "from tensorflow.keras.layers import Input, Dense, MultiHeadAttention, LayerNormalization, Dropout, GlobalAveragePooling1D\n",
        "from tqdm import tqdm\n",
        "\n",
        "# 데이터셋 경로 정보\n",
        "DATASETS = [\n",
        "    {\n",
        "        \"name\": \"감염성질환 6시간\",\n",
        "        \"target_path\": \"/content/drive/MyDrive/DA_dataset/infection_target_in_6hour.csv\",\n",
        "        \"dataset_path\": \"/content/drive/MyDrive/DA_dataset/infection_dataset_in_6hour.csv\",\n",
        "        \"sequence_length\": 3\n",
        "    },\n",
        "    {\n",
        "        \"name\": \"감염성질환 12시간\",\n",
        "        \"target_path\": \"/content/drive/MyDrive/DA_dataset/infection_target_in_12hour.csv\",\n",
        "        \"dataset_path\": \"/content/drive/MyDrive/DA_dataset/infection_dataset_in_12hour.csv\",\n",
        "        \"sequence_length\": 6\n",
        "    },\n",
        "    {\n",
        "        \"name\": \"감염성질환 18시간\",\n",
        "        \"target_path\": \"/content/drive/MyDrive/DA_dataset/infection_target_in_18hour.csv\",\n",
        "        \"dataset_path\": \"/content/drive/MyDrive/DA_dataset/infection_dataset_in_18hour.csv\",\n",
        "        \"sequence_length\": 9\n",
        "    },\n",
        "]\n",
        "\n",
        "# 하이퍼파라미터 설정\n",
        "epochs = [10, 20]  # Epoch 수 변경 가능\n",
        "batch_sizes = [16, 32]  # Batch size 변경 가능\n",
        "param_grid = {'epochs': epochs, 'batch_size': batch_sizes}\n",
        "parameter_combinations = list(ParameterGrid(param_grid))\n",
        "\n",
        "# 모델 학습 및 평가 수행\n",
        "all_evaluation_results = []\n",
        "\n",
        "def create_tensor_by_stay_id(data, sequence_length):\n",
        "    grouped = data.groupby('stay_id')\n",
        "    X_list, y_list, stay_ids = [], [], []\n",
        "    for stay_id, group in grouped:\n",
        "        values = group.drop(columns=['stay_id']).values\n",
        "        features = values[:, :-1]  # 피처\n",
        "        los_values = values[:, -1]  # 타겟 값\n",
        "\n",
        "        for i in range(len(features) - sequence_length + 1):\n",
        "            X_list.append(features[i:i+sequence_length])\n",
        "            y_list.append(los_values[i+sequence_length-1])\n",
        "            stay_ids.append(stay_id)\n",
        "    return np.array(X_list), np.array(y_list), stay_ids\n",
        "\n",
        "kf = KFold(n_splits=5, shuffle=True, random_state=42)\n",
        "\n",
        "for dataset in DATASETS:\n",
        "    print(f\"\\nDataset: {dataset['name']}\")\n",
        "\n",
        "    # 데이터 준비\n",
        "    df_circ_target = pd.read_csv(dataset['target_path'])\n",
        "    df_circ_dataset = pd.read_csv(dataset['dataset_path'])\n",
        "\n",
        "    # Feature와 Target 결합\n",
        "    merged_dataset = pd.merge(df_circ_dataset, df_circ_target, on='stay_id')\n",
        "\n",
        "    # Feature와 Target 분리\n",
        "    X = merged_dataset.drop(columns=[\"stay_id\", \"los\"])\n",
        "    y = merged_dataset[\"los\"]\n",
        "\n",
        "    # 데이터 스케일링\n",
        "    scaler = MinMaxScaler()\n",
        "    X_scaled = scaler.fit_transform(X)\n",
        "    X_scaled_df = pd.DataFrame(X_scaled, columns=X.columns)\n",
        "\n",
        "    # stay_id 및 los 컬럼 다시 추가\n",
        "    X_scaled_df['stay_id'] = merged_dataset['stay_id']\n",
        "    X_scaled_df['los'] = y\n",
        "\n",
        "    # 시퀀스 길이 설정\n",
        "    sequence_length = dataset['sequence_length']\n",
        "    print(f\"\\nSequence Length: {sequence_length}\")\n",
        "\n",
        "    # 텐서 생성\n",
        "    X_tensor, y_tensor, stay_ids = create_tensor_by_stay_id(X_scaled_df, sequence_length)\n",
        "\n",
        "    if len(X_tensor) == 0 or len(y_tensor) == 0:\n",
        "        print(f\"Skipping sequence length {sequence_length} due to insufficient data.\")\n",
        "        continue\n",
        "\n",
        "    # K-Fold 교차 검증 수행\n",
        "    for train_index, test_index in tqdm(kf.split(X_tensor), total=kf.get_n_splits(), desc='K-Fold Cross Validation'):\n",
        "        X_train, X_test = X_tensor[train_index], X_tensor[test_index]\n",
        "        y_train, y_test = y_tensor[train_index], y_tensor[test_index]\n",
        "\n",
        "        for params in parameter_combinations:\n",
        "            epoch = params['epochs']\n",
        "            batch_size = params['batch_size']\n",
        "\n",
        "            # 트랜스포머 모델 정의\n",
        "            feature_dim = X_train.shape[2]\n",
        "            inputs = Input(shape=(sequence_length, feature_dim))\n",
        "\n",
        "            # 트랜스포머 레이어 생성 및 모델 구성\n",
        "            attention_output = MultiHeadAttention(num_heads=4, key_dim=feature_dim)(inputs, inputs)\n",
        "            attention_output = LayerNormalization(epsilon=1e-6)(attention_output + inputs)\n",
        "            attention_output = Dropout(0.1)(attention_output)\n",
        "\n",
        "            # 출력 레이어 정의\n",
        "            pooled_output = GlobalAveragePooling1D()(attention_output)\n",
        "            output = Dense(1)(pooled_output)\n",
        "            transformer_model = Model(inputs=inputs, outputs=output)\n",
        "\n",
        "            # 모델 컴파일\n",
        "            transformer_model.compile(optimizer='adam', loss='mse', metrics=['mae'])\n",
        "\n",
        "            # 모델 학습\n",
        "            if len(X_train) == 0 or len(y_train) == 0:\n",
        "                print(f\"Skipping training due to insufficient training data for sequence length {sequence_length}.\")\n",
        "                continue\n",
        "\n",
        "            history = transformer_model.fit(\n",
        "                X_train, y_train,\n",
        "                epochs=epoch,\n",
        "                batch_size=batch_size,\n",
        "                validation_data=(X_test, y_test),\n",
        "                verbose=0\n",
        "            )\n",
        "\n",
        "            # 모델 평가\n",
        "            def evaluate_model(model, X_test, y_test):\n",
        "                if len(X_test) == 0 or len(y_test) == 0:\n",
        "                    return None, None, None, None\n",
        "                predictions = model.predict(X_test).flatten()\n",
        "                y_test = y_test.flatten()\n",
        "                mae = mean_absolute_error(y_test, predictions)\n",
        "                mse = mean_squared_error(y_test, predictions)\n",
        "                rmse = np.sqrt(mse)\n",
        "                r2 = r2_score(y_test, predictions)\n",
        "                return mae, mse, rmse, r2\n",
        "\n",
        "            mae, mse, rmse, r2 = evaluate_model(transformer_model, X_test, y_test)\n",
        "            if mae is None:\n",
        "                print(f\"Skipping evaluation due to insufficient test data for sequence length {sequence_length}.\")\n",
        "                continue\n",
        "\n",
        "            evaluation_results = {\n",
        "                'Dataset': dataset['name'],\n",
        "                'Sequence Length': sequence_length,\n",
        "                'Epochs': epoch,\n",
        "                'Batch Size': batch_size,\n",
        "                'MAE': mae,\n",
        "                'MSE': mse,\n",
        "                'RMSE': rmse,\n",
        "                'R2': r2\n",
        "            }\n",
        "            all_evaluation_results.append(evaluation_results)\n",
        "\n",
        "# 모든 평가 결과 출력\n",
        "evaluation_df = pd.DataFrame(all_evaluation_results)\n",
        "print(\"\\nAll Evaluation Results:\")\n",
        "print(evaluation_df)\n",
        "\n",
        "# 학습 결과 시각화\n",
        "if 'history' in locals() and len(history.history['val_loss']) > 0:\n",
        "    plt.figure(figsize=(10, 5))\n",
        "    plt.plot(history.history['val_loss'], label='Validation Loss')\n",
        "    plt.plot(history.history['loss'], label='Training Loss')\n",
        "    plt.xlabel('Epochs')\n",
        "    plt.ylabel('Loss')\n",
        "    plt.legend()\n",
        "    plt.show()\n"
      ]
    }
  ]
}